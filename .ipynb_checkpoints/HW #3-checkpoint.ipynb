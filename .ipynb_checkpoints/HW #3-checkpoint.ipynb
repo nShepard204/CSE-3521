{
 "cells": [
  {
   "cell_type": "code",
   "execution_count": 2,
   "id": "992fb111-1c34-41cd-bcf4-a128c2c8c554",
   "metadata": {
    "tags": []
   },
   "outputs": [],
   "source": [
    "from sklearn.neighbors import KernelDensity\n",
    "import numpy as np\n",
    "from matplotlib import pyplot as plt\n",
    "import collections\n",
    "import re\n",
    "import pandas as pd\n",
    "from functools import reduce"
   ]
  },
  {
   "cell_type": "markdown",
   "id": "ac0898b6-fae7-4295-9dc4-d49a33aabab8",
   "metadata": {
    "tags": []
   },
   "source": [
    "## HW #2 Question 1.1- Get BoWs"
   ]
  },
  {
   "cell_type": "code",
   "execution_count": 22,
   "id": "39801ebf-5bfc-4077-8834-59d8be1ffa08",
   "metadata": {},
   "outputs": [
    {
     "data": {
      "text/html": [
       "<div>\n",
       "<style scoped>\n",
       "    .dataframe tbody tr th:only-of-type {\n",
       "        vertical-align: middle;\n",
       "    }\n",
       "\n",
       "    .dataframe tbody tr th {\n",
       "        vertical-align: top;\n",
       "    }\n",
       "\n",
       "    .dataframe thead th {\n",
       "        text-align: right;\n",
       "    }\n",
       "</style>\n",
       "<table border=\"1\" class=\"dataframe\">\n",
       "  <thead>\n",
       "    <tr style=\"text-align: right;\">\n",
       "      <th></th>\n",
       "      <th>bank</th>\n",
       "      <th>basketball</th>\n",
       "      <th>captial</th>\n",
       "      <th>cincinnati</th>\n",
       "      <th>columbus</th>\n",
       "      <th>hockey</th>\n",
       "      <th>professional</th>\n",
       "      <th>sacramento</th>\n",
       "      <th>state</th>\n",
       "      <th>team</th>\n",
       "    </tr>\n",
       "  </thead>\n",
       "  <tbody>\n",
       "    <tr>\n",
       "      <th>0</th>\n",
       "      <td>0</td>\n",
       "      <td>1</td>\n",
       "      <td>1</td>\n",
       "      <td>0</td>\n",
       "      <td>0</td>\n",
       "      <td>0</td>\n",
       "      <td>1</td>\n",
       "      <td>1</td>\n",
       "      <td>1</td>\n",
       "      <td>1</td>\n",
       "    </tr>\n",
       "    <tr>\n",
       "      <th>1</th>\n",
       "      <td>0</td>\n",
       "      <td>1</td>\n",
       "      <td>1</td>\n",
       "      <td>0</td>\n",
       "      <td>1</td>\n",
       "      <td>1</td>\n",
       "      <td>2</td>\n",
       "      <td>0</td>\n",
       "      <td>1</td>\n",
       "      <td>2</td>\n",
       "    </tr>\n",
       "    <tr>\n",
       "      <th>2</th>\n",
       "      <td>1</td>\n",
       "      <td>0</td>\n",
       "      <td>1</td>\n",
       "      <td>1</td>\n",
       "      <td>0</td>\n",
       "      <td>0</td>\n",
       "      <td>1</td>\n",
       "      <td>0</td>\n",
       "      <td>0</td>\n",
       "      <td>1</td>\n",
       "    </tr>\n",
       "  </tbody>\n",
       "</table>\n",
       "</div>"
      ],
      "text/plain": [
       "   bank  basketball  captial  cincinnati  columbus  hockey  professional  \\\n",
       "0     0           1        1           0         0       0             1   \n",
       "1     0           1        1           0         1       1             2   \n",
       "2     1           0        1           1         0       0             1   \n",
       "\n",
       "   sacramento  state  team  \n",
       "0           1      1     1  \n",
       "1           0      1     2  \n",
       "2           0      0     1  "
      ]
     },
     "execution_count": 22,
     "metadata": {},
     "output_type": "execute_result"
    }
   ],
   "source": [
    "str_A = 'sacramento is a state captial and it has a professional basketball team'\n",
    "str_B = 'Columbus is a state captial and it has a professional hockey team by no professional basketball team'\n",
    "str_C = 'the captial bank at Cincinnati has a professional team'\n",
    "\n",
    "from sklearn.feature_extraction.text import CountVectorizer\n",
    "vectorizer = CountVectorizer(stop_words='english', token_pattern=u\"(?u)\\\\b\\\\w+\\\\b\") ## Why is this needed?\n",
    "#print(vectorizer.get_feature_names())\n",
    "X = vectorizer.fit_transform([str_A, str_B, str_C])\n",
    "bow_df_short = pd.DataFrame(X.toarray(),columns=vectorizer.get_feature_names_out())\n",
    "bow_df_short.head()"
   ]
  },
  {
   "cell_type": "markdown",
   "id": "b82fdc19-546e-4920-8eb3-9366a70bc575",
   "metadata": {},
   "source": [
    "## HW #2 Question 1.2 - L1 Distance"
   ]
  },
  {
   "cell_type": "code",
   "execution_count": null,
   "id": "33dfef49-ebaf-484e-b8a2-737b5518c909",
   "metadata": {},
   "outputs": [],
   "source": []
  }
 ],
 "metadata": {
  "kernelspec": {
   "display_name": "Python 3 (ipykernel)",
   "language": "python",
   "name": "python3"
  },
  "language_info": {
   "codemirror_mode": {
    "name": "ipython",
    "version": 3
   },
   "file_extension": ".py",
   "mimetype": "text/x-python",
   "name": "python",
   "nbconvert_exporter": "python",
   "pygments_lexer": "ipython3",
   "version": "3.9.10"
  }
 },
 "nbformat": 4,
 "nbformat_minor": 5
}
