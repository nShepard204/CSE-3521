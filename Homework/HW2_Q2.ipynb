{
 "cells": [
  {
   "cell_type": "code",
   "execution_count": 29,
   "id": "066e0896-bf4b-45c2-bede-b6e80bb495ff",
   "metadata": {
    "tags": []
   },
   "outputs": [],
   "source": [
    "from sklearn.neighbors import KernelDensity\n",
    "import numpy as np\n",
    "from matplotlib import pyplot as plt\n",
    "import collections\n",
    "import re\n",
    "import pandas as pd\n",
    "from functools import reduce"
   ]
  },
  {
   "cell_type": "markdown",
   "id": "065661ca",
   "metadata": {},
   "source": [
    "## Histogram bullshit"
   ]
  },
  {
   "cell_type": "code",
   "execution_count": 30,
   "id": "bcf4efc4",
   "metadata": {},
   "outputs": [],
   "source": [
    "dataset_A = np.array([1.2, 1.4, 1.6, 1.8, 3.2, 3.4, 3.6, 3.8]).reshape(-1, 1)\n",
    "dataset_B = np.array([0.6, 0.8, 2.2, 2.4, 2.6, 2.8, 4.2, 4.4]).reshape(-1, 1)\n",
    "#bins=[0, 1, 2, 3, 4, 5]\n",
    "bins=[0.5, 1.5, 2.5, 3.5, 4.5]\n",
    "#bins=[.5, 1, 1.5, 2, 2.5, 3, 3.5, 4, 4.5]"
   ]
  },
  {
   "cell_type": "code",
   "execution_count": 31,
   "id": "6a72d915",
   "metadata": {},
   "outputs": [
    {
     "data": {
      "image/png": "[encoded data removed]",
      "text/plain": [
       "<Figure size 720x504 with 1 Axes>"
      ]
     },
     "metadata": {
      "needs_background": "light"
     },
     "output_type": "display_data"
    }
   ],
   "source": [
    "fig_A, ax_A = plt.subplots(figsize=(10, 7))\n",
    "counts_A, bins_A, bars_A = ax_A.hist(dataset_A, bins=bins)\n"
   ]
  },
  {
   "cell_type": "code",
   "execution_count": 32,
   "id": "6fb18cdc",
   "metadata": {},
   "outputs": [
    {
     "data": {
      "image/png": "[encoded data removed]",
      "text/plain": [
       "<Figure size 720x504 with 1 Axes>"
      ]
     },
     "metadata": {
      "needs_background": "light"
     },
     "output_type": "display_data"
    }
   ],
   "source": [
    "fig_B, ax_B = plt.subplots(figsize=(10, 7))\n",
    "counts_B, bins_B, bars_B = ax_B.hist(dataset_B, bins=bins)"
   ]
  },
  {
   "cell_type": "code",
   "execution_count": 33,
   "id": "e513f1a4",
   "metadata": {},
   "outputs": [
    {
     "data": {
      "text/plain": [
       "array([[1.],\n",
       "       [1.],\n",
       "       [1.],\n",
       "       [1.]])"
      ]
     },
     "execution_count": 33,
     "metadata": {},
     "output_type": "execute_result"
    }
   ],
   "source": [
    "# Handling A Dataset\n",
    "vector_A = pd.DataFrame(counts_A)\n",
    "norm_A = np.linalg.norm(vector_A.values, axis=1, ord=1)\n",
    "normed_matrix_A = vector_A.divide(norm_A, axis='rows')\n",
    "normed_vector_A = np.nan_to_num(normed_matrix_A.to_numpy())\n",
    "normed_vector_A"
   ]
  },
  {
   "cell_type": "code",
   "execution_count": 34,
   "id": "2dd79092",
   "metadata": {},
   "outputs": [
    {
     "data": {
      "text/plain": [
       "array([[1.],\n",
       "       [1.],\n",
       "       [1.],\n",
       "       [1.]])"
      ]
     },
     "execution_count": 34,
     "metadata": {},
     "output_type": "execute_result"
    }
   ],
   "source": [
    "# Handling B Dataset\n",
    "vector_B = pd.DataFrame(counts_B)\n",
    "norm_B = np.linalg.norm(vector_B.values, axis=1, ord=2)\n",
    "normed_matrix_B = vector_B.divide(norm_B, axis='rows')\n",
    "normed_vector_B = np.nan_to_num(normed_matrix_B.to_numpy())\n",
    "normed_vector_B"
   ]
  },
  {
   "cell_type": "code",
   "execution_count": 35,
   "id": "fb18b6ee",
   "metadata": {},
   "outputs": [
    {
     "name": "stdout",
     "output_type": "stream",
     "text": [
      "Distance from A to B (Normalized): 0.0\n"
     ]
    }
   ],
   "source": [
    "# Display the normalized Vector\n",
    "dist_a_b = np.linalg.norm(normed_vector_A - normed_vector_B)\n",
    "print(\"Distance from A to B (Normalized):\", np.around(dist_a_b, 2))"
   ]
  },
  {
   "cell_type": "markdown",
   "id": "6a680f78",
   "metadata": {},
   "source": [
    "#### Part 5 - Kernel Function\n"
   ]
  }
 ],
 "metadata": {
  "kernelspec": {
   "display_name": "Python 3 (ipykernel)",
   "language": "python",
   "name": "python3"
  },
  "language_info": {
   "codemirror_mode": {
    "name": "ipython",
    "version": 3
   },
   "file_extension": ".py",
   "mimetype": "text/x-python",
   "name": "python",
   "nbconvert_exporter": "python",
   "pygments_lexer": "ipython3",
   "version": "3.9.10"
  }
 },
 "nbformat": 4,
 "nbformat_minor": 5
}
