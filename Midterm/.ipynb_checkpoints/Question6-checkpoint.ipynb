{
 "cells": [
  {
   "cell_type": "code",
   "execution_count": 1,
   "metadata": {},
   "outputs": [
    {
     "data": {
      "text/html": [
       "<div>\n",
       "<style scoped>\n",
       "    .dataframe tbody tr th:only-of-type {\n",
       "        vertical-align: middle;\n",
       "    }\n",
       "\n",
       "    .dataframe tbody tr th {\n",
       "        vertical-align: top;\n",
       "    }\n",
       "\n",
       "    .dataframe thead th {\n",
       "        text-align: right;\n",
       "    }\n",
       "</style>\n",
       "<table border=\"1\" class=\"dataframe\">\n",
       "  <thead>\n",
       "    <tr style=\"text-align: right;\">\n",
       "      <th></th>\n",
       "      <th>input</th>\n",
       "      <th>label</th>\n",
       "    </tr>\n",
       "  </thead>\n",
       "  <tbody>\n",
       "    <tr>\n",
       "      <th>0</th>\n",
       "      <td>0</td>\n",
       "      <td>1</td>\n",
       "    </tr>\n",
       "    <tr>\n",
       "      <th>1</th>\n",
       "      <td>2</td>\n",
       "      <td>1</td>\n",
       "    </tr>\n",
       "    <tr>\n",
       "      <th>2</th>\n",
       "      <td>3</td>\n",
       "      <td>2</td>\n",
       "    </tr>\n",
       "  </tbody>\n",
       "</table>\n",
       "</div>"
      ],
      "text/plain": [
       "   input  label\n",
       "0      0      1\n",
       "1      2      1\n",
       "2      3      2"
      ]
     },
     "execution_count": 1,
     "metadata": {},
     "output_type": "execute_result"
    }
   ],
   "source": [
    "import numpy as np\n",
    "import pandas as pd\n",
    "import statsmodels.api as sm\n",
    "# X = x, Y = Numerical Label.\n",
    "mat = pd.DataFrame(np.array([[0,1], [2,1], [3,2]]), columns=['input', 'label'])\n",
    "mat"
   ]
  },
  {
   "cell_type": "code",
   "execution_count": 2,
   "metadata": {},
   "outputs": [],
   "source": [
    "X = mat[\"input\"]\n",
    "X = sm.add_constant(X)\n",
    "y = mat[\"label\"]"
   ]
  },
  {
   "cell_type": "code",
   "execution_count": 3,
   "metadata": {
    "collapsed": true,
    "jupyter": {
     "outputs_hidden": true
    },
    "tags": []
   },
   "outputs": [
    {
     "name": "stdout",
     "output_type": "stream",
     "text": [
      "                            OLS Regression Results                            \n",
      "==============================================================================\n",
      "Dep. Variable:                  label   R-squared:                       0.571\n",
      "Model:                            OLS   Adj. R-squared:                  0.143\n",
      "Method:                 Least Squares   F-statistic:                     1.333\n",
      "Date:                Sun, 06 Mar 2022   Prob (F-statistic):              0.454\n",
      "Time:                        17:41:36   Log-Likelihood:               -0.72975\n",
      "No. Observations:                   3   AIC:                             5.460\n",
      "Df Residuals:                       1   BIC:                             3.657\n",
      "Df Model:                           1                                         \n",
      "Covariance Type:            nonrobust                                         \n",
      "==============================================================================\n",
      "                 coef    std err          t      P>|t|      [0.025      0.975]\n",
      "------------------------------------------------------------------------------\n",
      "const          0.8571      0.515      1.664      0.344      -5.688       7.402\n",
      "input          0.2857      0.247      1.155      0.454      -2.858       3.430\n",
      "==============================================================================\n",
      "Omnibus:                          nan   Durbin-Watson:                   2.929\n",
      "Prob(Omnibus):                    nan   Jarque-Bera (JB):                0.458\n",
      "Skew:                          -0.595   Prob(JB):                        0.795\n",
      "Kurtosis:                       1.500   Cond. No.                         4.03\n",
      "==============================================================================\n",
      "\n",
      "Notes:\n",
      "[1] Standard Errors assume that the covariance matrix of the errors is correctly specified.\n"
     ]
    },
    {
     "name": "stderr",
     "output_type": "stream",
     "text": [
      "D:\\My Documents\\VSCode\\Python Projects\\CSE 3521\\cse-3521\\lib\\site-packages\\statsmodels\\stats\\stattools.py:74: ValueWarning: omni_normtest is not valid with less than 8 observations; 3 samples were given.\n",
      "  warn(\"omni_normtest is not valid with less than 8 observations; %i \"\n"
     ]
    }
   ],
   "source": [
    "model = sm.OLS(y, X)\n",
    "results = model.fit()\n",
    "print(results.summary())"
   ]
  },
  {
   "cell_type": "code",
   "execution_count": 4,
   "metadata": {},
   "outputs": [
    {
     "data": {
      "text/html": [
       "<div>\n",
       "<style scoped>\n",
       "    .dataframe tbody tr th:only-of-type {\n",
       "        vertical-align: middle;\n",
       "    }\n",
       "\n",
       "    .dataframe tbody tr th {\n",
       "        vertical-align: top;\n",
       "    }\n",
       "\n",
       "    .dataframe thead th {\n",
       "        text-align: right;\n",
       "    }\n",
       "</style>\n",
       "<table border=\"1\" class=\"dataframe\">\n",
       "  <thead>\n",
       "    <tr style=\"text-align: right;\">\n",
       "      <th></th>\n",
       "      <th>input</th>\n",
       "      <th>label</th>\n",
       "    </tr>\n",
       "  </thead>\n",
       "  <tbody>\n",
       "    <tr>\n",
       "      <th>0</th>\n",
       "      <td>0</td>\n",
       "      <td>4</td>\n",
       "    </tr>\n",
       "    <tr>\n",
       "      <th>1</th>\n",
       "      <td>8</td>\n",
       "      <td>4</td>\n",
       "    </tr>\n",
       "    <tr>\n",
       "      <th>2</th>\n",
       "      <td>12</td>\n",
       "      <td>8</td>\n",
       "    </tr>\n",
       "  </tbody>\n",
       "</table>\n",
       "</div>"
      ],
      "text/plain": [
       "   input  label\n",
       "0      0      4\n",
       "1      8      4\n",
       "2     12      8"
      ]
     },
     "execution_count": 4,
     "metadata": {},
     "output_type": "execute_result"
    }
   ],
   "source": [
    "# Now 4x lol\n",
    "mat_four = mat*4\n",
    "mat_four"
   ]
  },
  {
   "cell_type": "code",
   "execution_count": 5,
   "metadata": {
    "collapsed": true,
    "jupyter": {
     "outputs_hidden": true
    },
    "tags": []
   },
   "outputs": [
    {
     "name": "stdout",
     "output_type": "stream",
     "text": [
      "                            OLS Regression Results                            \n",
      "==============================================================================\n",
      "Dep. Variable:                  label   R-squared:                       0.571\n",
      "Model:                            OLS   Adj. R-squared:                  0.143\n",
      "Method:                 Least Squares   F-statistic:                     1.333\n",
      "Date:                Sun, 06 Mar 2022   Prob (F-statistic):              0.454\n",
      "Time:                        17:41:36   Log-Likelihood:                -4.8886\n",
      "No. Observations:                   3   AIC:                             13.78\n",
      "Df Residuals:                       1   BIC:                             11.97\n",
      "Df Model:                           1                                         \n",
      "Covariance Type:            nonrobust                                         \n",
      "==============================================================================\n",
      "                 coef    std err          t      P>|t|      [0.025      0.975]\n",
      "------------------------------------------------------------------------------\n",
      "const          3.4286      2.060      1.664      0.344     -22.750      29.607\n",
      "input          0.2857      0.247      1.155      0.454      -2.858       3.430\n",
      "==============================================================================\n",
      "Omnibus:                          nan   Durbin-Watson:                   2.929\n",
      "Prob(Omnibus):                    nan   Jarque-Bera (JB):                0.458\n",
      "Skew:                          -0.595   Prob(JB):                        0.795\n",
      "Kurtosis:                       1.500   Cond. No.                         14.0\n",
      "==============================================================================\n",
      "\n",
      "Notes:\n",
      "[1] Standard Errors assume that the covariance matrix of the errors is correctly specified.\n"
     ]
    },
    {
     "name": "stderr",
     "output_type": "stream",
     "text": [
      "D:\\My Documents\\VSCode\\Python Projects\\CSE 3521\\cse-3521\\lib\\site-packages\\statsmodels\\stats\\stattools.py:74: ValueWarning: omni_normtest is not valid with less than 8 observations; 3 samples were given.\n",
      "  warn(\"omni_normtest is not valid with less than 8 observations; %i \"\n"
     ]
    }
   ],
   "source": [
    "X = mat_four[\"input\"]\n",
    "X = sm.add_constant(X)\n",
    "y = mat_four[\"label\"]\n",
    "model = sm.OLS(y, X)\n",
    "results = model.fit()\n",
    "print(results.summary())"
   ]
  },
  {
   "cell_type": "code",
   "execution_count": 6,
   "metadata": {},
   "outputs": [
    {
     "name": "stdout",
     "output_type": "stream",
     "text": [
      "W Dif: 1.0\n",
      "B Dif: 4.0\n"
     ]
    }
   ],
   "source": [
    "w_star = .286\n",
    "b_star = .857\n",
    "b_star_two = 3.428\n",
    "w_star_two = .286\n",
    "print(\"W Dif:\", (w_star_two/w_star))\n",
    "print(\"B Dif:\", (b_star_two/b_star))"
   ]
  },
  {
   "cell_type": "code",
   "execution_count": 22,
   "metadata": {
    "tags": []
   },
   "outputs": [],
   "source": [
    "def GN_algo(w):\n",
    "    J = np.array([ [0*w], [2*w], [3*w] ])\n",
    "    deltaY = np.array([ [1-(0*w)], [1-(2*w)], [2-(3*w)] ])\n",
    "    deltaW = np.dot(np.dot(np.linalg.inv(np.dot(J.T, J)), J.T), deltaY)\n",
    "    newW = w+deltaW\n",
    "    return deltaW, newW"
   ]
  },
  {
   "cell_type": "code",
   "execution_count": 20,
   "metadata": {
    "tags": []
   },
   "outputs": [
    {
     "name": "stdout",
     "output_type": "stream",
     "text": [
      "0.7307692307692308\n",
      "0.5728744939271255\n",
      "0.6470794409235919\n",
      "0.5980980894318219\n",
      "0.627000582615198\n",
      "0.6084743363043369\n",
      "0.6198310668482234\n",
      "0.6126574163143484\n",
      "0.6171088421808193\n",
      "0.614314802169805\n",
      "0.6160562761030909\n",
      "0.6149660173969803\n",
      "0.6156467021434431\n",
      "0.615220992466261\n",
      "0.6154869504234146\n",
      "0.6153206836346081\n",
      "0.6154245835224351\n",
      "0.615359639516476\n",
      "0.6154002269494754\n",
      "0.6153748588001372\n",
      "0.6153907135012818\n",
      "0.6153808041598948\n",
      "0.6153869974384222\n",
      "0.6153831266159694\n",
      "0.6153855458708719\n"
     ]
    }
   ],
   "source": [
    "currentW = .5\n",
    "for i in range(25):\n",
    "    _ , currentW = GN_algo(currentW)\n",
    "    currentW = np.ndarray.item(currentW)\n",
    "    print(currentW)"
   ]
  },
  {
   "cell_type": "code",
   "execution_count": 23,
   "metadata": {
    "tags": []
   },
   "outputs": [],
   "source": [
    "def GN_algo(w):\n",
    "    J = np.array([ [(0**2)*w], [(2**2)*w], [(3**2)*w] ])\n",
    "    deltaY = np.array([ [1-((0**2)*w)], [1-((2**2)*w)], [2-((3**2)*w)] ])\n",
    "    deltaW = np.dot(np.dot(np.linalg.inv(np.dot(J.T, J)), J.T), deltaY)\n",
    "    newW = w+deltaW\n",
    "    return deltaW, newW"
   ]
  },
  {
   "cell_type": "code",
   "execution_count": 30,
   "metadata": {
    "tags": []
   },
   "outputs": [
    {
     "name": "stdout",
     "output_type": "stream",
     "text": [
      "0.22680412371134018\n",
      "0.22680412371134026\n",
      "0.2268041237113401\n",
      "0.2268041237113406\n",
      "0.22680412371133893\n",
      "0.22680412371134465\n",
      "0.22680412371132513\n",
      "0.22680412371139155\n",
      "0.22680412371116515\n",
      "0.22680412371193692\n",
      "0.22680412370930586\n",
      "0.22680412371827546\n",
      "0.2268041236876972\n",
      "0.22680412379194145\n",
      "0.22680412343656325\n",
      "0.22680412464807984\n",
      "0.22680412051790974\n",
      "0.22680413459803522\n",
      "0.22680408659760942\n",
      "0.22680425023544915\n",
      "0.2268036923794618\n",
      "0.22680559416454255\n",
      "0.22679911084472956\n",
      "0.22682121351784848\n",
      "0.2267458686846063\n"
     ]
    }
   ],
   "source": [
    "currentW = 1\n",
    "for i in range(25):\n",
    "    _ , currentW = GN_algo(currentW)\n",
    "    currentW = np.ndarray.item(currentW)\n",
    "    print(currentW)"
   ]
  }
 ],
 "metadata": {
  "interpreter": {
   "hash": "b0c13ec3ae09ac9f93d430c5e4d30db8ae2d74ae538c6d3710b0e515df26a87c"
  },
  "kernelspec": {
   "display_name": "cse-3521",
   "language": "python",
   "name": "cse-3521"
  },
  "language_info": {
   "codemirror_mode": {
    "name": "ipython",
    "version": 3
   },
   "file_extension": ".py",
   "mimetype": "text/x-python",
   "name": "python",
   "nbconvert_exporter": "python",
   "pygments_lexer": "ipython3",
   "version": "3.9.10"
  }
 },
 "nbformat": 4,
 "nbformat_minor": 4
}
