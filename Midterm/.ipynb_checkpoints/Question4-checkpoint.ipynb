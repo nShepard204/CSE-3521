{
 "cells": [
  {
   "cell_type": "markdown",
   "id": "73e281b0-7bfa-4058-bdad-557752bd5403",
   "metadata": {},
   "source": [
    "# Question #4"
   ]
  },
  {
   "cell_type": "code",
   "execution_count": 1,
   "id": "ac36a8b5-be5f-4a37-bd0b-c9924d661d22",
   "metadata": {},
   "outputs": [
    {
     "data": {
      "text/plain": [
       "{('A', 'B'): Text(-0.39622641509433965, -0.22641509433962265, '8'),\n",
       " ('A', 'C'): Text(-0.6981132075471698, 0.0, '4'),\n",
       " ('A', 'E'): Text(-0.09433962264150947, -0.3018867924528302, '2'),\n",
       " ('A', 'G'): Text(-0.5471698113207547, -0.1509433962264151, '20'),\n",
       " ('B', 'G'): Text(0.056603773584905655, -0.07547169811320754, '10'),\n",
       " ('C', 'D'): Text(-0.32075471698113206, 0.22641509433962265, '4'),\n",
       " ('D', 'G'): Text(-0.16981132075471697, 0.07547169811320754, '4'),\n",
       " ('E', 'F'): Text(0.660377358490566, -0.1509433962264151, '2'),\n",
       " ('F', 'H'): Text(0.3584905660377358, 0.1509433962264151, '2'),\n",
       " ('H', 'G'): Text(0.056603773584905655, 0.1509433962264151, '2')}"
      ]
     },
     "execution_count": 1,
     "metadata": {},
     "output_type": "execute_result"
    },
    {
     "data": {
      "image/png": "[encoded data removed]",
      "text/plain": [
       "<Figure size 432x288 with 1 Axes>"
      ]
     },
     "metadata": {},
     "output_type": "display_data"
    }
   ],
   "source": [
    "import numpy as np\n",
    "import pandas as pd\n",
    "import networkx as nx\n",
    "\n",
    "edges = [\n",
    "    (\"A\", \"B\", {'weight':8}),\n",
    "    (\"A\", \"C\", {'weight':4}),\n",
    "    (\"A\", \"E\", {'weight':2}),\n",
    "    (\"A\", \"G\", {'weight':20}),\n",
    "    (\"B\", \"G\", {'weight':10}),\n",
    "    (\"C\", \"D\", {'weight':4}),\n",
    "    (\"D\", \"G\", {'weight':4}),\n",
    "    (\"E\", \"F\", {'weight':2}),\n",
    "    (\"F\", \"H\", {'weight':2}),\n",
    "    (\"H\", \"G\", {'weight':2})\n",
    "]\n",
    "edge_labels = {(\"A\",\"B\"):8, (\"A\",\"C\"):4, (\"A\",\"E\"):2, (\"A\",\"G\"):20, (\"B\",\"G\"):10, (\"C\",\"D\"):4, (\"D\",\"G\"):4, (\"E\",\"F\"):2, (\"F\",\"H\"):2, (\"H\",\"G\"):2}\n",
    "\n",
    "Graph1 = nx.DiGraph()\n",
    "for i in range(1,7):\n",
    "    Graph1.add_node(chr(ord('@')+i))\n",
    "Graph1.add_edges_from(edges)\n",
    "\n",
    "pos = nx.planar_layout(Graph1)\n",
    "edge_labels = nx.get_edge_attributes(Graph1,'weight')\n",
    "nx.draw(Graph1, with_labels = True, pos = pos)\n",
    "\n",
    "nx.draw_networkx_edge_labels(Graph1,pos,edge_labels=edge_labels)\n"
   ]
  },
  {
   "cell_type": "code",
   "execution_count": 2,
   "id": "3ba3f2d3",
   "metadata": {},
   "outputs": [
    {
     "data": {
      "text/html": [
       "\n",
       "        <iframe\n",
       "            width=\"500px\"\n",
       "            height=\"500px\"\n",
       "            src=\"QuestionFour.html\"\n",
       "            frameborder=\"0\"\n",
       "            allowfullscreen\n",
       "            \n",
       "        ></iframe>\n",
       "        "
      ],
      "text/plain": [
       "<IPython.lib.display.IFrame at 0x15f1741bb20>"
      ]
     },
     "execution_count": 2,
     "metadata": {},
     "output_type": "execute_result"
    }
   ],
   "source": [
    "from pyvis import network as net \n",
    "g1=net.Network(notebook = True, directed=True)\n",
    "g1.from_nx(Graph1)\n",
    "g1.nodes[0][\"color\"] = \"lightgreen\"\n",
    "g1.nodes[0][\"title\"] = \"start\"\n",
    "g1.nodes[g1.nodes.__len__()-4][\"color\"] = \"red\"\n",
    "g1.nodes[g1.nodes.__len__()-4][\"title\"] = \"end\"\n",
    "\n",
    "g1.show(\"QuestionFour.html\")"
   ]
  },
  {
   "cell_type": "code",
   "execution_count": 3,
   "id": "9b827254",
   "metadata": {},
   "outputs": [
    {
     "data": {
      "text/plain": [
       "{'A': ['A'],\n",
       " 'B': ['A', 'B'],\n",
       " 'C': ['A', 'C'],\n",
       " 'E': ['A', 'E'],\n",
       " 'G': ['A', 'E', 'F', 'H', 'G'],\n",
       " 'F': ['A', 'E', 'F'],\n",
       " 'D': ['A', 'C', 'D'],\n",
       " 'H': ['A', 'E', 'F', 'H']}"
      ]
     },
     "execution_count": 3,
     "metadata": {},
     "output_type": "execute_result"
    }
   ],
   "source": [
    "nx.shortest_path(Graph1, source=\"A\", weight='weight')"
   ]
  },
  {
   "cell_type": "code",
   "execution_count": 4,
   "id": "3bb404d1",
   "metadata": {},
   "outputs": [
    {
     "data": {
      "text/plain": [
       "{('A', 'B'): Text(-0.39622641509433965, -0.22641509433962265, '8'),\n",
       " ('A', 'C'): Text(-0.6981132075471698, 0.0, '4'),\n",
       " ('A', 'E'): Text(-0.09433962264150947, -0.3018867924528302, '2'),\n",
       " ('A', 'G'): Text(-0.5471698113207547, -0.1509433962264151, '20'),\n",
       " ('B', 'G'): Text(0.056603773584905655, -0.07547169811320754, '10'),\n",
       " ('C', 'D'): Text(-0.32075471698113206, 0.22641509433962265, '4'),\n",
       " ('D', 'G'): Text(-0.16981132075471697, 0.07547169811320754, '4'),\n",
       " ('E', 'F'): Text(0.660377358490566, -0.1509433962264151, '2'),\n",
       " ('F', 'H'): Text(0.3584905660377358, 0.1509433962264151, '2'),\n",
       " ('H', 'G'): Text(0.056603773584905655, 0.1509433962264151, '2')}"
      ]
     },
     "execution_count": 4,
     "metadata": {},
     "output_type": "execute_result"
    },
    {
     "data": {
      "image/png": "[encoded data removed]",
      "text/plain": [
       "<Figure size 432x288 with 1 Axes>"
      ]
     },
     "metadata": {},
     "output_type": "display_data"
    }
   ],
   "source": [
    "bfs_tree = nx.bfs_tree(Graph1, source=\"A\")\n",
    "nx.draw(bfs_tree, with_labels = True, pos = pos)\n",
    "\n",
    "nx.draw_networkx_edge_labels(bfs_tree,pos,edge_labels=edge_labels)"
   ]
  },
  {
   "cell_type": "code",
   "execution_count": 5,
   "id": "0ce46b81",
   "metadata": {},
   "outputs": [
    {
     "data": {
      "text/plain": [
       "['A', 'G']"
      ]
     },
     "execution_count": 5,
     "metadata": {},
     "output_type": "execute_result"
    }
   ],
   "source": [
    "nx.shortest_path(bfs_tree, source=\"A\", target=\"G\", weight='weight')"
   ]
  },
  {
   "cell_type": "code",
   "execution_count": 6,
   "id": "b7cbfce4",
   "metadata": {},
   "outputs": [
    {
     "name": "stdout",
     "output_type": "stream",
     "text": [
      "A* Path:  ['A', 'C', 'D', 'G']\n",
      "A* Length:  12\n"
     ]
    }
   ],
   "source": [
    "def heur_function(src_node, tar_node):\n",
    "    num_edges = nx.shortest_path(Graph1, source=src_node, target=tar_node).__len__()-1\n",
    "    heuristic = num_edges*6\n",
    "    #print(\"Hueristic from %s to %s: \" % (src_node, tar_node), heuristic)\n",
    "    return heuristic\n",
    "    \n",
    "path = nx.astar_path(Graph1, source=\"A\", target=\"G\", heuristic=heur_function, weight='weight')\n",
    "print(\"A* Path: \", path)\n",
    "length = nx.astar_path_length(Graph1, source=\"A\", target=\"G\", heuristic=heur_function, weight='weight')\n",
    "print(\"A* Length: \", length)"
   ]
  }
 ],
 "metadata": {
  "interpreter": {
   "hash": "b0c13ec3ae09ac9f93d430c5e4d30db8ae2d74ae538c6d3710b0e515df26a87c"
  },
  "kernelspec": {
   "display_name": "cse-3521",
   "language": "python",
   "name": "cse-3521"
  },
  "language_info": {
   "codemirror_mode": {
    "name": "ipython",
    "version": 3
   },
   "file_extension": ".py",
   "mimetype": "text/x-python",
   "name": "python",
   "nbconvert_exporter": "python",
   "pygments_lexer": "ipython3",
   "version": "3.9.10"
  }
 },
 "nbformat": 4,
 "nbformat_minor": 5
}
