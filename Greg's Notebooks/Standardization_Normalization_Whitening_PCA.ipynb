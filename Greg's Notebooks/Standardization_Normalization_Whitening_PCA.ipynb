{
 "cells": [
  {
   "cell_type": "markdown",
   "metadata": {},
   "source": [
    "## Prelim"
   ]
  },
  {
   "cell_type": "code",
   "execution_count": 77,
   "metadata": {},
   "outputs": [],
   "source": [
    "import numpy as np\n",
    "from matplotlib import pyplot as plt\n",
    "from sklearn import preprocessing\n",
    "from scipy.linalg import fractional_matrix_power\n",
    "import cv2\n",
    "import matplotlib.pyplot as plt\n",
    "from urllib.request import urlopen, Request\n",
    "import tensorflow as tf \n",
    "import keras"
   ]
  },
  {
   "cell_type": "code",
   "execution_count": 5,
   "metadata": {},
   "outputs": [],
   "source": [
    "mymat = np.array([[0,0], [1,2], [2,3],[4,4]]).T #Notice the notation is different than the slides!"
   ]
  },
  {
   "cell_type": "code",
   "execution_count": 6,
   "metadata": {},
   "outputs": [
    {
     "data": {
      "text/plain": [
       "array([[0, 1, 2, 4],\n",
       "       [0, 2, 3, 4]])"
      ]
     },
     "execution_count": 6,
     "metadata": {},
     "output_type": "execute_result"
    }
   ],
   "source": [
    "mymat"
   ]
  },
  {
   "cell_type": "code",
   "execution_count": 7,
   "metadata": {},
   "outputs": [
    {
     "data": {
      "text/plain": [
       "(2, 4)"
      ]
     },
     "execution_count": 7,
     "metadata": {},
     "output_type": "execute_result"
    }
   ],
   "source": [
    "mymat.shape"
   ]
  },
  {
   "cell_type": "code",
   "execution_count": 8,
   "metadata": {},
   "outputs": [
    {
     "data": {
      "text/plain": [
       "<matplotlib.collections.PathCollection at 0x1d2af115820>"
      ]
     },
     "execution_count": 8,
     "metadata": {},
     "output_type": "execute_result"
    },
    {
     "data": {
      "image/png": "[encoded data removed]",
      "text/plain": [
       "<Figure size 432x288 with 1 Axes>"
      ]
     },
     "metadata": {
      "needs_background": "light"
     },
     "output_type": "display_data"
    }
   ],
   "source": [
    "plt.scatter(x = mymat[0,:], y = mymat[1,:])"
   ]
  },
  {
   "cell_type": "code",
   "execution_count": 9,
   "metadata": {},
   "outputs": [
    {
     "data": {
      "text/plain": [
       "<matplotlib.collections.PathCollection at 0x1d2b220bc40>"
      ]
     },
     "execution_count": 9,
     "metadata": {},
     "output_type": "execute_result"
    },
    {
     "data": {
      "image/png": "[encoded data removed]",
      "text/plain": [
       "<Figure size 432x288 with 1 Axes>"
      ]
     },
     "metadata": {
      "needs_background": "light"
     },
     "output_type": "display_data"
    }
   ],
   "source": [
    "temp = np.random.multivariate_normal([0,0], [[1,0],[0,1]], size = 100)\n",
    "plt.scatter(temp[:,0], temp[:,1])"
   ]
  },
  {
   "cell_type": "markdown",
   "metadata": {},
   "source": [
    "## Correlations & Covariance & Normalization & Whitening"
   ]
  },
  {
   "cell_type": "markdown",
   "metadata": {},
   "source": [
    "#### Covariance"
   ]
  },
  {
   "cell_type": "code",
   "execution_count": 10,
   "metadata": {},
   "outputs": [
    {
     "data": {
      "text/plain": [
       "array([[2.1875, 2.0625],\n",
       "       [2.0625, 2.1875]])"
      ]
     },
     "execution_count": 10,
     "metadata": {},
     "output_type": "execute_result"
    }
   ],
   "source": [
    "np.cov(mymat, bias = True)"
   ]
  },
  {
   "cell_type": "code",
   "execution_count": 11,
   "metadata": {},
   "outputs": [
    {
     "data": {
      "text/plain": [
       "array([[2.1875, 2.0625],\n",
       "       [2.0625, 2.1875]])"
      ]
     },
     "execution_count": 11,
     "metadata": {},
     "output_type": "execute_result"
    }
   ],
   "source": [
    "#Now manually!\n",
    "\n",
    "mean_values = mymat.mean(axis = 1).reshape(-1,1)\n",
    "mymat - mean_values\n",
    "np.dot((mymat-mean_values) , (mymat - mean_values).T) /4 ### Notice this is using dividing by n"
   ]
  },
  {
   "cell_type": "markdown",
   "metadata": {},
   "source": [
    "#### Correlation"
   ]
  },
  {
   "cell_type": "code",
   "execution_count": 12,
   "metadata": {},
   "outputs": [
    {
     "data": {
      "text/plain": [
       "array([[1.        , 0.94285714],\n",
       "       [0.94285714, 1.        ]])"
      ]
     },
     "execution_count": 12,
     "metadata": {},
     "output_type": "execute_result"
    }
   ],
   "source": [
    "np.corrcoef(mymat)"
   ]
  },
  {
   "cell_type": "code",
   "execution_count": 13,
   "metadata": {},
   "outputs": [
    {
     "data": {
      "text/plain": [
       "0.9428571428571428"
      ]
     },
     "execution_count": 13,
     "metadata": {},
     "output_type": "execute_result"
    }
   ],
   "source": [
    "2.0625/(np.std(mymat[0,:]) * np.std(mymat[1,:]))"
   ]
  },
  {
   "cell_type": "code",
   "execution_count": 14,
   "metadata": {},
   "outputs": [
    {
     "data": {
      "text/plain": [
       "0.9428571428571428"
      ]
     },
     "execution_count": 14,
     "metadata": {},
     "output_type": "execute_result"
    }
   ],
   "source": [
    "2.0625/(np.sqrt(2.1875)*np.sqrt(2.1875))"
   ]
  },
  {
   "cell_type": "markdown",
   "metadata": {},
   "source": [
    "#### Normalization"
   ]
  },
  {
   "cell_type": "code",
   "execution_count": 15,
   "metadata": {},
   "outputs": [],
   "source": [
    "scaler = preprocessing.StandardScaler().fit(mymat.T) ###notice SK Learn does things in obs x features (not features x obs)\n",
    "X_scaled = scaler.transform(mymat.T)\n",
    "scaler.mean_\n",
    "scaler.scale_\n",
    "X_scaled = scaler.transform(mymat.T)"
   ]
  },
  {
   "cell_type": "code",
   "execution_count": 16,
   "metadata": {},
   "outputs": [
    {
     "data": {
      "text/plain": [
       "array([1.47901995, 1.47901995])"
      ]
     },
     "execution_count": 16,
     "metadata": {},
     "output_type": "execute_result"
    }
   ],
   "source": [
    "scaler.scale_"
   ]
  },
  {
   "cell_type": "code",
   "execution_count": 17,
   "metadata": {},
   "outputs": [
    {
     "data": {
      "text/plain": [
       "array([1.75, 2.25])"
      ]
     },
     "execution_count": 17,
     "metadata": {},
     "output_type": "execute_result"
    }
   ],
   "source": [
    "scaler.mean_"
   ]
  },
  {
   "cell_type": "code",
   "execution_count": 18,
   "metadata": {},
   "outputs": [
    {
     "data": {
      "text/plain": [
       "array([[0, 1, 2, 4],\n",
       "       [0, 2, 3, 4]])"
      ]
     },
     "execution_count": 18,
     "metadata": {},
     "output_type": "execute_result"
    }
   ],
   "source": [
    "mymat"
   ]
  },
  {
   "cell_type": "code",
   "execution_count": 19,
   "metadata": {},
   "outputs": [
    {
     "data": {
      "text/plain": [
       "array([[-1.18321596, -0.50709255,  0.16903085,  1.52127766],\n",
       "       [-1.52127766, -0.16903085,  0.50709255,  1.18321596]])"
      ]
     },
     "execution_count": 19,
     "metadata": {},
     "output_type": "execute_result"
    }
   ],
   "source": [
    "X_scaled.T"
   ]
  },
  {
   "cell_type": "code",
   "execution_count": 20,
   "metadata": {},
   "outputs": [
    {
     "data": {
      "text/plain": [
       "array([[1.        , 0.94285714],\n",
       "       [0.94285714, 1.        ]])"
      ]
     },
     "execution_count": 20,
     "metadata": {},
     "output_type": "execute_result"
    }
   ],
   "source": [
    "np.cov(X_scaled.T, bias = True)"
   ]
  },
  {
   "cell_type": "code",
   "execution_count": 21,
   "metadata": {},
   "outputs": [
    {
     "data": {
      "text/plain": [
       "-0.5070925513885056"
      ]
     },
     "execution_count": 21,
     "metadata": {},
     "output_type": "execute_result"
    }
   ],
   "source": [
    "(1-1.75)/1.47901995"
   ]
  },
  {
   "cell_type": "markdown",
   "metadata": {},
   "source": [
    "## Rotations"
   ]
  },
  {
   "cell_type": "markdown",
   "metadata": {},
   "source": [
    "### PCA"
   ]
  },
  {
   "cell_type": "code",
   "execution_count": 22,
   "metadata": {},
   "outputs": [],
   "source": [
    "x = np.linspace(0, 20, 40)\n",
    "y = np.array([1.125*x + np.random.normal(loc = 0, scale = 2) for x in x])\n",
    "pca_data = np.array([x,y])"
   ]
  },
  {
   "cell_type": "code",
   "execution_count": 23,
   "metadata": {},
   "outputs": [
    {
     "data": {
      "text/plain": [
       "(2, 40)"
      ]
     },
     "execution_count": 23,
     "metadata": {},
     "output_type": "execute_result"
    }
   ],
   "source": [
    "pca_data.shape"
   ]
  },
  {
   "cell_type": "code",
   "execution_count": 24,
   "metadata": {},
   "outputs": [
    {
     "data": {
      "text/plain": [
       "<matplotlib.collections.PathCollection at 0x1d2b2285160>"
      ]
     },
     "execution_count": 24,
     "metadata": {},
     "output_type": "execute_result"
    },
    {
     "data": {
      "image/png": "[encoded data removed]",
      "text/plain": [
       "<Figure size 432x288 with 1 Axes>"
      ]
     },
     "metadata": {
      "needs_background": "light"
     },
     "output_type": "display_data"
    }
   ],
   "source": [
    "plt.scatter(x = pca_data[0,:], y = pca_data[1,:])"
   ]
  },
  {
   "cell_type": "code",
   "execution_count": 25,
   "metadata": {},
   "outputs": [
    {
     "data": {
      "text/plain": [
       "array([[1.       , 0.9695397],\n",
       "       [0.9695397, 1.       ]])"
      ]
     },
     "execution_count": 25,
     "metadata": {},
     "output_type": "execute_result"
    }
   ],
   "source": [
    "np.corrcoef(pca_data)\n"
   ]
  },
  {
   "cell_type": "code",
   "execution_count": 26,
   "metadata": {},
   "outputs": [],
   "source": [
    "scaler = preprocessing.StandardScaler().fit(pca_data.T)"
   ]
  },
  {
   "cell_type": "code",
   "execution_count": 27,
   "metadata": {},
   "outputs": [
    {
     "data": {
      "text/plain": [
       "array([5.91969045, 6.44733244])"
      ]
     },
     "execution_count": 27,
     "metadata": {},
     "output_type": "execute_result"
    }
   ],
   "source": [
    "scaler.mean_\n",
    "scaler.scale_"
   ]
  },
  {
   "cell_type": "code",
   "execution_count": 28,
   "metadata": {},
   "outputs": [
    {
     "name": "stdout",
     "output_type": "stream",
     "text": [
      "Centered pca dims: (2, 40)\n"
     ]
    },
    {
     "data": {
      "text/plain": [
       "<matplotlib.collections.PathCollection at 0x1d2b22ef3d0>"
      ]
     },
     "execution_count": 28,
     "metadata": {},
     "output_type": "execute_result"
    },
    {
     "data": {
      "image/png": "[encoded data removed]",
      "text/plain": [
       "<Figure size 432x288 with 1 Axes>"
      ]
     },
     "metadata": {
      "needs_background": "light"
     },
     "output_type": "display_data"
    }
   ],
   "source": [
    "pca_centered = pca_data - scaler.mean_[:,None]\n",
    "print(\"Centered pca dims: \" + str(pca_centered.shape))\n",
    "plt.scatter(x = pca_centered[0,], y = pca_centered[1,:])"
   ]
  },
  {
   "cell_type": "code",
   "execution_count": 29,
   "metadata": {},
   "outputs": [
    {
     "data": {
      "text/plain": [
       "array([[35.04273504, 37.00365783],\n",
       "       [37.00365783, 41.56809553]])"
      ]
     },
     "execution_count": 29,
     "metadata": {},
     "output_type": "execute_result"
    }
   ],
   "source": [
    "np.dot(pca_centered, pca_centered.T)/pca_centered.shape[1] #Notice it matched before!"
   ]
  },
  {
   "cell_type": "code",
   "execution_count": 82,
   "metadata": {
    "scrolled": true
   },
   "outputs": [
    {
     "name": "stdout",
     "output_type": "stream",
     "text": [
      "Eigenvector: \n",
      " [[-0.67534025 -0.7375063 ]\n",
      " [-0.7375063   0.67534025]] \n",
      "\n",
      "Eigenvalues: \n",
      " [75.45263289  1.15819769] \n",
      "\n"
     ]
    }
   ],
   "source": [
    "eigen_values, eigen_vectors = np.linalg.eig(np.cov(pca_centered, rowvar=True, bias=True).T)\n",
    "\n",
    "#sort the eigenvectors and eigenvalues by size\n",
    "idx = eigen_values.argsort()[::-1]    \n",
    "eigen_values = eigen_values[idx]\n",
    "eigen_vectors = eigen_vectors[:,idx]\n",
    "\n",
    "print(\"Eigenvector: \\n\",eigen_vectors,\"\\n\")\n",
    "print(\"Eigenvalues: \\n\", eigen_values, \"\\n\")"
   ]
  },
  {
   "cell_type": "code",
   "execution_count": 86,
   "metadata": {},
   "outputs": [
    {
     "data": {
      "text/plain": [
       "array([[7.54526329e+01, 4.27528982e-15],\n",
       "       [4.27528982e-15, 1.15819769e+00]])"
      ]
     },
     "execution_count": 86,
     "metadata": {},
     "output_type": "execute_result"
    }
   ],
   "source": [
    "PCA_transformed = np.dot(eigen_vectors.T, pca_centered)\n",
    "np.cov(PCA_transformed, bias=True)"
   ]
  },
  {
   "cell_type": "code",
   "execution_count": 32,
   "metadata": {},
   "outputs": [
    {
     "data": {
      "text/plain": [
       "(-10.0, 10.0)"
      ]
     },
     "execution_count": 32,
     "metadata": {},
     "output_type": "execute_result"
    },
    {
     "data": {
      "image/png": "[encoded data removed]",
      "text/plain": [
       "<Figure size 432x288 with 1 Axes>"
      ]
     },
     "metadata": {
      "needs_background": "light"
     },
     "output_type": "display_data"
    }
   ],
   "source": [
    "plt.scatter(x = PCA_transformed[0,:], y = PCA_transformed[1,:])\n",
    "plt.xlim(-18,18)\n",
    "plt.ylim(-10,10)"
   ]
  },
  {
   "cell_type": "code",
   "execution_count": 33,
   "metadata": {},
   "outputs": [
    {
     "data": {
      "text/plain": [
       "(-10.0, 10.0)"
      ]
     },
     "execution_count": 33,
     "metadata": {},
     "output_type": "execute_result"
    },
    {
     "data": {
      "image/png": "[encoded data removed]",
      "text/plain": [
       "<Figure size 432x288 with 1 Axes>"
      ]
     },
     "metadata": {
      "needs_background": "light"
     },
     "output_type": "display_data"
    }
   ],
   "source": [
    "from sklearn.decomposition import PCA\n",
    "pca = PCA(n_components=2)\n",
    "pca.fit_transform(pca_data.T)\n",
    "\n",
    "transformed_2 = pca.fit_transform(pca_data.T)\n",
    "plt.scatter(x = transformed_2[:,0], y = transformed_2[:,1])\n",
    "plt.xlim(-18,18)\n",
    "plt.ylim(-10,10)"
   ]
  },
  {
   "cell_type": "code",
   "execution_count": 34,
   "metadata": {},
   "outputs": [
    {
     "data": {
      "text/plain": [
       "PCA(n_components=2)"
      ]
     },
     "execution_count": 34,
     "metadata": {},
     "output_type": "execute_result"
    }
   ],
   "source": [
    "pca"
   ]
  },
  {
   "cell_type": "code",
   "execution_count": 35,
   "metadata": {},
   "outputs": [
    {
     "name": "stdout",
     "output_type": "stream",
     "text": [
      "[0.98488206 0.01511794]\n"
     ]
    }
   ],
   "source": [
    "print(pca.explained_variance_ratio_)"
   ]
  },
  {
   "cell_type": "code",
   "execution_count": 36,
   "metadata": {},
   "outputs": [
    {
     "data": {
      "text/plain": [
       "0.9869054648126391"
      ]
     },
     "execution_count": 36,
     "metadata": {},
     "output_type": "execute_result"
    }
   ],
   "source": [
    "(84.22845791)/(84.22845791+1.11756652)"
   ]
  },
  {
   "cell_type": "code",
   "execution_count": 37,
   "metadata": {},
   "outputs": [
    {
     "name": "stdout",
     "output_type": "stream",
     "text": [
      "Eigenvector: \n",
      " [[-0.67534025 -0.7375063 ]\n",
      " [-0.7375063   0.67534025]] \n",
      "\n",
      "Eigenvalues: \n",
      " [75.45263289  1.15819769] \n",
      "\n",
      "SciKit Learn Results: \n",
      " [[-0.67534025 -0.7375063 ]\n",
      " [-0.7375063   0.67534025]]\n",
      "SciKit Learn variance: \n",
      " [77.38731578  1.18789506]\n"
     ]
    }
   ],
   "source": [
    "\n",
    "print(\"Eigenvector: \\n\",eigen_vectors,\"\\n\")\n",
    "print(\"Eigenvalues: \\n\", eigen_values, \"\\n\")\n",
    "\n",
    "print(\"SciKit Learn Results: \\n\" , pca.components_)\n",
    "\n",
    "print(\"SciKit Learn variance: \\n\" , pca.explained_variance_)"
   ]
  },
  {
   "cell_type": "markdown",
   "metadata": {},
   "source": [
    "#### What happens if you only take one component?"
   ]
  },
  {
   "cell_type": "code",
   "execution_count": 38,
   "metadata": {},
   "outputs": [
    {
     "data": {
      "text/plain": [
       "array([ 15.18169144,  15.17251193,  13.30267927,  13.72664626,\n",
       "        12.29101968,  10.70952096,  10.44567685,   9.15200713,\n",
       "         8.96126626,   8.1481598 ,   6.07645624,   3.85986613,\n",
       "         4.11837629,   5.97613667,   3.40804396,   3.27131516,\n",
       "         1.80800197,   0.64958662,   1.23457182,  -1.44812371,\n",
       "        -1.18333224,  -0.82965461,  -2.87053852,  -3.07314658,\n",
       "        -2.31095495,  -2.43738747,  -4.54005007,  -4.39503767,\n",
       "        -4.47619481,  -7.78370548, -10.51249503, -10.47576601,\n",
       "        -7.16780622, -10.08492339, -10.46101463, -11.61518841,\n",
       "       -10.86246981, -11.73102081, -15.03285902, -14.20186497])"
      ]
     },
     "execution_count": 38,
     "metadata": {},
     "output_type": "execute_result"
    }
   ],
   "source": [
    "modified_data = np.dot(eigen_vectors[:,0].T, pca_centered)\n",
    "modified_data"
   ]
  },
  {
   "cell_type": "code",
   "execution_count": 39,
   "metadata": {},
   "outputs": [
    {
     "data": {
      "text/plain": [
       "(2, 40)"
      ]
     },
     "execution_count": 39,
     "metadata": {},
     "output_type": "execute_result"
    }
   ],
   "source": [
    "pca_centered.shape"
   ]
  },
  {
   "cell_type": "code",
   "execution_count": 40,
   "metadata": {
    "scrolled": true
   },
   "outputs": [
    {
     "data": {
      "text/plain": [
       "<matplotlib.collections.PathCollection at 0x1d2b46e8ac0>"
      ]
     },
     "execution_count": 40,
     "metadata": {},
     "output_type": "execute_result"
    },
    {
     "data": {
      "image/png": "[encoded data removed]",
      "text/plain": [
       "<Figure size 432x288 with 1 Axes>"
      ]
     },
     "metadata": {
      "needs_background": "light"
     },
     "output_type": "display_data"
    }
   ],
   "source": [
    "#Let's inverse the original eigenvector matrix, take the first component and multiply back through the modified data.\n",
    "reset_results = np.dot(np.linalg.inv(eigen_vectors)[:,0].reshape(2,1), modified_data.reshape(modified_data.shape[0],1).T).T\n",
    "plt.scatter(x = reset_results[:,0], y = reset_results[:,1])"
   ]
  },
  {
   "cell_type": "markdown",
   "metadata": {},
   "source": [
    "### Whitening (and why we use it)"
   ]
  },
  {
   "cell_type": "code",
   "execution_count": 41,
   "metadata": {},
   "outputs": [
    {
     "data": {
      "text/plain": [
       "array([[ 1.65674919, -1.17167794],\n",
       "       [-1.17167794,  1.65674919]])"
      ]
     },
     "execution_count": 41,
     "metadata": {},
     "output_type": "execute_result"
    }
   ],
   "source": [
    "sigma_half = fractional_matrix_power(np.cov(mymat, bias = True), -0.5)\n",
    "sigma_half"
   ]
  },
  {
   "cell_type": "code",
   "execution_count": 42,
   "metadata": {},
   "outputs": [
    {
     "data": {
      "text/plain": [
       "array([[-0.26303572, -0.94964241, -0.46457116,  1.67724928],\n",
       "       [-1.67724928,  0.46457116,  0.94964241,  0.26303572]])"
      ]
     },
     "execution_count": 42,
     "metadata": {},
     "output_type": "execute_result"
    }
   ],
   "source": [
    "whitened_data = np.dot(sigma_half, mymat - mean_values)\n",
    "whitened_data"
   ]
  },
  {
   "cell_type": "code",
   "execution_count": 43,
   "metadata": {},
   "outputs": [
    {
     "data": {
      "text/plain": [
       "array([[1.00000000e+00, 1.40601712e-16],\n",
       "       [1.40601712e-16, 1.00000000e+00]])"
      ]
     },
     "execution_count": 43,
     "metadata": {},
     "output_type": "execute_result"
    }
   ],
   "source": [
    "np.cov(whitened_data, bias = True) "
   ]
  },
  {
   "cell_type": "code",
   "execution_count": 44,
   "metadata": {},
   "outputs": [],
   "source": [
    "#### ZCA whitening\n",
    "#borrowed heavily from  https://stackoverflow.com/questions/31528800/how-to-implement-zca-whitening-python\n",
    "def zca_whitening_matrix(X):\n",
    "    \"\"\"\n",
    "    Function to compute ZCA whitening matrix (aka Mahalanobis whitening).\n",
    "    INPUT:  X: [M x N] matrix.\n",
    "        Rows: Variables\n",
    "        Columns: Observations\n",
    "    OUTPUT: ZCAMatrix: [M x M] matrix\n",
    "    \"\"\"\n",
    "    # Covariance matrix [column-wise variables]: Sigma = (X-mu)' * (X-mu) / N\n",
    "    sigma = np.cov(X, rowvar=True, bias = True) # [M x M]\n",
    "    # Singular Value Decomposition. X = U * np.diag(S) * V\n",
    "    U,S,V = np.linalg.svd(sigma)\n",
    "        # U: [M x M] eigenvectors of sigma.\n",
    "        # S: [M x 1] eigenvalues of sigma.\n",
    "        # V: [M x M] transpose of U\n",
    "    # Whitening constant: prevents division by zero\n",
    "    epsilon = 1e-15\n",
    "    # ZCA Whitening matrix: U * Lambda * U'\n",
    "    ZCAMatrix = np.dot(U, np.dot(np.diag(1.0/np.sqrt(S + epsilon)), U.T)) # [M x M]\n",
    "    return ZCAMatrix, sigma, U, S, V"
   ]
  },
  {
   "cell_type": "code",
   "execution_count": 45,
   "metadata": {},
   "outputs": [
    {
     "data": {
      "text/plain": [
       "array([[ 1.65674919, -1.17167794],\n",
       "       [-1.17167794,  1.65674919]])"
      ]
     },
     "execution_count": 45,
     "metadata": {},
     "output_type": "execute_result"
    }
   ],
   "source": [
    "my_zca_transformer, _, _ , _, _ = zca_whitening_matrix(mymat)\n",
    "my_zca_transformer"
   ]
  },
  {
   "cell_type": "code",
   "execution_count": 46,
   "metadata": {},
   "outputs": [
    {
     "data": {
      "text/plain": [
       "array([[-0.26303572, -0.94964241, -0.46457116,  1.67724928],\n",
       "       [-1.67724928,  0.46457116,  0.94964241,  0.26303572]])"
      ]
     },
     "execution_count": 46,
     "metadata": {},
     "output_type": "execute_result"
    }
   ],
   "source": [
    "my_zca_X = np.dot(my_zca_transformer, mymat-mean_values)\n",
    "my_zca_X"
   ]
  },
  {
   "cell_type": "code",
   "execution_count": 47,
   "metadata": {},
   "outputs": [
    {
     "data": {
      "text/plain": [
       "array([[1.00000000e+00, 3.84200853e-15],\n",
       "       [3.84200853e-15, 1.00000000e+00]])"
      ]
     },
     "execution_count": 47,
     "metadata": {},
     "output_type": "execute_result"
    }
   ],
   "source": [
    "np.cov(my_zca_X, bias = True, rowvar = True) "
   ]
  },
  {
   "cell_type": "markdown",
   "metadata": {},
   "source": [
    "### This is cute and all, but why not just do PCA or some other orientation"
   ]
  },
  {
   "cell_type": "code",
   "execution_count": 48,
   "metadata": {},
   "outputs": [
    {
     "name": "stdout",
     "output_type": "stream",
     "text": [
      "Downloading data from https://www.cs.toronto.edu/~kriz/cifar-10-python.tar.gz\n",
      "170500096/170498071 [==============================] - 96s 1us/step\n",
      "170508288/170498071 [==============================] - 96s 1us/step\n"
     ]
    }
   ],
   "source": [
    "#Let's use the famouse cifar-10 dataset\n",
    "#https://www.cs.toronto.edu/~kriz/cifar.html\n",
    "\n",
    "(x_train, y_train), (x_test, y_test) = keras.datasets.cifar10.load_data()"
   ]
  },
  {
   "cell_type": "code",
   "execution_count": 49,
   "metadata": {},
   "outputs": [
    {
     "data": {
      "text/plain": [
       "(50000, 32, 32, 3)"
      ]
     },
     "execution_count": 49,
     "metadata": {},
     "output_type": "execute_result"
    }
   ],
   "source": [
    "x_train.shape #this is way to big. My laptop will cry. "
   ]
  },
  {
   "cell_type": "code",
   "execution_count": 50,
   "metadata": {},
   "outputs": [
    {
     "data": {
      "text/plain": [
       "<matplotlib.image.AxesImage at 0x1d2bda4dee0>"
      ]
     },
     "execution_count": 50,
     "metadata": {},
     "output_type": "execute_result"
    },
    {
     "data": {
      "image/png": "[encoded data removed]",
      "text/plain": [
       "<Figure size 432x288 with 1 Axes>"
      ]
     },
     "metadata": {
      "needs_background": "light"
     },
     "output_type": "display_data"
    }
   ],
   "source": [
    "x_train_new = x_train[:5000, :, :, :]\n",
    "plt.imshow(x_train_new[50,:,:,:])"
   ]
  },
  {
   "cell_type": "code",
   "execution_count": 51,
   "metadata": {},
   "outputs": [
    {
     "data": {
      "text/plain": [
       "<matplotlib.image.AxesImage at 0x1d2bf85daf0>"
      ]
     },
     "execution_count": 51,
     "metadata": {},
     "output_type": "execute_result"
    },
    {
     "data": {
      "image/png": "[encoded data removed]",
      "text/plain": [
       "<Figure size 432x288 with 1 Axes>"
      ]
     },
     "metadata": {
      "needs_background": "light"
     },
     "output_type": "display_data"
    }
   ],
   "source": [
    "x_train_new = np.array([cv2.cvtColor(image, cv2.COLOR_BGR2GRAY) for image in x_train_new]) # let's grayscale it\n",
    "plt.imshow(x_train_new[50,:], cmap = \"gray\")"
   ]
  },
  {
   "cell_type": "code",
   "execution_count": 52,
   "metadata": {},
   "outputs": [
    {
     "data": {
      "text/plain": [
       "(5000, 32, 32)"
      ]
     },
     "execution_count": 52,
     "metadata": {},
     "output_type": "execute_result"
    }
   ],
   "source": [
    "x_train_new.shape"
   ]
  },
  {
   "cell_type": "code",
   "execution_count": 53,
   "metadata": {},
   "outputs": [
    {
     "data": {
      "text/plain": [
       "(1024, 5000)"
      ]
     },
     "execution_count": 53,
     "metadata": {},
     "output_type": "execute_result"
    }
   ],
   "source": [
    "cifar_10_formatted = x_train_new.reshape(5000, 32**2).T\n",
    "cifar_10_formatted_no_mean = cifar_10_formatted - np.mean(cifar_10_formatted, axis = 1)[:, None]\n",
    "cifar_10_formatted_no_mean.shape"
   ]
  },
  {
   "cell_type": "code",
   "execution_count": 54,
   "metadata": {},
   "outputs": [
    {
     "data": {
      "text/plain": [
       "<matplotlib.image.AxesImage at 0x1d2b4691af0>"
      ]
     },
     "execution_count": 54,
     "metadata": {},
     "output_type": "execute_result"
    },
    {
     "data": {
      "image/png": "[encoded data removed]",
      "text/plain": [
       "<Figure size 432x288 with 1 Axes>"
      ]
     },
     "metadata": {
      "needs_background": "light"
     },
     "output_type": "display_data"
    }
   ],
   "source": [
    "plt.imshow (cifar_10_formatted_no_mean[:, 50].reshape(32,32), cmap = \"gray\")"
   ]
  },
  {
   "cell_type": "code",
   "execution_count": 55,
   "metadata": {},
   "outputs": [],
   "source": [
    "my_zca_transformer_image_stuff, _, _, _, _ = zca_whitening_matrix(cifar_10_formatted_no_mean)\n",
    "cifar10_xZCA = np.dot(my_zca_transformer_image_stuff, cifar_10_formatted_no_mean)\n"
   ]
  },
  {
   "cell_type": "code",
   "execution_count": 56,
   "metadata": {},
   "outputs": [
    {
     "data": {
      "text/plain": [
       "(1024, 1024)"
      ]
     },
     "execution_count": 56,
     "metadata": {},
     "output_type": "execute_result"
    }
   ],
   "source": [
    "my_zca_transformer_image_stuff.shape"
   ]
  },
  {
   "cell_type": "code",
   "execution_count": 57,
   "metadata": {},
   "outputs": [
    {
     "data": {
      "text/plain": [
       "<matplotlib.image.AxesImage at 0x1d2b231d190>"
      ]
     },
     "execution_count": 57,
     "metadata": {},
     "output_type": "execute_result"
    },
    {
     "data": {
      "image/png": "[encoded data removed]",
      "text/plain": [
       "<Figure size 432x288 with 1 Axes>"
      ]
     },
     "metadata": {
      "needs_background": "light"
     },
     "output_type": "display_data"
    }
   ],
   "source": [
    "plt.imshow(cifar10_xZCA[:, 50].reshape(32,32), cmap = \"gray\")"
   ]
  },
  {
   "cell_type": "code",
   "execution_count": 58,
   "metadata": {},
   "outputs": [
    {
     "data": {
      "text/plain": [
       "array([[ 1.00000000e+00, -7.59415570e-12,  2.18762217e-12, ...,\n",
       "        -4.73692197e-15,  1.02146913e-13, -2.46242138e-14],\n",
       "       [-7.59415570e-12,  1.00000000e+00, -5.25503054e-12, ...,\n",
       "        -1.11327836e-14, -2.21775664e-13,  1.14504317e-13],\n",
       "       [ 2.18762217e-12, -5.25503054e-12,  1.00000000e+00, ...,\n",
       "        -1.24157573e-14,  1.63839164e-13, -7.51629869e-14],\n",
       "       ...,\n",
       "       [-4.73692197e-15, -1.11327836e-14, -1.24157573e-14, ...,\n",
       "         1.00000000e+00, -5.37383471e-14,  1.09789511e-14],\n",
       "       [ 1.02146913e-13, -2.21775664e-13,  1.63839164e-13, ...,\n",
       "        -5.37383471e-14,  1.00000000e+00, -5.74829073e-15],\n",
       "       [-2.46242138e-14,  1.14504317e-13, -7.51629869e-14, ...,\n",
       "         1.09789511e-14, -5.74829073e-15,  1.00000000e+00]])"
      ]
     },
     "execution_count": 58,
     "metadata": {},
     "output_type": "execute_result"
    }
   ],
   "source": [
    "np.cov(cifar10_xZCA, rowvar = True, bias = True)"
   ]
  },
  {
   "cell_type": "code",
   "execution_count": 59,
   "metadata": {},
   "outputs": [
    {
     "data": {
      "text/plain": [
       "(1024, 1024)"
      ]
     },
     "execution_count": 59,
     "metadata": {},
     "output_type": "execute_result"
    }
   ],
   "source": [
    "np.cov(cifar10_xZCA, rowvar = True, bias = True).shape"
   ]
  },
  {
   "cell_type": "code",
   "execution_count": 60,
   "metadata": {},
   "outputs": [],
   "source": [
    "#### Let's get some puppies"
   ]
  },
  {
   "cell_type": "code",
   "execution_count": 61,
   "metadata": {},
   "outputs": [],
   "source": [
    "new_size = 50\n",
    "\n",
    "urls = ['https://hips.hearstapps.com/hmg-prod.s3.amazonaws.com/images/dog-puppy-on-garden-royalty-free-image-1586966191.jpg',\n",
    "        'https://dogtime.com/assets/uploads/2018/10/puppies-cover.jpg',\n",
    "         'https://www.readersdigest.ca/wp-content/uploads/2013/03/6-facts-to-know-before-owning-a-puppy.jpg',\n",
    "          'https://images.newscientist.com/wp-content/uploads/2021/06/03141753/03-june_puppies.jpg']\n",
    "\n",
    "puppies = []\n",
    "for url in urls:\n",
    "    r = Request(url, headers={'User-Agent': 'Mozilla/5.0'})\n",
    "    response = urlopen(r).read()\n",
    "    arr = np.asarray(bytearray(response), dtype=np.uint8)\n",
    "    puppies.append(cv2.imdecode(arr, 0)) # 'Load it as it is'\n",
    "\n",
    "puppies_scaled = [cv2.resize(x, [new_size,new_size], interpolation = cv2.INTER_AREA) for x in puppies]\n",
    "puppies_vectors = [x.reshape(new_size * new_size) for x in puppies_scaled]"
   ]
  },
  {
   "cell_type": "code",
   "execution_count": 62,
   "metadata": {},
   "outputs": [
    {
     "data": {
      "text/plain": [
       "<matplotlib.image.AxesImage at 0x1d2bf801ee0>"
      ]
     },
     "execution_count": 62,
     "metadata": {},
     "output_type": "execute_result"
    },
    {
     "data": {
      "image/png": "[encoded data removed]",
      "text/plain": [
       "<Figure size 432x288 with 1 Axes>"
      ]
     },
     "metadata": {
      "needs_background": "light"
     },
     "output_type": "display_data"
    }
   ],
   "source": [
    "plt.imshow(puppies[1], cmap = \"gray\")"
   ]
  },
  {
   "cell_type": "code",
   "execution_count": 63,
   "metadata": {
    "scrolled": true
   },
   "outputs": [
    {
     "data": {
      "text/plain": [
       "<matplotlib.image.AxesImage at 0x1d2c34e9c70>"
      ]
     },
     "execution_count": 63,
     "metadata": {},
     "output_type": "execute_result"
    },
    {
     "data": {
      "image/png": "[encoded data removed]",
      "text/plain": [
       "<Figure size 432x288 with 1 Axes>"
      ]
     },
     "metadata": {
      "needs_background": "light"
     },
     "output_type": "display_data"
    }
   ],
   "source": [
    "plt.imshow(puppies_scaled[1], cmap='gray')"
   ]
  },
  {
   "cell_type": "code",
   "execution_count": 64,
   "metadata": {},
   "outputs": [],
   "source": [
    "puppies_clean = np.array(puppies_vectors).T\n",
    "puppes_clean_no_mean = puppies_clean - np.mean(puppies_clean, axis = 1)[:, None]"
   ]
  },
  {
   "cell_type": "code",
   "execution_count": 65,
   "metadata": {},
   "outputs": [
    {
     "data": {
      "text/plain": [
       "(2500, 4)"
      ]
     },
     "execution_count": 65,
     "metadata": {},
     "output_type": "execute_result"
    }
   ],
   "source": [
    "puppes_clean_no_mean.shape"
   ]
  },
  {
   "cell_type": "code",
   "execution_count": 66,
   "metadata": {
    "scrolled": true
   },
   "outputs": [
    {
     "data": {
      "text/plain": [
       "<matplotlib.image.AxesImage at 0x1d2c3553220>"
      ]
     },
     "execution_count": 66,
     "metadata": {},
     "output_type": "execute_result"
    },
    {
     "data": {
      "image/png": "[encoded data removed]",
      "text/plain": [
       "<Figure size 432x288 with 1 Axes>"
      ]
     },
     "metadata": {
      "needs_background": "light"
     },
     "output_type": "display_data"
    }
   ],
   "source": [
    "plt.imshow(puppes_clean_no_mean[:,1].reshape(new_size, new_size), cmap = \"gray\")"
   ]
  },
  {
   "cell_type": "code",
   "execution_count": 67,
   "metadata": {},
   "outputs": [],
   "source": [
    "#ZCA whitened_picture\n",
    "my_zca_transformer_image_stuff, sig, u1, s1, v1 = zca_whitening_matrix(puppes_clean_no_mean)\n"
   ]
  },
  {
   "cell_type": "code",
   "execution_count": 68,
   "metadata": {},
   "outputs": [
    {
     "data": {
      "text/plain": [
       "<matplotlib.image.AxesImage at 0x1d2c35a7a00>"
      ]
     },
     "execution_count": 68,
     "metadata": {},
     "output_type": "execute_result"
    },
    {
     "data": {
      "image/png": "[encoded data removed]",
      "text/plain": [
       "<Figure size 432x288 with 1 Axes>"
      ]
     },
     "metadata": {
      "needs_background": "light"
     },
     "output_type": "display_data"
    }
   ],
   "source": [
    "puppies_xZCA = np.dot(my_zca_transformer_image_stuff, puppes_clean_no_mean)\n",
    "puppies_whitened_pics = [puppies_xZCA[:,i].reshape(new_size,new_size) for i in range(len(urls))]\n",
    "plt.imshow(puppies_whitened_pics[2], cmap='gray')\n"
   ]
  },
  {
   "cell_type": "code",
   "execution_count": 69,
   "metadata": {
    "scrolled": true
   },
   "outputs": [
    {
     "data": {
      "text/plain": [
       "array([[0.00066031, 0.00056214, 0.00050178, ..., 0.00027655, 0.00028193,\n",
       "        0.0003047 ],\n",
       "       [0.00056214, 0.00086707, 0.00075171, ..., 0.00022508, 0.00018811,\n",
       "        0.00019766],\n",
       "       [0.00050178, 0.00075171, 0.00092065, ..., 0.00030842, 0.00037329,\n",
       "        0.00043871],\n",
       "       ...,\n",
       "       [0.00027655, 0.00022508, 0.00030842, ..., 0.00015871, 0.00020013,\n",
       "        0.00023238],\n",
       "       [0.00028193, 0.00018811, 0.00037329, ..., 0.00020013, 0.00028002,\n",
       "        0.00033357],\n",
       "       [0.0003047 , 0.00019766, 0.00043871, ..., 0.00023238, 0.00033357,\n",
       "        0.00039998]])"
      ]
     },
     "execution_count": 69,
     "metadata": {},
     "output_type": "execute_result"
    }
   ],
   "source": [
    "np.cov(puppies_xZCA, rowvar = True, bias = True)  "
   ]
  },
  {
   "cell_type": "markdown",
   "metadata": {},
   "source": [
    "### Bonus points 3% \n",
    "\n",
    "-Why are the off-diagonals not 0?\n",
    "-3% extra credit for formal proof. "
   ]
  },
  {
   "cell_type": "markdown",
   "metadata": {},
   "source": [
    "## PCA by hand (on CIFAR10)"
   ]
  },
  {
   "cell_type": "code",
   "execution_count": 70,
   "metadata": {},
   "outputs": [
    {
     "name": "stdout",
     "output_type": "stream",
     "text": [
      "Eigenvector: \n",
      " [[-0.05014274 -0.03148925 -0.03086019 ... -0.00135132 -0.0186586\n",
      "   0.00517942]\n",
      " [-0.04993266 -0.03190975 -0.02996241 ...  0.03138865 -0.01626944\n",
      "  -0.03226982]\n",
      " [-0.04992499 -0.0324719  -0.02928304 ... -0.03987704  0.02026695\n",
      "   0.07660374]\n",
      " ...\n",
      " [-0.02779202  0.0392182  -0.04034409 ... -0.01044665  0.00367269\n",
      "   0.02320235]\n",
      " [-0.02835436  0.03756079 -0.04028345 ...  0.01704344 -0.02354542\n",
      "   0.00616369]\n",
      " [-0.02889157  0.03587282 -0.04023985 ... -0.00750921  0.01553135\n",
      "  -0.01130603]] \n",
      "\n",
      "Eigenvalues: \n",
      " [1.23670327e+06 4.70823404e+05 2.79173056e+05 ... 1.20982531e+01\n",
      " 1.34278616e+01 1.31708188e+01] \n",
      "\n"
     ]
    }
   ],
   "source": [
    "covariance_matrix = np.cov(cifar_10_formatted_no_mean, bias = True, rowvar = True)\n",
    "eigen_values, eigen_vectors = np.linalg.eig(covariance_matrix)\n",
    "print(\"Eigenvector: \\n\",eigen_vectors,\"\\n\")\n",
    "print(\"Eigenvalues: \\n\", eigen_values, \"\\n\")"
   ]
  },
  {
   "cell_type": "markdown",
   "metadata": {},
   "source": [
    "#### PCA completely changes the basis"
   ]
  },
  {
   "cell_type": "code",
   "execution_count": 71,
   "metadata": {},
   "outputs": [
    {
     "data": {
      "text/plain": [
       "array([[ 1.06953225e+03, -1.25974952e+02, -1.17565426e+03, ...,\n",
       "        -1.17903747e+02, -1.01318895e+03,  1.65098695e+03],\n",
       "       [ 3.02581037e+02, -1.08052977e+02, -1.62307403e+03, ...,\n",
       "        -6.46980713e+02,  4.22759067e+02,  5.25187685e+02],\n",
       "       [ 3.75909181e+02,  9.30511180e+02, -3.56158469e+02, ...,\n",
       "        -1.44508088e+02,  1.09691675e+02, -4.07688462e+02],\n",
       "       ...,\n",
       "       [ 4.53373502e-01, -3.60163791e+00, -2.89362282e+00, ...,\n",
       "        -1.61643108e+00,  4.20327580e-01,  1.85381863e+00],\n",
       "       [ 4.62660928e+00, -8.22211448e+00, -1.52999437e+00, ...,\n",
       "        -2.53209603e+00, -4.79662350e+00,  6.65195957e+00],\n",
       "       [-1.05499076e+00, -8.94659903e+00, -1.76556863e+00, ...,\n",
       "         1.44566762e+00, -7.96913530e+00, -3.57725790e+00]])"
      ]
     },
     "execution_count": 71,
     "metadata": {},
     "output_type": "execute_result"
    }
   ],
   "source": [
    "PCA_data = np.dot(eigen_vectors.T, cifar_10_formatted_no_mean)\n",
    "PCA_data"
   ]
  },
  {
   "cell_type": "code",
   "execution_count": 72,
   "metadata": {},
   "outputs": [
    {
     "data": {
      "text/plain": [
       "(1024, 5000)"
      ]
     },
     "execution_count": 72,
     "metadata": {},
     "output_type": "execute_result"
    }
   ],
   "source": [
    "PCA_data.shape"
   ]
  },
  {
   "cell_type": "code",
   "execution_count": 73,
   "metadata": {},
   "outputs": [
    {
     "data": {
      "text/plain": [
       "<matplotlib.image.AxesImage at 0x1d2c3606a90>"
      ]
     },
     "execution_count": 73,
     "metadata": {},
     "output_type": "execute_result"
    },
    {
     "data": {
      "image/png": "[encoded data removed]",
      "text/plain": [
       "<Figure size 432x288 with 1 Axes>"
      ]
     },
     "metadata": {
      "needs_background": "light"
     },
     "output_type": "display_data"
    }
   ],
   "source": [
    "plt.imshow(PCA_data[:,50].reshape(32,32),  cmap='gray')"
   ]
  },
  {
   "cell_type": "code",
   "execution_count": 74,
   "metadata": {},
   "outputs": [
    {
     "data": {
      "text/plain": [
       "array([[ 1.23670327e+06,  5.88502735e-10, -3.81842256e-11, ...,\n",
       "        -2.31742888e-11,  1.25059159e-11, -2.63826223e-11],\n",
       "       [ 5.88502735e-10,  4.70823404e+05,  3.69641930e-10, ...,\n",
       "        -3.61906132e-12, -1.59887350e-11,  4.73555701e-12],\n",
       "       [-3.81842256e-11,  3.69641930e-10,  2.79173056e+05, ...,\n",
       "        -1.99179340e-12,  1.95177165e-11,  5.70016709e-12],\n",
       "       ...,\n",
       "       [-2.31742888e-11, -3.61906132e-12, -1.99179340e-12, ...,\n",
       "         1.20982531e+01,  1.24649553e-11, -1.83558029e-11],\n",
       "       [ 1.25059159e-11, -1.59887350e-11,  1.95177165e-11, ...,\n",
       "         1.24649553e-11,  1.34278616e+01,  6.31215840e-11],\n",
       "       [-2.63826223e-11,  4.73555701e-12,  5.70016709e-12, ...,\n",
       "        -1.83558029e-11,  6.31215840e-11,  1.31708188e+01]])"
      ]
     },
     "execution_count": 74,
     "metadata": {},
     "output_type": "execute_result"
    }
   ],
   "source": [
    "np.cov(PCA_data, rowvar= True, bias = True)"
   ]
  },
  {
   "cell_type": "code",
   "execution_count": 75,
   "metadata": {},
   "outputs": [
    {
     "data": {
      "text/plain": [
       "(1024, 1024)"
      ]
     },
     "execution_count": 75,
     "metadata": {},
     "output_type": "execute_result"
    }
   ],
   "source": [
    "np.cov(PCA_data, rowvar= True, bias = True).shape"
   ]
  },
  {
   "cell_type": "code",
   "execution_count": 76,
   "metadata": {},
   "outputs": [],
   "source": [
    "# more information:\n",
    "#https://stats.stackexchange.com/questions/117427/what-is-the-difference-between-zca-whitening-and-pca-whitening"
   ]
  },
  {
   "cell_type": "code",
   "execution_count": null,
   "metadata": {},
   "outputs": [],
   "source": []
  }
 ],
 "metadata": {
  "kernelspec": {
   "display_name": "Python 3 (ipykernel)",
   "language": "python",
   "name": "python3"
  },
  "language_info": {
   "codemirror_mode": {
    "name": "ipython",
    "version": 3
   },
   "file_extension": ".py",
   "mimetype": "text/x-python",
   "name": "python",
   "nbconvert_exporter": "python",
   "pygments_lexer": "ipython3",
   "version": "3.9.10"
  }
 },
 "nbformat": 4,
 "nbformat_minor": 4
}
