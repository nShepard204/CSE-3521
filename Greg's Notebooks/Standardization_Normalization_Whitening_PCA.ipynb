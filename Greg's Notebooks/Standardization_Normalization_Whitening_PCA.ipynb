{
 "cells": [
  {
   "cell_type": "markdown",
   "metadata": {},
   "source": [
    "## Prelim"
   ]
  },
  {
   "cell_type": "code",
   "execution_count": 1,
   "metadata": {},
   "outputs": [],
   "source": [
    "import numpy as np\n",
    "from matplotlib import pyplot as plt\n",
    "from sklearn import preprocessing\n",
    "from scipy.linalg import fractional_matrix_power\n",
    "import cv2\n",
    "import matplotlib.pyplot as plt\n",
    "from urllib.request import urlopen, Request\n",
    "import tensorflow as tf \n",
    "import keras"
   ]
  },
  {
   "cell_type": "code",
   "execution_count": 2,
   "metadata": {},
   "outputs": [],
   "source": [
    "mymat = np.array([[0,0], [1,2], [2,3],[4,4]]).T #Notice the notation is different than the slides!"
   ]
  },
  {
   "cell_type": "code",
   "execution_count": 3,
   "metadata": {},
   "outputs": [
    {
     "data": {
      "text/plain": [
       "array([[0, 1, 2, 4],\n",
       "       [0, 2, 3, 4]])"
      ]
     },
     "execution_count": 3,
     "metadata": {},
     "output_type": "execute_result"
    }
   ],
   "source": [
    "mymat"
   ]
  },
  {
   "cell_type": "code",
   "execution_count": 4,
   "metadata": {},
   "outputs": [
    {
     "data": {
      "text/plain": [
       "(2, 4)"
      ]
     },
     "execution_count": 4,
     "metadata": {},
     "output_type": "execute_result"
    }
   ],
   "source": [
    "mymat.shape"
   ]
  },
  {
   "cell_type": "code",
   "execution_count": 5,
   "metadata": {},
   "outputs": [
    {
     "data": {
      "text/plain": [
       "<matplotlib.collections.PathCollection at 0x7fe90130e160>"
      ]
     },
     "execution_count": 5,
     "metadata": {},
     "output_type": "execute_result"
    },
    {
     "data": {
      "image/png": "[encoded data removed]",
      "text/plain": [
       "<Figure size 432x288 with 1 Axes>"
      ]
     },
     "metadata": {
      "needs_background": "light"
     },
     "output_type": "display_data"
    }
   ],
   "source": [
    "plt.scatter(x = mymat[0,:], y = mymat[1,:])"
   ]
  },
  {
   "cell_type": "code",
   "execution_count": 6,
   "metadata": {},
   "outputs": [
    {
     "data": {
      "text/plain": [
       "<matplotlib.collections.PathCollection at 0x7fe971465f40>"
      ]
     },
     "execution_count": 6,
     "metadata": {},
     "output_type": "execute_result"
    },
    {
     "data": {
      "image/png": "[encoded data removed]",
      "text/plain": [
       "<Figure size 432x288 with 1 Axes>"
      ]
     },
     "metadata": {
      "needs_background": "light"
     },
     "output_type": "display_data"
    }
   ],
   "source": [
    "temp = np.random.multivariate_normal([0,0], [[1,0],[0,1]], size = 100)\n",
    "plt.scatter(temp[:,0], temp[:,1])"
   ]
  },
  {
   "cell_type": "markdown",
   "metadata": {},
   "source": [
    "## Correlations & Covariance & Normalization & Whitening"
   ]
  },
  {
   "cell_type": "markdown",
   "metadata": {},
   "source": [
    "#### Covariance"
   ]
  },
  {
   "cell_type": "code",
   "execution_count": 7,
   "metadata": {},
   "outputs": [
    {
     "data": {
      "text/plain": [
       "array([[2.1875, 2.0625],\n",
       "       [2.0625, 2.1875]])"
      ]
     },
     "execution_count": 7,
     "metadata": {},
     "output_type": "execute_result"
    }
   ],
   "source": [
    "np.cov(mymat, bias = True)"
   ]
  },
  {
   "cell_type": "code",
   "execution_count": 8,
   "metadata": {},
   "outputs": [
    {
     "data": {
      "text/plain": [
       "array([[2.1875, 2.0625],\n",
       "       [2.0625, 2.1875]])"
      ]
     },
     "execution_count": 8,
     "metadata": {},
     "output_type": "execute_result"
    }
   ],
   "source": [
    "#Now manually!\n",
    "\n",
    "mean_values = mymat.mean(axis = 1).reshape(-1,1)\n",
    "mymat - mean_values\n",
    "np.dot((mymat-mean_values) , (mymat - mean_values).T) /4 ### Notice this is using dividing by n"
   ]
  },
  {
   "cell_type": "markdown",
   "metadata": {},
   "source": [
    "#### Correlation"
   ]
  },
  {
   "cell_type": "code",
   "execution_count": 9,
   "metadata": {},
   "outputs": [
    {
     "data": {
      "text/plain": [
       "array([[1.        , 0.94285714],\n",
       "       [0.94285714, 1.        ]])"
      ]
     },
     "execution_count": 9,
     "metadata": {},
     "output_type": "execute_result"
    }
   ],
   "source": [
    "np.corrcoef(mymat)"
   ]
  },
  {
   "cell_type": "code",
   "execution_count": 10,
   "metadata": {},
   "outputs": [
    {
     "data": {
      "text/plain": [
       "0.9428571428571428"
      ]
     },
     "execution_count": 10,
     "metadata": {},
     "output_type": "execute_result"
    }
   ],
   "source": [
    "2.0625/(np.std(mymat[0,:]) * np.std(mymat[1,:]))"
   ]
  },
  {
   "cell_type": "code",
   "execution_count": 11,
   "metadata": {},
   "outputs": [
    {
     "data": {
      "text/plain": [
       "0.9428571428571428"
      ]
     },
     "execution_count": 11,
     "metadata": {},
     "output_type": "execute_result"
    }
   ],
   "source": [
    "2.0625/(np.sqrt(2.1875)*np.sqrt(2.1875))"
   ]
  },
  {
   "cell_type": "markdown",
   "metadata": {},
   "source": [
    "#### Normalization"
   ]
  },
  {
   "cell_type": "code",
   "execution_count": 12,
   "metadata": {},
   "outputs": [],
   "source": [
    "scaler = preprocessing.StandardScaler().fit(mymat.T) ###notice SK Learn does things in obs x features (not features x obs)\n",
    "X_scaled = scaler.transform(mymat.T)\n",
    "scaler.mean_\n",
    "scaler.scale_\n",
    "X_scaled = scaler.transform(mymat.T)"
   ]
  },
  {
   "cell_type": "code",
   "execution_count": 13,
   "metadata": {},
   "outputs": [
    {
     "data": {
      "text/plain": [
       "array([1.47901995, 1.47901995])"
      ]
     },
     "execution_count": 13,
     "metadata": {},
     "output_type": "execute_result"
    }
   ],
   "source": [
    "scaler.scale_"
   ]
  },
  {
   "cell_type": "code",
   "execution_count": 14,
   "metadata": {},
   "outputs": [
    {
     "data": {
      "text/plain": [
       "array([1.75, 2.25])"
      ]
     },
     "execution_count": 14,
     "metadata": {},
     "output_type": "execute_result"
    }
   ],
   "source": [
    "scaler.mean_"
   ]
  },
  {
   "cell_type": "code",
   "execution_count": 15,
   "metadata": {},
   "outputs": [
    {
     "data": {
      "text/plain": [
       "array([[0, 1, 2, 4],\n",
       "       [0, 2, 3, 4]])"
      ]
     },
     "execution_count": 15,
     "metadata": {},
     "output_type": "execute_result"
    }
   ],
   "source": [
    "mymat"
   ]
  },
  {
   "cell_type": "code",
   "execution_count": 16,
   "metadata": {},
   "outputs": [
    {
     "data": {
      "text/plain": [
       "array([[-1.18321596, -0.50709255,  0.16903085,  1.52127766],\n",
       "       [-1.52127766, -0.16903085,  0.50709255,  1.18321596]])"
      ]
     },
     "execution_count": 16,
     "metadata": {},
     "output_type": "execute_result"
    }
   ],
   "source": [
    "X_scaled.T"
   ]
  },
  {
   "cell_type": "code",
   "execution_count": 17,
   "metadata": {},
   "outputs": [
    {
     "data": {
      "text/plain": [
       "array([[1.        , 0.94285714],\n",
       "       [0.94285714, 1.        ]])"
      ]
     },
     "execution_count": 17,
     "metadata": {},
     "output_type": "execute_result"
    }
   ],
   "source": [
    "np.cov(X_scaled.T, bias = True)"
   ]
  },
  {
   "cell_type": "code",
   "execution_count": 18,
   "metadata": {},
   "outputs": [
    {
     "data": {
      "text/plain": [
       "-0.5070925513885056"
      ]
     },
     "execution_count": 18,
     "metadata": {},
     "output_type": "execute_result"
    }
   ],
   "source": [
    "(1-1.75)/1.47901995"
   ]
  },
  {
   "cell_type": "markdown",
   "metadata": {},
   "source": [
    "## Rotations"
   ]
  },
  {
   "cell_type": "markdown",
   "metadata": {},
   "source": [
    "### PCA"
   ]
  },
  {
   "cell_type": "code",
   "execution_count": 19,
   "metadata": {},
   "outputs": [],
   "source": [
    "x = np.linspace(0, 20, 40)\n",
    "y = np.array([1.125*x + np.random.normal(loc = 0, scale = 2) for x in x])\n",
    "pca_data = np.array([x,y])"
   ]
  },
  {
   "cell_type": "code",
   "execution_count": 20,
   "metadata": {},
   "outputs": [
    {
     "data": {
      "text/plain": [
       "(2, 40)"
      ]
     },
     "execution_count": 20,
     "metadata": {},
     "output_type": "execute_result"
    }
   ],
   "source": [
    "pca_data.shape"
   ]
  },
  {
   "cell_type": "code",
   "execution_count": 21,
   "metadata": {},
   "outputs": [
    {
     "data": {
      "text/plain": [
       "<matplotlib.collections.PathCollection at 0x7fe9013a9ee0>"
      ]
     },
     "execution_count": 21,
     "metadata": {},
     "output_type": "execute_result"
    },
    {
     "data": {
      "image/png": "[encoded data removed]",
      "text/plain": [
       "<Figure size 432x288 with 1 Axes>"
      ]
     },
     "metadata": {
      "needs_background": "light"
     },
     "output_type": "display_data"
    }
   ],
   "source": [
    "plt.scatter(x = pca_data[0,:], y = pca_data[1,:])"
   ]
  },
  {
   "cell_type": "code",
   "execution_count": 22,
   "metadata": {},
   "outputs": [
    {
     "data": {
      "text/plain": [
       "array([[1.        , 0.95580508],\n",
       "       [0.95580508, 1.        ]])"
      ]
     },
     "execution_count": 22,
     "metadata": {},
     "output_type": "execute_result"
    }
   ],
   "source": [
    "np.corrcoef(pca_data)\n"
   ]
  },
  {
   "cell_type": "code",
   "execution_count": 23,
   "metadata": {},
   "outputs": [],
   "source": [
    "scaler = preprocessing.StandardScaler().fit(pca_data.T)"
   ]
  },
  {
   "cell_type": "code",
   "execution_count": 24,
   "metadata": {},
   "outputs": [
    {
     "data": {
      "text/plain": [
       "array([5.91969045, 6.8258602 ])"
      ]
     },
     "execution_count": 24,
     "metadata": {},
     "output_type": "execute_result"
    }
   ],
   "source": [
    "scaler.mean_\n",
    "scaler.scale_"
   ]
  },
  {
   "cell_type": "code",
   "execution_count": 25,
   "metadata": {},
   "outputs": [
    {
     "name": "stdout",
     "output_type": "stream",
     "text": [
      "Centered pca dims: (2, 40)\n"
     ]
    },
    {
     "data": {
      "text/plain": [
       "<matplotlib.collections.PathCollection at 0x7fe980587e20>"
      ]
     },
     "execution_count": 25,
     "metadata": {},
     "output_type": "execute_result"
    },
    {
     "data": {
      "image/png": "[encoded data removed]",
      "text/plain": [
       "<Figure size 432x288 with 1 Axes>"
      ]
     },
     "metadata": {
      "needs_background": "light"
     },
     "output_type": "display_data"
    }
   ],
   "source": [
    "pca_centered = pca_data - scaler.mean_[:,None]\n",
    "print(\"Centered pca dims: \" + str(pca_centered.shape))\n",
    "plt.scatter(x = pca_centered[0,], y = pca_centered[1,:])"
   ]
  },
  {
   "cell_type": "code",
   "execution_count": 26,
   "metadata": {},
   "outputs": [
    {
     "data": {
      "text/plain": [
       "array([[35.04273504, 38.62119626],\n",
       "       [38.62119626, 46.59236745]])"
      ]
     },
     "execution_count": 26,
     "metadata": {},
     "output_type": "execute_result"
    }
   ],
   "source": [
    "np.dot(pca_centered, pca_centered.T)/pca_centered.shape[1] #Notice it matched before!"
   ]
  },
  {
   "cell_type": "code",
   "execution_count": 27,
   "metadata": {
    "scrolled": true
   },
   "outputs": [
    {
     "name": "stdout",
     "output_type": "stream",
     "text": [
      "Eigenvector: \n",
      " [[-0.65273251 -0.75758846]\n",
      " [-0.75758846  0.65273251]] \n",
      "\n",
      "Eigenvalues: \n",
      " [79.86809929  1.7670032 ] \n",
      "\n"
     ]
    }
   ],
   "source": [
    "eigen_values, eigen_vectors = np.linalg.eig(np.cov(pca_centered, rowvar=True, bias=True).T)\n",
    "\n",
    "#sort the eigenvectors and eigenvalues by size\n",
    "idx = eigen_values.argsort()[::-1]    \n",
    "eigen_values = eigen_values[idx]\n",
    "eigen_vectors = eigen_vectors[:,idx]\n",
    "\n",
    "print(\"Eigenvector: \\n\",eigen_vectors,\"\\n\")\n",
    "print(\"Eigenvalues: \\n\", eigen_values, \"\\n\")"
   ]
  },
  {
   "cell_type": "code",
   "execution_count": 28,
   "metadata": {},
   "outputs": [
    {
     "data": {
      "text/plain": [
       "array([[ 1.14939940e+01,  1.41928894e+01,  1.31368916e+01,\n",
       "         1.33826879e+01,  1.31305321e+01,  9.77681215e+00,\n",
       "         1.15662706e+01,  9.21686125e+00,  8.07981495e+00,\n",
       "         7.98111871e+00,  8.53219322e+00,  6.06084739e+00,\n",
       "         5.06623624e+00,  4.63407855e+00,  5.96612873e+00,\n",
       "        -9.54324052e-01,  4.84941013e+00,  3.89965279e+00,\n",
       "         4.16797271e+00,  1.47024420e+00, -4.03893129e-01,\n",
       "        -3.53999420e-01, -2.68878845e+00, -1.41177805e+00,\n",
       "        -3.72911824e+00, -4.91156628e+00, -3.97199831e+00,\n",
       "        -4.84142941e+00, -8.10218751e+00, -8.90817981e+00,\n",
       "        -1.10719954e+01, -7.45523183e+00, -8.13016090e+00,\n",
       "        -1.15061876e+01, -1.06285606e+01, -1.35014999e+01,\n",
       "        -1.16839076e+01, -1.24472640e+01, -1.52241572e+01,\n",
       "        -1.46784087e+01],\n",
       "       [ 3.29664008e+00,  2.94380382e-01,  5.27308429e-01,\n",
       "        -3.61379568e-01, -8.21035809e-01,  1.39159235e+00,\n",
       "        -8.27103289e-01,  5.20218376e-01,  8.22977178e-01,\n",
       "         2.31101379e-01, -9.20611993e-01,  5.31769232e-01,\n",
       "         7.11806977e-01,  4.07239060e-01, -1.41735707e+00,\n",
       "         3.86834120e+00, -1.80902420e+00, -1.66763216e+00,\n",
       "        -2.57572631e+00, -9.28295464e-01,  9.53541335e-03,\n",
       "        -7.10364360e-01,  6.24360554e-01, -1.15281372e+00,\n",
       "         1.66877412e-01,  5.08754009e-01, -9.77682413e-01,\n",
       "        -9.05498852e-01,  1.22703404e+00,  1.24455921e+00,\n",
       "         2.43197474e+00, -1.36111329e+00, -1.45651121e+00,\n",
       "         7.75336268e-01, -6.57732266e-01,  1.14065886e+00,\n",
       "        -1.10227672e+00, -1.12148635e+00,  5.94152228e-01,\n",
       "        -5.52972334e-01]])"
      ]
     },
     "execution_count": 28,
     "metadata": {},
     "output_type": "execute_result"
    }
   ],
   "source": [
    "PCA_transformed = np.dot(eigen_vectors.T, pca_centered)\n",
    "PCA_transformed"
   ]
  },
  {
   "cell_type": "code",
   "execution_count": 29,
   "metadata": {},
   "outputs": [
    {
     "data": {
      "text/plain": [
       "(-10.0, 10.0)"
      ]
     },
     "execution_count": 29,
     "metadata": {},
     "output_type": "execute_result"
    },
    {
     "data": {
      "image/png": "[encoded data removed]",
      "text/plain": [
       "<Figure size 432x288 with 1 Axes>"
      ]
     },
     "metadata": {
      "needs_background": "light"
     },
     "output_type": "display_data"
    }
   ],
   "source": [
    "plt.scatter(x = PCA_transformed[0,:], y = PCA_transformed[1,:])\n",
    "plt.xlim(-18,18)\n",
    "plt.ylim(-10,10)"
   ]
  },
  {
   "cell_type": "code",
   "execution_count": 30,
   "metadata": {},
   "outputs": [
    {
     "data": {
      "text/plain": [
       "(-10.0, 10.0)"
      ]
     },
     "execution_count": 30,
     "metadata": {},
     "output_type": "execute_result"
    },
    {
     "data": {
      "image/png": "[encoded data removed]",
      "text/plain": [
       "<Figure size 432x288 with 1 Axes>"
      ]
     },
     "metadata": {
      "needs_background": "light"
     },
     "output_type": "display_data"
    }
   ],
   "source": [
    "from sklearn.decomposition import PCA\n",
    "pca = PCA(n_components=2)\n",
    "pca.fit_transform(pca_data.T)\n",
    "\n",
    "transformed_2 = pca.fit_transform(pca_data.T)\n",
    "plt.scatter(x = transformed_2[:,0], y = transformed_2[:,1])\n",
    "plt.xlim(-18,18)\n",
    "plt.ylim(-10,10)"
   ]
  },
  {
   "cell_type": "code",
   "execution_count": 31,
   "metadata": {},
   "outputs": [
    {
     "data": {
      "text/plain": [
       "PCA(n_components=2)"
      ]
     },
     "execution_count": 31,
     "metadata": {},
     "output_type": "execute_result"
    }
   ],
   "source": [
    "pca"
   ]
  },
  {
   "cell_type": "code",
   "execution_count": 32,
   "metadata": {},
   "outputs": [
    {
     "name": "stdout",
     "output_type": "stream",
     "text": [
      "[0.97835486 0.02164514]\n"
     ]
    }
   ],
   "source": [
    "print(pca.explained_variance_ratio_)"
   ]
  },
  {
   "cell_type": "code",
   "execution_count": 33,
   "metadata": {},
   "outputs": [
    {
     "data": {
      "text/plain": [
       "0.9869054648126391"
      ]
     },
     "execution_count": 33,
     "metadata": {},
     "output_type": "execute_result"
    }
   ],
   "source": [
    "(84.22845791)/(84.22845791+1.11756652)"
   ]
  },
  {
   "cell_type": "code",
   "execution_count": 35,
   "metadata": {},
   "outputs": [
    {
     "name": "stdout",
     "output_type": "stream",
     "text": [
      "Eigenvector: \n",
      " [[-0.65273251 -0.75758846]\n",
      " [-0.75758846  0.65273251]] \n",
      "\n",
      "Eigenvalues: \n",
      " [79.86809929  1.7670032 ] \n",
      "\n",
      "SciKit Learn Results: \n",
      " [[ 0.65273251  0.75758846]\n",
      " [-0.75758846  0.65273251]]\n",
      "SciKit Learn variance: \n",
      " [81.91599927  1.81231097]\n"
     ]
    }
   ],
   "source": [
    "\n",
    "print(\"Eigenvector: \\n\",eigen_vectors,\"\\n\")\n",
    "print(\"Eigenvalues: \\n\", eigen_values, \"\\n\")\n",
    "\n",
    "print(\"SciKit Learn Results: \\n\" , pca.components_)\n",
    "\n",
    "print(\"SciKit Learn variance: \\n\" , pca.explained_variance_)"
   ]
  },
  {
   "cell_type": "markdown",
   "metadata": {},
   "source": [
    "#### What happens if you only take one component?"
   ]
  },
  {
   "cell_type": "code",
   "execution_count": 39,
   "metadata": {},
   "outputs": [
    {
     "data": {
      "text/plain": [
       "array([ 15.86080936,  11.17238402,  15.62691555,  12.46663007,\n",
       "        12.68399881,  10.2571527 ,  10.92789663,  10.45905296,\n",
       "        10.13248235,   8.01871208,   6.95549238,   6.37640055,\n",
       "         5.5289648 ,   2.73215241,   4.24087362,   4.8088733 ,\n",
       "         3.24680629,   2.23879701,   1.39313848,   0.43735986,\n",
       "         0.10125727,   0.69895323,  -1.40199203,  -3.19682819,\n",
       "        -3.56320575,  -2.53770119,  -5.59781039,  -4.18357549,\n",
       "        -5.51489272,  -8.02274199, -10.01669321,  -9.56441737,\n",
       "        -9.87693238,  -8.33170041, -12.55683149, -13.55312808,\n",
       "       -13.43640382, -15.3118178 , -12.21988971, -17.4785417 ])"
      ]
     },
     "execution_count": 39,
     "metadata": {},
     "output_type": "execute_result"
    }
   ],
   "source": [
    "modified_data = np.dot(eigen_vectors[:,0].T, pca_centered)\n",
    "modified_data"
   ]
  },
  {
   "cell_type": "code",
   "execution_count": 42,
   "metadata": {},
   "outputs": [
    {
     "data": {
      "text/plain": [
       "(2, 40)"
      ]
     },
     "execution_count": 42,
     "metadata": {},
     "output_type": "execute_result"
    }
   ],
   "source": [
    "pca_centered.shape"
   ]
  },
  {
   "cell_type": "code",
   "execution_count": 40,
   "metadata": {
    "scrolled": true
   },
   "outputs": [
    {
     "data": {
      "text/plain": [
       "<matplotlib.collections.PathCollection at 0x7fe151706640>"
      ]
     },
     "execution_count": 40,
     "metadata": {},
     "output_type": "execute_result"
    },
    {
     "data": {
      "image/png": "[encoded data removed]",
      "text/plain": [
       "<Figure size 432x288 with 1 Axes>"
      ]
     },
     "metadata": {
      "needs_background": "light"
     },
     "output_type": "display_data"
    }
   ],
   "source": [
    "#Let's inverse the original eigenvector matrix, take the first component and multiply back through the modified data.\n",
    "reset_results = np.dot(np.linalg.inv(eigen_vectors)[:,0].reshape(2,1), modified_data.reshape(modified_data.shape[0],1).T).T\n",
    "plt.scatter(x = reset_results[:,0], y = reset_results[:,1])"
   ]
  },
  {
   "cell_type": "markdown",
   "metadata": {},
   "source": [
    "### Whitening (and why we use it)"
   ]
  },
  {
   "cell_type": "code",
   "execution_count": null,
   "metadata": {},
   "outputs": [],
   "source": [
    "sigma_half = fractional_matrix_power(np.cov(mymat, bias = True), -0.5)\n",
    "sigma_half"
   ]
  },
  {
   "cell_type": "code",
   "execution_count": null,
   "metadata": {},
   "outputs": [],
   "source": [
    "whitened_data = np.dot(sigma_half, mymat - mean_values)\n",
    "whitened_data"
   ]
  },
  {
   "cell_type": "code",
   "execution_count": null,
   "metadata": {},
   "outputs": [],
   "source": [
    "np.cov(whitened_data, bias = True) "
   ]
  },
  {
   "cell_type": "code",
   "execution_count": 59,
   "metadata": {},
   "outputs": [],
   "source": [
    "#### ZCA whitening\n",
    "#borrowed heavily from  https://stackoverflow.com/questions/31528800/how-to-implement-zca-whitening-python\n",
    "def zca_whitening_matrix(X):\n",
    "    \"\"\"\n",
    "    Function to compute ZCA whitening matrix (aka Mahalanobis whitening).\n",
    "    INPUT:  X: [M x N] matrix.\n",
    "        Rows: Variables\n",
    "        Columns: Observations\n",
    "    OUTPUT: ZCAMatrix: [M x M] matrix\n",
    "    \"\"\"\n",
    "    # Covariance matrix [column-wise variables]: Sigma = (X-mu)' * (X-mu) / N\n",
    "    sigma = np.cov(X, rowvar=True, bias = True) # [M x M]\n",
    "    # Singular Value Decomposition. X = U * np.diag(S) * V\n",
    "    U,S,V = np.linalg.svd(sigma)\n",
    "        # U: [M x M] eigenvectors of sigma.\n",
    "        # S: [M x 1] eigenvalues of sigma.\n",
    "        # V: [M x M] transpose of U\n",
    "    # Whitening constant: prevents division by zero\n",
    "    epsilon = 1e-15\n",
    "    # ZCA Whitening matrix: U * Lambda * U'\n",
    "    ZCAMatrix = np.dot(U, np.dot(np.diag(1.0/np.sqrt(S + epsilon)), U.T)) # [M x M]\n",
    "    return ZCAMatrix, sigma, U, S, V"
   ]
  },
  {
   "cell_type": "code",
   "execution_count": null,
   "metadata": {},
   "outputs": [],
   "source": [
    "my_zca_transformer, _, _ , _, _ = zca_whitening_matrix(mymat)\n",
    "my_zca_transformer"
   ]
  },
  {
   "cell_type": "code",
   "execution_count": null,
   "metadata": {},
   "outputs": [],
   "source": [
    "my_zca_X = np.dot(my_zca_transformer, mymat-mean_values)\n",
    "my_zca_X"
   ]
  },
  {
   "cell_type": "code",
   "execution_count": null,
   "metadata": {},
   "outputs": [],
   "source": [
    "np.cov(my_zca_X, bias = True, rowvar = True) "
   ]
  },
  {
   "cell_type": "markdown",
   "metadata": {},
   "source": [
    "### This is cute and all, but why not just do PCA or some other orientation"
   ]
  },
  {
   "cell_type": "code",
   "execution_count": 46,
   "metadata": {},
   "outputs": [],
   "source": [
    "#Let's use the famouse cifar-10 dataset\n",
    "#https://www.cs.toronto.edu/~kriz/cifar.html\n",
    "\n",
    "(x_train, y_train), (x_test, y_test) = keras.datasets.cifar10.load_data()"
   ]
  },
  {
   "cell_type": "code",
   "execution_count": 47,
   "metadata": {},
   "outputs": [
    {
     "data": {
      "text/plain": [
       "(50000, 32, 32, 3)"
      ]
     },
     "execution_count": 47,
     "metadata": {},
     "output_type": "execute_result"
    }
   ],
   "source": [
    "x_train.shape #this is way to big. My laptop will cry. "
   ]
  },
  {
   "cell_type": "code",
   "execution_count": 48,
   "metadata": {},
   "outputs": [
    {
     "data": {
      "text/plain": [
       "<matplotlib.image.AxesImage at 0x7fe10180d160>"
      ]
     },
     "execution_count": 48,
     "metadata": {},
     "output_type": "execute_result"
    },
    {
     "data": {
      "image/png": "[encoded data removed]",
      "text/plain": [
       "<Figure size 432x288 with 1 Axes>"
      ]
     },
     "metadata": {
      "needs_background": "light"
     },
     "output_type": "display_data"
    }
   ],
   "source": [
    "x_train_new = x_train[:5000, :, :, :]\n",
    "plt.imshow(x_train_new[50,:,:,:])"
   ]
  },
  {
   "cell_type": "code",
   "execution_count": 49,
   "metadata": {},
   "outputs": [
    {
     "data": {
      "text/plain": [
       "<matplotlib.image.AxesImage at 0x7fe13049e2e0>"
      ]
     },
     "execution_count": 49,
     "metadata": {},
     "output_type": "execute_result"
    },
    {
     "data": {
      "image/png": "[encoded data removed]",
      "text/plain": [
       "<Figure size 432x288 with 1 Axes>"
      ]
     },
     "metadata": {
      "needs_background": "light"
     },
     "output_type": "display_data"
    }
   ],
   "source": [
    "x_train_new = np.array([cv2.cvtColor(image, cv2.COLOR_BGR2GRAY) for image in x_train_new]) # let's grayscale it\n",
    "plt.imshow(x_train_new[50,:], cmap = \"gray\")"
   ]
  },
  {
   "cell_type": "code",
   "execution_count": 50,
   "metadata": {},
   "outputs": [
    {
     "data": {
      "text/plain": [
       "(5000, 32, 32)"
      ]
     },
     "execution_count": 50,
     "metadata": {},
     "output_type": "execute_result"
    }
   ],
   "source": [
    "x_train_new.shape"
   ]
  },
  {
   "cell_type": "code",
   "execution_count": 51,
   "metadata": {},
   "outputs": [
    {
     "data": {
      "text/plain": [
       "(1024, 5000)"
      ]
     },
     "execution_count": 51,
     "metadata": {},
     "output_type": "execute_result"
    }
   ],
   "source": [
    "cifar_10_formatted = x_train_new.reshape(5000, 32**2).T\n",
    "cifar_10_formatted_no_mean = cifar_10_formatted - np.mean(cifar_10_formatted, axis = 1)[:, None]\n",
    "cifar_10_formatted_no_mean.shape"
   ]
  },
  {
   "cell_type": "code",
   "execution_count": 60,
   "metadata": {},
   "outputs": [
    {
     "data": {
      "text/plain": [
       "<matplotlib.image.AxesImage at 0x7fe151654670>"
      ]
     },
     "execution_count": 60,
     "metadata": {},
     "output_type": "execute_result"
    },
    {
     "data": {
      "image/png": "[encoded data removed]",
      "text/plain": [
       "<Figure size 432x288 with 1 Axes>"
      ]
     },
     "metadata": {
      "needs_background": "light"
     },
     "output_type": "display_data"
    }
   ],
   "source": [
    "plt.imshow (cifar_10_formatted_no_mean[:, 50].reshape(32,32), cmap = \"gray\")"
   ]
  },
  {
   "cell_type": "code",
   "execution_count": 61,
   "metadata": {},
   "outputs": [],
   "source": [
    "my_zca_transformer_image_stuff, _, _, _, _ = zca_whitening_matrix(cifar_10_formatted_no_mean)\n",
    "cifar10_xZCA = np.dot(my_zca_transformer_image_stuff, cifar_10_formatted_no_mean)\n"
   ]
  },
  {
   "cell_type": "code",
   "execution_count": 63,
   "metadata": {},
   "outputs": [
    {
     "data": {
      "text/plain": [
       "(1024, 1024)"
      ]
     },
     "execution_count": 63,
     "metadata": {},
     "output_type": "execute_result"
    }
   ],
   "source": [
    "my_zca_transformer_image_stuff.shape"
   ]
  },
  {
   "cell_type": "code",
   "execution_count": 68,
   "metadata": {},
   "outputs": [
    {
     "data": {
      "text/plain": [
       "<matplotlib.image.AxesImage at 0x7fe122631ac0>"
      ]
     },
     "execution_count": 68,
     "metadata": {},
     "output_type": "execute_result"
    },
    {
     "data": {
      "image/png": "[encoded data removed]",
      "text/plain": [
       "<Figure size 432x288 with 1 Axes>"
      ]
     },
     "metadata": {
      "needs_background": "light"
     },
     "output_type": "display_data"
    }
   ],
   "source": [
    "plt.imshow(cifar10_xZCA[:, 50].reshape(32,32), cmap = \"gray\")"
   ]
  },
  {
   "cell_type": "code",
   "execution_count": 64,
   "metadata": {},
   "outputs": [
    {
     "data": {
      "text/plain": [
       "array([[ 1.00000000e+00, -8.74091377e-12,  1.16800365e-12, ...,\n",
       "        -2.55708343e-13,  3.14927817e-13, -2.17287344e-13],\n",
       "       [-8.74091377e-12,  1.00000000e+00, -3.31769314e-12, ...,\n",
       "         7.04253722e-13, -6.98895875e-13,  4.76005724e-13],\n",
       "       [ 1.16800365e-12, -3.31769314e-12,  1.00000000e+00, ...,\n",
       "        -2.26206254e-13,  2.73880474e-13, -1.00564401e-13],\n",
       "       ...,\n",
       "       [-2.55708343e-13,  7.04253722e-13, -2.26206254e-13, ...,\n",
       "         1.00000000e+00, -2.65433897e-14,  6.20019591e-15],\n",
       "       [ 3.14927817e-13, -6.98895875e-13,  2.73880474e-13, ...,\n",
       "        -2.65433897e-14,  1.00000000e+00, -2.50867771e-14],\n",
       "       [-2.17287344e-13,  4.76005724e-13, -1.00564401e-13, ...,\n",
       "         6.20019591e-15, -2.50867771e-14,  1.00000000e+00]])"
      ]
     },
     "execution_count": 64,
     "metadata": {},
     "output_type": "execute_result"
    }
   ],
   "source": [
    "np.cov(cifar10_xZCA, rowvar = True, bias = True)"
   ]
  },
  {
   "cell_type": "code",
   "execution_count": 67,
   "metadata": {},
   "outputs": [
    {
     "data": {
      "text/plain": [
       "(1024, 1024)"
      ]
     },
     "execution_count": 67,
     "metadata": {},
     "output_type": "execute_result"
    }
   ],
   "source": [
    "np.cov(cifar10_xZCA, rowvar = True, bias = True).shape"
   ]
  },
  {
   "cell_type": "code",
   "execution_count": null,
   "metadata": {},
   "outputs": [],
   "source": [
    "#### Let's get some puppies"
   ]
  },
  {
   "cell_type": "code",
   "execution_count": 69,
   "metadata": {},
   "outputs": [],
   "source": [
    "new_size = 50\n",
    "\n",
    "urls = ['https://hips.hearstapps.com/hmg-prod.s3.amazonaws.com/images/dog-puppy-on-garden-royalty-free-image-1586966191.jpg',\n",
    "        'https://dogtime.com/assets/uploads/2018/10/puppies-cover.jpg',\n",
    "         'https://www.readersdigest.ca/wp-content/uploads/2013/03/6-facts-to-know-before-owning-a-puppy.jpg',\n",
    "          'https://images.newscientist.com/wp-content/uploads/2021/06/03141753/03-june_puppies.jpg']\n",
    "\n",
    "puppies = []\n",
    "for url in urls:\n",
    "    r = Request(url, headers={'User-Agent': 'Mozilla/5.0'})\n",
    "    response = urlopen(r).read()\n",
    "    arr = np.asarray(bytearray(response), dtype=np.uint8)\n",
    "    puppies.append(cv2.imdecode(arr, 0)) # 'Load it as it is'\n",
    "\n",
    "puppies_scaled = [cv2.resize(x, [new_size,new_size], interpolation = cv2.INTER_AREA) for x in puppies]\n",
    "puppies_vectors = [x.reshape(new_size * new_size) for x in puppies_scaled]"
   ]
  },
  {
   "cell_type": "code",
   "execution_count": 75,
   "metadata": {},
   "outputs": [
    {
     "data": {
      "text/plain": [
       "<matplotlib.image.AxesImage at 0x7fe0d0c87100>"
      ]
     },
     "execution_count": 75,
     "metadata": {},
     "output_type": "execute_result"
    },
    {
     "data": {
      "image/png": "[encoded data removed]",
      "text/plain": [
       "<Figure size 432x288 with 1 Axes>"
      ]
     },
     "metadata": {
      "needs_background": "light"
     },
     "output_type": "display_data"
    }
   ],
   "source": [
    "plt.imshow(puppies[1], cmap = \"gray\")"
   ]
  },
  {
   "cell_type": "code",
   "execution_count": 71,
   "metadata": {
    "scrolled": true
   },
   "outputs": [
    {
     "data": {
      "text/plain": [
       "<matplotlib.image.AxesImage at 0x7fe111374a00>"
      ]
     },
     "execution_count": 71,
     "metadata": {},
     "output_type": "execute_result"
    },
    {
     "data": {
      "image/png": "[encoded data removed]",
      "text/plain": [
       "<Figure size 432x288 with 1 Axes>"
      ]
     },
     "metadata": {
      "needs_background": "light"
     },
     "output_type": "display_data"
    }
   ],
   "source": [
    "plt.imshow(puppies_scaled[1], cmap='gray')"
   ]
  },
  {
   "cell_type": "code",
   "execution_count": 76,
   "metadata": {},
   "outputs": [],
   "source": [
    "puppies_clean = np.array(puppies_vectors).T\n",
    "puppes_clean_no_mean = puppies_clean - np.mean(puppies_clean, axis = 1)[:, None]"
   ]
  },
  {
   "cell_type": "code",
   "execution_count": 77,
   "metadata": {},
   "outputs": [
    {
     "data": {
      "text/plain": [
       "(2500, 4)"
      ]
     },
     "execution_count": 77,
     "metadata": {},
     "output_type": "execute_result"
    }
   ],
   "source": [
    "puppes_clean_no_mean.shape"
   ]
  },
  {
   "cell_type": "code",
   "execution_count": 78,
   "metadata": {
    "scrolled": true
   },
   "outputs": [
    {
     "data": {
      "text/plain": [
       "<matplotlib.image.AxesImage at 0x7fe12264ed30>"
      ]
     },
     "execution_count": 78,
     "metadata": {},
     "output_type": "execute_result"
    },
    {
     "data": {
      "image/png": "[encoded data removed]",
      "text/plain": [
       "<Figure size 432x288 with 1 Axes>"
      ]
     },
     "metadata": {
      "needs_background": "light"
     },
     "output_type": "display_data"
    }
   ],
   "source": [
    "plt.imshow(puppes_clean_no_mean[:,1].reshape(new_size, new_size), cmap = \"gray\")"
   ]
  },
  {
   "cell_type": "code",
   "execution_count": 79,
   "metadata": {},
   "outputs": [],
   "source": [
    "#ZCA whitened_picture\n",
    "my_zca_transformer_image_stuff, sig, u1, s1, v1 = zca_whitening_matrix(puppes_clean_no_mean)\n"
   ]
  },
  {
   "cell_type": "code",
   "execution_count": 83,
   "metadata": {},
   "outputs": [
    {
     "data": {
      "text/plain": [
       "<matplotlib.image.AxesImage at 0x7fe101774b20>"
      ]
     },
     "execution_count": 83,
     "metadata": {},
     "output_type": "execute_result"
    },
    {
     "data": {
      "image/png": "[encoded data removed]",
      "text/plain": [
       "<Figure size 432x288 with 1 Axes>"
      ]
     },
     "metadata": {
      "needs_background": "light"
     },
     "output_type": "display_data"
    }
   ],
   "source": [
    "puppies_xZCA = np.dot(my_zca_transformer_image_stuff, puppes_clean_no_mean)\n",
    "puppies_whitened_pics = [puppies_xZCA[:,i].reshape(new_size,new_size) for i in range(len(urls))]\n",
    "plt.imshow(puppies_whitened_pics[2], cmap='gray')\n"
   ]
  },
  {
   "cell_type": "code",
   "execution_count": 84,
   "metadata": {
    "scrolled": true
   },
   "outputs": [
    {
     "data": {
      "text/plain": [
       "array([[0.00066031, 0.00056214, 0.00050178, ..., 0.00027655, 0.00028193,\n",
       "        0.0003047 ],\n",
       "       [0.00056214, 0.00086707, 0.00075171, ..., 0.00022508, 0.00018811,\n",
       "        0.00019766],\n",
       "       [0.00050178, 0.00075171, 0.00092065, ..., 0.00030842, 0.00037329,\n",
       "        0.00043871],\n",
       "       ...,\n",
       "       [0.00027655, 0.00022508, 0.00030842, ..., 0.00015871, 0.00020013,\n",
       "        0.00023238],\n",
       "       [0.00028193, 0.00018811, 0.00037329, ..., 0.00020013, 0.00028002,\n",
       "        0.00033357],\n",
       "       [0.0003047 , 0.00019766, 0.00043871, ..., 0.00023238, 0.00033357,\n",
       "        0.00039998]])"
      ]
     },
     "execution_count": 84,
     "metadata": {},
     "output_type": "execute_result"
    }
   ],
   "source": [
    "np.cov(puppies_xZCA, rowvar = True, bias = True)  "
   ]
  },
  {
   "cell_type": "markdown",
   "metadata": {},
   "source": [
    "### Bonus points 3% \n",
    "\n",
    "-Why are the off-diagonals not 0?\n",
    "-3% extra credit for formal proof. "
   ]
  },
  {
   "cell_type": "markdown",
   "metadata": {},
   "source": [
    "## PCA by hand (on CIFAR10)"
   ]
  },
  {
   "cell_type": "code",
   "execution_count": 53,
   "metadata": {},
   "outputs": [
    {
     "name": "stdout",
     "output_type": "stream",
     "text": [
      "Eigenvector: \n",
      " [[-0.05014274 -0.03148925 -0.03086019 ...  0.01201104 -0.0186586\n",
      "  -0.00517942]\n",
      " [-0.04993266 -0.03190975 -0.02996241 ... -0.04185594 -0.01626944\n",
      "   0.03226982]\n",
      " [-0.04992499 -0.0324719  -0.02928304 ...  0.01159085  0.02026695\n",
      "  -0.07660374]\n",
      " ...\n",
      " [-0.02779202  0.0392182  -0.04034409 ...  0.01109606  0.00367269\n",
      "  -0.02320235]\n",
      " [-0.02835436  0.03756079 -0.04028345 ... -0.01403377 -0.02354542\n",
      "  -0.00616369]\n",
      " [-0.02889157  0.03587282 -0.04023985 ...  0.00964296  0.01553135\n",
      "   0.01130603]] \n",
      "\n",
      "Eigenvalues: \n",
      " [1.23670327e+06 4.70823404e+05 2.79173056e+05 ... 1.36960878e+01\n",
      " 1.34278616e+01 1.31708188e+01] \n",
      "\n"
     ]
    }
   ],
   "source": [
    "covariance_matrix = np.cov(cifar_10_formatted_no_mean, bias = True, rowvar = True)\n",
    "eigen_values, eigen_vectors = np.linalg.eig(covariance_matrix)\n",
    "print(\"Eigenvector: \\n\",eigen_vectors,\"\\n\")\n",
    "print(\"Eigenvalues: \\n\", eigen_values, \"\\n\")"
   ]
  },
  {
   "cell_type": "markdown",
   "metadata": {},
   "source": [
    "#### PCA completely changes the basis"
   ]
  },
  {
   "cell_type": "code",
   "execution_count": 54,
   "metadata": {},
   "outputs": [
    {
     "data": {
      "text/plain": [
       "array([[ 1.06953225e+03, -1.25974952e+02, -1.17565426e+03, ...,\n",
       "        -1.17903747e+02, -1.01318895e+03,  1.65098695e+03],\n",
       "       [ 3.02581037e+02, -1.08052977e+02, -1.62307403e+03, ...,\n",
       "        -6.46980713e+02,  4.22759067e+02,  5.25187685e+02],\n",
       "       [ 3.75909181e+02,  9.30511180e+02, -3.56158469e+02, ...,\n",
       "        -1.44508088e+02,  1.09691675e+02, -4.07688462e+02],\n",
       "       ...,\n",
       "       [ 1.20588583e+00,  6.47609243e+00, -3.50600751e+00, ...,\n",
       "        -9.14523348e+00, -6.73066401e-01, -4.58485817e-01],\n",
       "       [ 4.62660928e+00, -8.22211448e+00, -1.52999437e+00, ...,\n",
       "        -2.53209603e+00, -4.79662350e+00,  6.65195957e+00],\n",
       "       [ 1.05499076e+00,  8.94659903e+00,  1.76556863e+00, ...,\n",
       "        -1.44566762e+00,  7.96913530e+00,  3.57725790e+00]])"
      ]
     },
     "execution_count": 54,
     "metadata": {},
     "output_type": "execute_result"
    }
   ],
   "source": [
    "PCA_data = np.dot(eigen_vectors.T, cifar_10_formatted_no_mean)\n",
    "PCA_data"
   ]
  },
  {
   "cell_type": "code",
   "execution_count": 55,
   "metadata": {},
   "outputs": [
    {
     "data": {
      "text/plain": [
       "(1024, 5000)"
      ]
     },
     "execution_count": 55,
     "metadata": {},
     "output_type": "execute_result"
    }
   ],
   "source": [
    "PCA_data.shape"
   ]
  },
  {
   "cell_type": "code",
   "execution_count": 58,
   "metadata": {},
   "outputs": [
    {
     "data": {
      "text/plain": [
       "<matplotlib.image.AxesImage at 0x7fe1109895b0>"
      ]
     },
     "execution_count": 58,
     "metadata": {},
     "output_type": "execute_result"
    },
    {
     "data": {
      "image/png": "[encoded data removed]",
      "text/plain": [
       "<Figure size 432x288 with 1 Axes>"
      ]
     },
     "metadata": {
      "needs_background": "light"
     },
     "output_type": "display_data"
    }
   ],
   "source": [
    "plt.imshow(PCA_data[:,50].reshape(32,32),  cmap='gray')"
   ]
  },
  {
   "cell_type": "code",
   "execution_count": 56,
   "metadata": {},
   "outputs": [
    {
     "data": {
      "text/plain": [
       "array([[ 1.23670327e+06,  4.76092100e-10, -2.15694308e-10, ...,\n",
       "        -3.42915882e-11,  5.76994353e-11,  1.07829692e-11],\n",
       "       [ 4.76092100e-10,  4.70823404e+05, -1.12503767e-10, ...,\n",
       "        -4.36775736e-12, -2.42827809e-11, -1.78129994e-11],\n",
       "       [-2.15694308e-10, -1.12503767e-10,  2.79173056e+05, ...,\n",
       "         1.02736522e-11,  4.59258445e-12,  1.32524292e-11],\n",
       "       ...,\n",
       "       [-3.42915882e-11, -4.36775736e-12,  1.02736522e-11, ...,\n",
       "         1.36960878e+01, -2.79473142e-11,  7.46720502e-11],\n",
       "       [ 5.76994353e-11, -2.42827809e-11,  4.59258445e-12, ...,\n",
       "        -2.79473142e-11,  1.34278616e+01, -6.62079174e-12],\n",
       "       [ 1.07829692e-11, -1.78129994e-11,  1.32524292e-11, ...,\n",
       "         7.46720502e-11, -6.62079174e-12,  1.31708188e+01]])"
      ]
     },
     "execution_count": 56,
     "metadata": {},
     "output_type": "execute_result"
    }
   ],
   "source": [
    "np.cov(PCA_data, rowvar= True, bias = True)"
   ]
  },
  {
   "cell_type": "code",
   "execution_count": 57,
   "metadata": {},
   "outputs": [
    {
     "data": {
      "text/plain": [
       "(1024, 1024)"
      ]
     },
     "execution_count": 57,
     "metadata": {},
     "output_type": "execute_result"
    }
   ],
   "source": [
    "np.cov(PCA_data, rowvar= True, bias = True).shape"
   ]
  },
  {
   "cell_type": "code",
   "execution_count": null,
   "metadata": {},
   "outputs": [],
   "source": [
    "# more information:\n",
    "#https://stats.stackexchange.com/questions/117427/what-is-the-difference-between-zca-whitening-and-pca-whitening"
   ]
  },
  {
   "cell_type": "code",
   "execution_count": null,
   "metadata": {},
   "outputs": [],
   "source": []
  }
 ],
 "metadata": {
  "kernelspec": {
   "display_name": "Python 3",
   "language": "python",
   "name": "python3"
  },
  "language_info": {
   "codemirror_mode": {
    "name": "ipython",
    "version": 3
   },
   "file_extension": ".py",
   "mimetype": "text/x-python",
   "name": "python",
   "nbconvert_exporter": "python",
   "pygments_lexer": "ipython3",
   "version": "3.8.5"
  }
 },
 "nbformat": 4,
 "nbformat_minor": 4
}
