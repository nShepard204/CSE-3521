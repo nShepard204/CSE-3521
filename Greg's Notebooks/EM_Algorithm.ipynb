{
 "cells": [
  {
   "cell_type": "markdown",
   "metadata": {},
   "source": [
    "## Running the EM Algorithm\n",
    "\n",
    "Now that we have figured out how to update our weights in each iteration algorithmically, let's code up the formulas.\n",
    "\n",
    "Remember that $\\hat{\\theta}_A = \\frac{\\sum Pr(Z_i = A | X_i, \\theta_i) x_i}{10\\sum Pr(Z_i = A | X_i, \\theta_i)}$ and $\\hat{\\theta}_B = \\frac{\\sum Pr(Z_i = B | X_i, \\theta_i) x_i}{10\\sum Pr(Z_i = B | X_i, \\theta_i)}$.\n",
    "\n",
    "Further recall that $Pr(Z_i = A | X_i, \\theta_i) = \\frac{Pr(X_i, \\theta_i | Z_i = A) Pr(Z_i = A)} {Pr(X_i, \\theta_i)}$. A similar formula applies for $Pr(Z_i = B | X_i, \\theta_i)$.\n",
    "\n",
    "We code this up in the function new_theta. You will notice it matches the results on the page here: http://karlrosaen.com/ml/notebooks/em-coin-flips/"
   ]
  },
  {
   "cell_type": "code",
   "execution_count": 10,
   "metadata": {},
   "outputs": [],
   "source": [
    "import numpy as np\n",
    "from scipy.stats import binom\n",
    "from math import comb"
   ]
  },
  {
   "cell_type": "code",
   "execution_count": 11,
   "metadata": {},
   "outputs": [],
   "source": [
    "def new_theta (old_theta, obs_heads):\n",
    "    prob_x_theta_given_Z_A_xi = np.array([binom.pmf(k = k, n = 10, p = old_theta['A']) for k in obs_heads])\n",
    "    prob_x_theta_given_Z_B_xi = np.array([binom.pmf(k = k, n = 10, p = old_theta['B']) for k in obs_heads])\n",
    "    prob_zA_given_x_theta = prob_x_theta_given_Z_A_xi / (prob_x_theta_given_Z_A_xi + prob_x_theta_given_Z_B_xi)\n",
    "    prob_zB_given_x_theta = prob_x_theta_given_Z_B_xi / (prob_x_theta_given_Z_A_xi + prob_x_theta_given_Z_B_xi)\n",
    "    \n",
    "    new_thetaA = np.sum(prob_zA_given_x_theta*obs_heads)/ (10 * np.sum(prob_zA_given_x_theta))\n",
    "    new_thetaB = np.sum(prob_zB_given_x_theta*obs_heads)/ (10 * np.sum(prob_zB_given_x_theta))\n",
    "    \n",
    "\n",
    "    return{ 'A': new_thetaA, 'B' : new_thetaB}\n",
    "    \n",
    "    "
   ]
  },
  {
   "cell_type": "markdown",
   "metadata": {},
   "source": []
  },
  {
   "cell_type": "code",
   "execution_count": 15,
   "metadata": {},
   "outputs": [
    {
     "name": "stdout",
     "output_type": "stream",
     "text": [
      "0: thetaA/thetaB: 0.500 / 0.500\n",
      "1: thetaA/thetaB: nan / nan\n",
      "2: thetaA/thetaB: nan / nan\n",
      "3: thetaA/thetaB: nan / nan\n",
      "4: thetaA/thetaB: nan / nan\n",
      "5: thetaA/thetaB: nan / nan\n",
      "6: thetaA/thetaB: nan / nan\n"
     ]
    },
    {
     "name": "stderr",
     "output_type": "stream",
     "text": [
      "C:\\Users\\nShep\\AppData\\Local\\Temp\\ipykernel_11964\\3207650549.py:4: RuntimeWarning: invalid value encountered in true_divide\n",
      "  prob_zA_given_x_theta = prob_x_theta_given_Z_A_xi / (prob_x_theta_given_Z_A_xi + prob_x_theta_given_Z_B_xi)\n",
      "C:\\Users\\nShep\\AppData\\Local\\Temp\\ipykernel_11964\\3207650549.py:5: RuntimeWarning: invalid value encountered in true_divide\n",
      "  prob_zB_given_x_theta = prob_x_theta_given_Z_B_xi / (prob_x_theta_given_Z_A_xi + prob_x_theta_given_Z_B_xi)\n"
     ]
    }
   ],
   "source": [
    "# theta_A is index 0 and theta_B is index 1\n",
    "theta = {'A' : 0.5, 'B' : 0.5}\n",
    "obs_heads = np.array([5,9,8,4,7])\n",
    "\n",
    "print(str(0) + \": thetaA/thetaB: \" + f\"{theta['A']:.3f}\" + \" / \" + f\"{theta['B']:.3f}\") # print original\n",
    "for i in range(6):\n",
    "    theta = new_theta(theta, obs_heads)\n",
    "    print(str(i+1) + \": thetaA/thetaB: \" + f\"{theta['A']:.3f}\" + \" / \" + f\"{theta['B']:.3f}\")"
   ]
  },
  {
   "cell_type": "code",
   "execution_count": null,
   "metadata": {},
   "outputs": [],
   "source": []
  }
 ],
 "metadata": {
  "kernelspec": {
   "display_name": "Python 3",
   "language": "python",
   "name": "python3"
  },
  "language_info": {
   "codemirror_mode": {
    "name": "ipython",
    "version": 3
   },
   "file_extension": ".py",
   "mimetype": "text/x-python",
   "name": "python",
   "nbconvert_exporter": "python",
   "pygments_lexer": "ipython3",
   "version": "3.9.10"
  }
 },
 "nbformat": 4,
 "nbformat_minor": 4
}
