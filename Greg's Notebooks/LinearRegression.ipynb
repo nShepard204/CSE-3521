{
 "cells": [
  {
   "cell_type": "code",
   "execution_count": 1,
   "metadata": {},
   "outputs": [],
   "source": [
    "import numpy as np\n",
    "import pandas as pd\n",
    "import statsmodels.api as sm"
   ]
  },
  {
   "cell_type": "code",
   "execution_count": 2,
   "metadata": {},
   "outputs": [],
   "source": [
    "raw_data = pd.read_csv(\"D:\\My Documents\\VSCode\\Python Projects\\CSE 3521\\.data\\BP_Data.csv\")"
   ]
  },
  {
   "cell_type": "code",
   "execution_count": 3,
   "metadata": {},
   "outputs": [
    {
     "data": {
      "text/html": [
       "<div>\n",
       "<style scoped>\n",
       "    .dataframe tbody tr th:only-of-type {\n",
       "        vertical-align: middle;\n",
       "    }\n",
       "\n",
       "    .dataframe tbody tr th {\n",
       "        vertical-align: top;\n",
       "    }\n",
       "\n",
       "    .dataframe thead th {\n",
       "        text-align: right;\n",
       "    }\n",
       "</style>\n",
       "<table border=\"1\" class=\"dataframe\">\n",
       "  <thead>\n",
       "    <tr style=\"text-align: right;\">\n",
       "      <th></th>\n",
       "      <th>Age</th>\n",
       "      <th>Weight</th>\n",
       "      <th>Height</th>\n",
       "      <th>Pulse</th>\n",
       "      <th>Systol</th>\n",
       "      <th>Diastol</th>\n",
       "    </tr>\n",
       "  </thead>\n",
       "  <tbody>\n",
       "    <tr>\n",
       "      <th>0</th>\n",
       "      <td>21</td>\n",
       "      <td>71.0</td>\n",
       "      <td>1629</td>\n",
       "      <td>88</td>\n",
       "      <td>170</td>\n",
       "      <td>76</td>\n",
       "    </tr>\n",
       "    <tr>\n",
       "      <th>1</th>\n",
       "      <td>22</td>\n",
       "      <td>56.5</td>\n",
       "      <td>1569</td>\n",
       "      <td>64</td>\n",
       "      <td>120</td>\n",
       "      <td>60</td>\n",
       "    </tr>\n",
       "    <tr>\n",
       "      <th>2</th>\n",
       "      <td>24</td>\n",
       "      <td>56.0</td>\n",
       "      <td>1561</td>\n",
       "      <td>68</td>\n",
       "      <td>125</td>\n",
       "      <td>75</td>\n",
       "    </tr>\n",
       "    <tr>\n",
       "      <th>3</th>\n",
       "      <td>24</td>\n",
       "      <td>61.0</td>\n",
       "      <td>1619</td>\n",
       "      <td>52</td>\n",
       "      <td>148</td>\n",
       "      <td>120</td>\n",
       "    </tr>\n",
       "    <tr>\n",
       "      <th>4</th>\n",
       "      <td>25</td>\n",
       "      <td>65.0</td>\n",
       "      <td>1566</td>\n",
       "      <td>72</td>\n",
       "      <td>140</td>\n",
       "      <td>78</td>\n",
       "    </tr>\n",
       "    <tr>\n",
       "      <th>5</th>\n",
       "      <td>27</td>\n",
       "      <td>62.0</td>\n",
       "      <td>1639</td>\n",
       "      <td>72</td>\n",
       "      <td>106</td>\n",
       "      <td>72</td>\n",
       "    </tr>\n",
       "    <tr>\n",
       "      <th>6</th>\n",
       "      <td>28</td>\n",
       "      <td>53.0</td>\n",
       "      <td>1494</td>\n",
       "      <td>64</td>\n",
       "      <td>120</td>\n",
       "      <td>76</td>\n",
       "    </tr>\n",
       "    <tr>\n",
       "      <th>7</th>\n",
       "      <td>28</td>\n",
       "      <td>53.0</td>\n",
       "      <td>1568</td>\n",
       "      <td>80</td>\n",
       "      <td>108</td>\n",
       "      <td>62</td>\n",
       "    </tr>\n",
       "    <tr>\n",
       "      <th>8</th>\n",
       "      <td>31</td>\n",
       "      <td>65.0</td>\n",
       "      <td>1540</td>\n",
       "      <td>76</td>\n",
       "      <td>124</td>\n",
       "      <td>70</td>\n",
       "    </tr>\n",
       "    <tr>\n",
       "      <th>9</th>\n",
       "      <td>32</td>\n",
       "      <td>57.0</td>\n",
       "      <td>1530</td>\n",
       "      <td>60</td>\n",
       "      <td>134</td>\n",
       "      <td>64</td>\n",
       "    </tr>\n",
       "    <tr>\n",
       "      <th>10</th>\n",
       "      <td>33</td>\n",
       "      <td>66.5</td>\n",
       "      <td>1622</td>\n",
       "      <td>68</td>\n",
       "      <td>116</td>\n",
       "      <td>76</td>\n",
       "    </tr>\n",
       "    <tr>\n",
       "      <th>11</th>\n",
       "      <td>33</td>\n",
       "      <td>59.1</td>\n",
       "      <td>1486</td>\n",
       "      <td>72</td>\n",
       "      <td>114</td>\n",
       "      <td>74</td>\n",
       "    </tr>\n",
       "    <tr>\n",
       "      <th>12</th>\n",
       "      <td>34</td>\n",
       "      <td>64.0</td>\n",
       "      <td>1578</td>\n",
       "      <td>88</td>\n",
       "      <td>130</td>\n",
       "      <td>80</td>\n",
       "    </tr>\n",
       "    <tr>\n",
       "      <th>13</th>\n",
       "      <td>35</td>\n",
       "      <td>69.5</td>\n",
       "      <td>1645</td>\n",
       "      <td>60</td>\n",
       "      <td>118</td>\n",
       "      <td>68</td>\n",
       "    </tr>\n",
       "    <tr>\n",
       "      <th>14</th>\n",
       "      <td>35</td>\n",
       "      <td>64.0</td>\n",
       "      <td>1648</td>\n",
       "      <td>60</td>\n",
       "      <td>138</td>\n",
       "      <td>78</td>\n",
       "    </tr>\n",
       "    <tr>\n",
       "      <th>15</th>\n",
       "      <td>36</td>\n",
       "      <td>56.5</td>\n",
       "      <td>1521</td>\n",
       "      <td>72</td>\n",
       "      <td>134</td>\n",
       "      <td>86</td>\n",
       "    </tr>\n",
       "    <tr>\n",
       "      <th>16</th>\n",
       "      <td>36</td>\n",
       "      <td>57.0</td>\n",
       "      <td>1547</td>\n",
       "      <td>84</td>\n",
       "      <td>120</td>\n",
       "      <td>70</td>\n",
       "    </tr>\n",
       "    <tr>\n",
       "      <th>17</th>\n",
       "      <td>37</td>\n",
       "      <td>55.0</td>\n",
       "      <td>1505</td>\n",
       "      <td>64</td>\n",
       "      <td>120</td>\n",
       "      <td>76</td>\n",
       "    </tr>\n",
       "    <tr>\n",
       "      <th>18</th>\n",
       "      <td>37</td>\n",
       "      <td>57.0</td>\n",
       "      <td>1473</td>\n",
       "      <td>72</td>\n",
       "      <td>114</td>\n",
       "      <td>80</td>\n",
       "    </tr>\n",
       "    <tr>\n",
       "      <th>19</th>\n",
       "      <td>38</td>\n",
       "      <td>58.0</td>\n",
       "      <td>1538</td>\n",
       "      <td>64</td>\n",
       "      <td>124</td>\n",
       "      <td>64</td>\n",
       "    </tr>\n",
       "    <tr>\n",
       "      <th>20</th>\n",
       "      <td>38</td>\n",
       "      <td>59.5</td>\n",
       "      <td>1513</td>\n",
       "      <td>80</td>\n",
       "      <td>114</td>\n",
       "      <td>66</td>\n",
       "    </tr>\n",
       "    <tr>\n",
       "      <th>21</th>\n",
       "      <td>38</td>\n",
       "      <td>61.0</td>\n",
       "      <td>1653</td>\n",
       "      <td>76</td>\n",
       "      <td>136</td>\n",
       "      <td>78</td>\n",
       "    </tr>\n",
       "    <tr>\n",
       "      <th>22</th>\n",
       "      <td>38</td>\n",
       "      <td>57.0</td>\n",
       "      <td>1566</td>\n",
       "      <td>60</td>\n",
       "      <td>126</td>\n",
       "      <td>72</td>\n",
       "    </tr>\n",
       "    <tr>\n",
       "      <th>23</th>\n",
       "      <td>39</td>\n",
       "      <td>57.5</td>\n",
       "      <td>1580</td>\n",
       "      <td>64</td>\n",
       "      <td>124</td>\n",
       "      <td>62</td>\n",
       "    </tr>\n",
       "    <tr>\n",
       "      <th>24</th>\n",
       "      <td>39</td>\n",
       "      <td>74.0</td>\n",
       "      <td>1647</td>\n",
       "      <td>64</td>\n",
       "      <td>128</td>\n",
       "      <td>84</td>\n",
       "    </tr>\n",
       "    <tr>\n",
       "      <th>25</th>\n",
       "      <td>39</td>\n",
       "      <td>72.0</td>\n",
       "      <td>1620</td>\n",
       "      <td>68</td>\n",
       "      <td>134</td>\n",
       "      <td>92</td>\n",
       "    </tr>\n",
       "    <tr>\n",
       "      <th>26</th>\n",
       "      <td>41</td>\n",
       "      <td>62.5</td>\n",
       "      <td>1637</td>\n",
       "      <td>76</td>\n",
       "      <td>112</td>\n",
       "      <td>80</td>\n",
       "    </tr>\n",
       "    <tr>\n",
       "      <th>27</th>\n",
       "      <td>41</td>\n",
       "      <td>68.0</td>\n",
       "      <td>1528</td>\n",
       "      <td>60</td>\n",
       "      <td>128</td>\n",
       "      <td>82</td>\n",
       "    </tr>\n",
       "    <tr>\n",
       "      <th>28</th>\n",
       "      <td>41</td>\n",
       "      <td>63.4</td>\n",
       "      <td>1647</td>\n",
       "      <td>76</td>\n",
       "      <td>134</td>\n",
       "      <td>92</td>\n",
       "    </tr>\n",
       "    <tr>\n",
       "      <th>29</th>\n",
       "      <td>42</td>\n",
       "      <td>68.0</td>\n",
       "      <td>1605</td>\n",
       "      <td>88</td>\n",
       "      <td>128</td>\n",
       "      <td>90</td>\n",
       "    </tr>\n",
       "    <tr>\n",
       "      <th>30</th>\n",
       "      <td>43</td>\n",
       "      <td>69.0</td>\n",
       "      <td>1625</td>\n",
       "      <td>72</td>\n",
       "      <td>140</td>\n",
       "      <td>72</td>\n",
       "    </tr>\n",
       "    <tr>\n",
       "      <th>31</th>\n",
       "      <td>43</td>\n",
       "      <td>73.0</td>\n",
       "      <td>1615</td>\n",
       "      <td>68</td>\n",
       "      <td>138</td>\n",
       "      <td>74</td>\n",
       "    </tr>\n",
       "    <tr>\n",
       "      <th>32</th>\n",
       "      <td>43</td>\n",
       "      <td>64.0</td>\n",
       "      <td>1640</td>\n",
       "      <td>60</td>\n",
       "      <td>118</td>\n",
       "      <td>66</td>\n",
       "    </tr>\n",
       "    <tr>\n",
       "      <th>33</th>\n",
       "      <td>44</td>\n",
       "      <td>65.0</td>\n",
       "      <td>1610</td>\n",
       "      <td>74</td>\n",
       "      <td>110</td>\n",
       "      <td>70</td>\n",
       "    </tr>\n",
       "    <tr>\n",
       "      <th>34</th>\n",
       "      <td>44</td>\n",
       "      <td>71.0</td>\n",
       "      <td>1572</td>\n",
       "      <td>72</td>\n",
       "      <td>142</td>\n",
       "      <td>84</td>\n",
       "    </tr>\n",
       "    <tr>\n",
       "      <th>35</th>\n",
       "      <td>45</td>\n",
       "      <td>60.2</td>\n",
       "      <td>1534</td>\n",
       "      <td>56</td>\n",
       "      <td>134</td>\n",
       "      <td>70</td>\n",
       "    </tr>\n",
       "    <tr>\n",
       "      <th>36</th>\n",
       "      <td>47</td>\n",
       "      <td>55.0</td>\n",
       "      <td>1536</td>\n",
       "      <td>64</td>\n",
       "      <td>116</td>\n",
       "      <td>54</td>\n",
       "    </tr>\n",
       "    <tr>\n",
       "      <th>37</th>\n",
       "      <td>50</td>\n",
       "      <td>70.0</td>\n",
       "      <td>1630</td>\n",
       "      <td>72</td>\n",
       "      <td>132</td>\n",
       "      <td>90</td>\n",
       "    </tr>\n",
       "    <tr>\n",
       "      <th>38</th>\n",
       "      <td>54</td>\n",
       "      <td>87.0</td>\n",
       "      <td>1542</td>\n",
       "      <td>92</td>\n",
       "      <td>152</td>\n",
       "      <td>88</td>\n",
       "    </tr>\n",
       "  </tbody>\n",
       "</table>\n",
       "</div>"
      ],
      "text/plain": [
       "    Age  Weight  Height  Pulse  Systol  Diastol\n",
       "0    21    71.0    1629     88     170       76\n",
       "1    22    56.5    1569     64     120       60\n",
       "2    24    56.0    1561     68     125       75\n",
       "3    24    61.0    1619     52     148      120\n",
       "4    25    65.0    1566     72     140       78\n",
       "5    27    62.0    1639     72     106       72\n",
       "6    28    53.0    1494     64     120       76\n",
       "7    28    53.0    1568     80     108       62\n",
       "8    31    65.0    1540     76     124       70\n",
       "9    32    57.0    1530     60     134       64\n",
       "10   33    66.5    1622     68     116       76\n",
       "11   33    59.1    1486     72     114       74\n",
       "12   34    64.0    1578     88     130       80\n",
       "13   35    69.5    1645     60     118       68\n",
       "14   35    64.0    1648     60     138       78\n",
       "15   36    56.5    1521     72     134       86\n",
       "16   36    57.0    1547     84     120       70\n",
       "17   37    55.0    1505     64     120       76\n",
       "18   37    57.0    1473     72     114       80\n",
       "19   38    58.0    1538     64     124       64\n",
       "20   38    59.5    1513     80     114       66\n",
       "21   38    61.0    1653     76     136       78\n",
       "22   38    57.0    1566     60     126       72\n",
       "23   39    57.5    1580     64     124       62\n",
       "24   39    74.0    1647     64     128       84\n",
       "25   39    72.0    1620     68     134       92\n",
       "26   41    62.5    1637     76     112       80\n",
       "27   41    68.0    1528     60     128       82\n",
       "28   41    63.4    1647     76     134       92\n",
       "29   42    68.0    1605     88     128       90\n",
       "30   43    69.0    1625     72     140       72\n",
       "31   43    73.0    1615     68     138       74\n",
       "32   43    64.0    1640     60     118       66\n",
       "33   44    65.0    1610     74     110       70\n",
       "34   44    71.0    1572     72     142       84\n",
       "35   45    60.2    1534     56     134       70\n",
       "36   47    55.0    1536     64     116       54\n",
       "37   50    70.0    1630     72     132       90\n",
       "38   54    87.0    1542     92     152       88"
      ]
     },
     "execution_count": 3,
     "metadata": {},
     "output_type": "execute_result"
    }
   ],
   "source": [
    "raw_data"
   ]
  },
  {
   "cell_type": "code",
   "execution_count": 4,
   "metadata": {},
   "outputs": [
    {
     "data": {
      "text/plain": [
       "(39, 6)"
      ]
     },
     "execution_count": 4,
     "metadata": {},
     "output_type": "execute_result"
    }
   ],
   "source": [
    "raw_data.shape"
   ]
  },
  {
   "cell_type": "markdown",
   "metadata": {},
   "source": [
    "# Simple Linear Regression"
   ]
  },
  {
   "cell_type": "code",
   "execution_count": 5,
   "metadata": {},
   "outputs": [],
   "source": [
    "X = raw_data['Weight']\n",
    "X = sm.add_constant(X)\n",
    "y = raw_data['Systol']"
   ]
  },
  {
   "cell_type": "code",
   "execution_count": 6,
   "metadata": {},
   "outputs": [
    {
     "data": {
      "text/plain": [
       "0     170\n",
       "1     120\n",
       "2     125\n",
       "3     148\n",
       "4     140\n",
       "5     106\n",
       "6     120\n",
       "7     108\n",
       "8     124\n",
       "9     134\n",
       "10    116\n",
       "11    114\n",
       "12    130\n",
       "13    118\n",
       "14    138\n",
       "15    134\n",
       "16    120\n",
       "17    120\n",
       "18    114\n",
       "19    124\n",
       "20    114\n",
       "21    136\n",
       "22    126\n",
       "23    124\n",
       "24    128\n",
       "25    134\n",
       "26    112\n",
       "27    128\n",
       "28    134\n",
       "29    128\n",
       "30    140\n",
       "31    138\n",
       "32    118\n",
       "33    110\n",
       "34    142\n",
       "35    134\n",
       "36    116\n",
       "37    132\n",
       "38    152\n",
       "Name: Systol, dtype: int64"
      ]
     },
     "execution_count": 6,
     "metadata": {},
     "output_type": "execute_result"
    }
   ],
   "source": [
    "y"
   ]
  },
  {
   "cell_type": "code",
   "execution_count": 7,
   "metadata": {},
   "outputs": [
    {
     "name": "stdout",
     "output_type": "stream",
     "text": [
      "                            OLS Regression Results                            \n",
      "==============================================================================\n",
      "Dep. Variable:                 Systol   R-squared:                       0.272\n",
      "Model:                            OLS   Adj. R-squared:                  0.252\n",
      "Method:                 Least Squares   F-statistic:                     13.81\n",
      "Date:                Sun, 06 Mar 2022   Prob (F-statistic):           0.000665\n",
      "Time:                        23:03:13   Log-Likelihood:                -149.01\n",
      "No. Observations:                  39   AIC:                             302.0\n",
      "Df Residuals:                      37   BIC:                             305.3\n",
      "Df Model:                           1                                         \n",
      "Covariance Type:            nonrobust                                         \n",
      "==============================================================================\n",
      "                 coef    std err          t      P>|t|      [0.025      0.975]\n",
      "------------------------------------------------------------------------------\n",
      "const         66.5969     16.464      4.045      0.000      33.238      99.956\n",
      "Weight         0.9629      0.259      3.716      0.001       0.438       1.488\n",
      "==============================================================================\n",
      "Omnibus:                        5.876   Durbin-Watson:                   1.787\n",
      "Prob(Omnibus):                  0.053   Jarque-Bera (JB):                4.604\n",
      "Skew:                           0.633   Prob(JB):                        0.100\n",
      "Kurtosis:                       4.109   Cond. No.                         576.\n",
      "==============================================================================\n",
      "\n",
      "Notes:\n",
      "[1] Standard Errors assume that the covariance matrix of the errors is correctly specified.\n"
     ]
    }
   ],
   "source": [
    "model = sm.OLS(y, X)\n",
    "results = model.fit()\n",
    "print(results.summary())"
   ]
  },
  {
   "cell_type": "markdown",
   "metadata": {},
   "source": [
    "# Multiple Linear Regression"
   ]
  },
  {
   "cell_type": "code",
   "execution_count": 8,
   "metadata": {
    "scrolled": true
   },
   "outputs": [
    {
     "name": "stdout",
     "output_type": "stream",
     "text": [
      "                            OLS Regression Results                            \n",
      "==============================================================================\n",
      "Dep. Variable:                 Systol   R-squared:                       0.337\n",
      "Model:                            OLS   Adj. R-squared:                  0.259\n",
      "Method:                 Least Squares   F-statistic:                     4.324\n",
      "Date:                Sun, 06 Mar 2022   Prob (F-statistic):            0.00619\n",
      "Time:                        23:03:13   Log-Likelihood:                -147.17\n",
      "No. Observations:                  39   AIC:                             304.3\n",
      "Df Residuals:                      34   BIC:                             312.7\n",
      "Df Model:                           4                                         \n",
      "Covariance Type:            nonrobust                                         \n",
      "==============================================================================\n",
      "                 coef    std err          t      P>|t|      [0.025      0.975]\n",
      "------------------------------------------------------------------------------\n",
      "const        100.1172     59.699      1.677      0.103     -21.205     221.440\n",
      "Age           -0.4874      0.269     -1.813      0.079      -1.034       0.059\n",
      "Weight         1.2880      0.345      3.728      0.001       0.586       1.990\n",
      "Height        -0.0195      0.040     -0.488      0.629      -0.101       0.062\n",
      "Pulse         -0.0765      0.206     -0.371      0.713      -0.495       0.342\n",
      "==============================================================================\n",
      "Omnibus:                        0.100   Durbin-Watson:                   1.902\n",
      "Prob(Omnibus):                  0.951   Jarque-Bera (JB):                0.055\n",
      "Skew:                           0.064   Prob(JB):                        0.973\n",
      "Kurtosis:                       2.867   Cond. No.                     5.23e+04\n",
      "==============================================================================\n",
      "\n",
      "Notes:\n",
      "[1] Standard Errors assume that the covariance matrix of the errors is correctly specified.\n",
      "[2] The condition number is large, 5.23e+04. This might indicate that there are\n",
      "strong multicollinearity or other numerical problems.\n"
     ]
    }
   ],
   "source": [
    "X = raw_data[['Age','Weight','Height','Pulse']]\n",
    "X = sm.add_constant(X)\n",
    "y = raw_data['Systol']\n",
    "\n",
    "model = sm.OLS(y, X)\n",
    "results = model.fit()\n",
    "print(results.summary())"
   ]
  },
  {
   "cell_type": "markdown",
   "metadata": {
    "tags": []
   },
   "source": [
    "## But have we been doing lies? No."
   ]
  },
  {
   "cell_type": "code",
   "execution_count": 9,
   "metadata": {},
   "outputs": [
    {
     "data": {
      "text/plain": [
       "array([ 1.00117217e+02, -4.87384697e-01,  1.28796234e+00, -1.95478783e-02,\n",
       "       -7.65273076e-02])"
      ]
     },
     "execution_count": 9,
     "metadata": {},
     "output_type": "execute_result"
    }
   ],
   "source": [
    "manual_beta = np.dot(np.dot(np.linalg.inv(np.dot(X.T, X)), X.T), y)\n",
    "manual_beta"
   ]
  },
  {
   "cell_type": "code",
   "execution_count": 10,
   "metadata": {},
   "outputs": [
    {
     "data": {
      "text/plain": [
       "0     27.250432\n",
       "1     -6.596258\n",
       "2      0.172219\n",
       "3     16.641747\n",
       "4      4.471791\n",
       "5    -23.262557\n",
       "6     -0.630172\n",
       "7     -9.959192\n",
       "8     -8.806036\n",
       "9     10.565132\n",
       "10   -16.772503\n",
       "11   -11.593984\n",
       "12     1.605227\n",
       "13   -17.824238\n",
       "14     9.318199\n",
       "15    13.901048\n",
       "16     0.683640\n",
       "17     1.395392\n",
       "18    -7.193846\n",
       "19     2.663970\n",
       "20    -8.532234\n",
       "21    13.966416\n",
       "22     6.193163\n",
       "23     4.616346\n",
       "24   -11.325324\n",
       "25    -2.971083\n",
       "26   -10.816139\n",
       "27    -5.255088\n",
       "28    10.220174\n",
       "29    -1.119752\n",
       "30     9.246191\n",
       "31     1.592754\n",
       "32    -6.939106\n",
       "33   -15.254738\n",
       "34     8.121614\n",
       "35    12.551735\n",
       "36     2.875223\n",
       "37     3.467661\n",
       "38     3.332173\n",
       "Name: Systol, dtype: float64"
      ]
     },
     "execution_count": 10,
     "metadata": {},
     "output_type": "execute_result"
    }
   ],
   "source": [
    "error_terms = y - np.dot(X, manual_beta)\n",
    "error_terms"
   ]
  },
  {
   "cell_type": "code",
   "execution_count": 11,
   "metadata": {},
   "outputs": [
    {
     "data": {
      "text/plain": [
       "127.32447040894692"
      ]
     },
     "execution_count": 11,
     "metadata": {},
     "output_type": "execute_result"
    }
   ],
   "source": [
    "sigma2 = np.var(error_terms, ddof = 5)\n",
    "sigma2"
   ]
  },
  {
   "cell_type": "code",
   "execution_count": 12,
   "metadata": {},
   "outputs": [
    {
     "data": {
      "text/plain": [
       "array([5.96987115e+01, 2.68839075e-01, 3.45468570e-01, 4.00630207e-02,\n",
       "       2.06015043e-01])"
      ]
     },
     "execution_count": 12,
     "metadata": {},
     "output_type": "execute_result"
    }
   ],
   "source": [
    "cov_beta = np.linalg.inv(np.dot(X.T, X))*sigma2\n",
    "var_beta = np.diag(cov_beta)\n",
    "np.sqrt(var_beta)"
   ]
  },
  {
   "cell_type": "markdown",
   "metadata": {},
   "source": [
    "## Enough Monkey's on Enough Typewriters...gives you \"The Moon is a Harsh Mistress\" and \"LOTR\" at the same time!"
   ]
  },
  {
   "cell_type": "code",
   "execution_count": 13,
   "metadata": {
    "tags": []
   },
   "outputs": [
    {
     "name": "stdout",
     "output_type": "stream",
     "text": [
      "                            OLS Regression Results                            \n",
      "==============================================================================\n",
      "Dep. Variable:                      y   R-squared:                       0.096\n",
      "Model:                            OLS   Adj. R-squared:                 -0.004\n",
      "Method:                 Least Squares   F-statistic:                    0.9620\n",
      "Date:                Sun, 06 Mar 2022   Prob (F-statistic):              0.586\n",
      "Time:                        23:03:14   Log-Likelihood:                -1341.6\n",
      "No. Observations:                1000   AIC:                             2883.\n",
      "Df Residuals:                     900   BIC:                             3374.\n",
      "Df Model:                          99                                         \n",
      "Covariance Type:            nonrobust                                         \n",
      "==============================================================================\n",
      "                 coef    std err          t      P>|t|      [0.025      0.975]\n",
      "------------------------------------------------------------------------------\n",
      "const          0.0294      0.032      0.916      0.360      -0.034       0.092\n",
      "x1            -0.0226      0.032     -0.703      0.482      -0.086       0.040\n",
      "x2             0.0395      0.033      1.190      0.234      -0.026       0.105\n",
      "x3             0.0403      0.032      1.253      0.210      -0.023       0.103\n",
      "x4            -0.0459      0.033     -1.408      0.160      -0.110       0.018\n",
      "x5             0.0358      0.032      1.131      0.258      -0.026       0.098\n",
      "x6            -0.0447      0.033     -1.349      0.178      -0.110       0.020\n",
      "x7            -0.0916      0.032     -2.869      0.004      -0.154      -0.029\n",
      "x8            -0.0311      0.032     -0.972      0.331      -0.094       0.032\n",
      "x9            -0.0631      0.032     -1.961      0.050      -0.126     6.2e-05\n",
      "x10            0.0168      0.033      0.514      0.608      -0.047       0.081\n",
      "x11            0.0533      0.032      1.660      0.097      -0.010       0.116\n",
      "x12            0.0210      0.032      0.658      0.511      -0.042       0.084\n",
      "x13           -0.0562      0.032     -1.765      0.078      -0.119       0.006\n",
      "x14           -0.0067      0.033     -0.202      0.840      -0.071       0.058\n",
      "x15           -0.0053      0.032     -0.166      0.869      -0.068       0.058\n",
      "x16            0.0024      0.031      0.076      0.939      -0.059       0.064\n",
      "x17            0.0110      0.034      0.329      0.743      -0.055       0.077\n",
      "x18            0.0161      0.032      0.504      0.615      -0.047       0.079\n",
      "x19           -0.0540      0.032     -1.662      0.097      -0.118       0.010\n",
      "x20            0.0246      0.032      0.760      0.447      -0.039       0.088\n",
      "x21           -0.0184      0.031     -0.588      0.557      -0.080       0.043\n",
      "x22           -0.0176      0.032     -0.542      0.588      -0.081       0.046\n",
      "x23           -0.0193      0.032     -0.606      0.544      -0.082       0.043\n",
      "x24            0.0206      0.033      0.633      0.527      -0.043       0.084\n",
      "x25            0.0562      0.034      1.655      0.098      -0.010       0.123\n",
      "x26           -0.0454      0.034     -1.349      0.178      -0.111       0.021\n",
      "x27           -0.0751      0.034     -2.227      0.026      -0.141      -0.009\n",
      "x28           -0.0975      0.033     -2.935      0.003      -0.163      -0.032\n",
      "x29           -0.0260      0.032     -0.805      0.421      -0.090       0.037\n",
      "x30            0.0028      0.032      0.088      0.930      -0.060       0.066\n",
      "x31            0.0286      0.032      0.897      0.370      -0.034       0.091\n",
      "x32           -0.0442      0.034     -1.307      0.192      -0.111       0.022\n",
      "x33            0.0478      0.032      1.476      0.140      -0.016       0.111\n",
      "x34           -0.0431      0.032     -1.326      0.185      -0.107       0.021\n",
      "x35            0.0028      0.032      0.088      0.930      -0.060       0.066\n",
      "x36           -0.0344      0.032     -1.078      0.281      -0.097       0.028\n",
      "x37           -0.0110      0.033     -0.329      0.742      -0.076       0.054\n",
      "x38           -0.0162      0.033     -0.499      0.618      -0.080       0.048\n",
      "x39            0.0089      0.032      0.278      0.781      -0.054       0.072\n",
      "x40           -0.0041      0.033     -0.125      0.901      -0.069       0.061\n",
      "x41           -0.0065      0.032     -0.207      0.836      -0.068       0.055\n",
      "x42           -0.0180      0.033     -0.540      0.589      -0.083       0.047\n",
      "x43           -0.0034      0.034     -0.101      0.919      -0.070       0.063\n",
      "x44           -0.0120      0.032     -0.376      0.707      -0.075       0.051\n",
      "x45            0.0500      0.032      1.545      0.123      -0.013       0.113\n",
      "x46            0.0017      0.033      0.052      0.959      -0.064       0.067\n",
      "x47            0.0297      0.033      0.908      0.364      -0.035       0.094\n",
      "x48           -0.0149      0.033     -0.455      0.649      -0.079       0.050\n",
      "x49            0.0268      0.033      0.818      0.413      -0.037       0.091\n",
      "x50           -0.0199      0.032     -0.623      0.533      -0.082       0.043\n",
      "x51           -0.0083      0.033     -0.248      0.804      -0.074       0.057\n",
      "x52           -0.0140      0.033     -0.424      0.672      -0.079       0.051\n",
      "x53           -0.0319      0.032     -0.991      0.322      -0.095       0.031\n",
      "x54           -0.0315      0.032     -0.983      0.326      -0.095       0.031\n",
      "x55           -0.0257      0.032     -0.795      0.427      -0.089       0.038\n",
      "x56           -0.0098      0.032     -0.304      0.761      -0.073       0.054\n",
      "x57           -0.0071      0.033     -0.212      0.832      -0.073       0.059\n",
      "x58           -0.0407      0.033     -1.235      0.217      -0.105       0.024\n",
      "x59            0.0096      0.032      0.303      0.762      -0.053       0.072\n",
      "x60            0.0287      0.033      0.856      0.392      -0.037       0.094\n",
      "x61           -0.0201      0.032     -0.622      0.534      -0.084       0.043\n",
      "x62            0.0255      0.034      0.757      0.449      -0.041       0.092\n",
      "x63           -0.0096      0.032     -0.298      0.766      -0.073       0.053\n",
      "x64           -0.0120      0.033     -0.364      0.716      -0.077       0.053\n",
      "x65            0.0030      0.034      0.089      0.929      -0.063       0.069\n",
      "x66           -0.0575      0.031     -1.834      0.067      -0.119       0.004\n",
      "x67            0.0105      0.034      0.309      0.757      -0.056       0.077\n",
      "x68           -0.0716      0.033     -2.188      0.029      -0.136      -0.007\n",
      "x69            0.0174      0.032      0.543      0.587      -0.046       0.080\n",
      "x70            0.0251      0.032      0.777      0.437      -0.038       0.088\n",
      "x71           -0.0058      0.031     -0.185      0.853      -0.067       0.056\n",
      "x72           -0.0077      0.032     -0.242      0.809      -0.071       0.055\n",
      "x73           -0.0896      0.032     -2.786      0.005      -0.153      -0.026\n",
      "x74           -0.0220      0.032     -0.689      0.491      -0.085       0.041\n",
      "x75           -0.0219      0.034     -0.651      0.515      -0.088       0.044\n",
      "x76            0.0409      0.034      1.218      0.224      -0.025       0.107\n",
      "x77           -0.0004      0.033     -0.011      0.991      -0.065       0.064\n",
      "x78            0.0221      0.033      0.664      0.507      -0.043       0.088\n",
      "x79           -0.0226      0.031     -0.716      0.474      -0.084       0.039\n",
      "x80           -0.0075      0.033     -0.230      0.818      -0.072       0.057\n",
      "x81           -0.0196      0.032     -0.616      0.538      -0.082       0.043\n",
      "x82            0.0306      0.033      0.930      0.353      -0.034       0.095\n",
      "x83            0.0040      0.033      0.122      0.903      -0.060       0.068\n",
      "x84           -0.0026      0.033     -0.079      0.937      -0.067       0.062\n",
      "x85            0.0483      0.032      1.499      0.134      -0.015       0.111\n",
      "x86            0.0183      0.032      0.572      0.568      -0.045       0.081\n",
      "x87            0.0072      0.032      0.223      0.824      -0.056       0.071\n",
      "x88            0.0050      0.032      0.154      0.877      -0.058       0.068\n",
      "x89            0.0131      0.033      0.402      0.688      -0.051       0.077\n",
      "x90           -0.0555      0.033     -1.706      0.088      -0.119       0.008\n",
      "x91            0.0324      0.032      1.026      0.305      -0.030       0.094\n",
      "x92            0.0027      0.033      0.082      0.935      -0.061       0.067\n",
      "x93            0.0217      0.033      0.656      0.512      -0.043       0.087\n",
      "x94           -0.0074      0.033     -0.226      0.821      -0.072       0.057\n",
      "x95            0.0260      0.032      0.807      0.420      -0.037       0.089\n",
      "x96            0.0386      0.032      1.188      0.235      -0.025       0.102\n",
      "x97            0.0096      0.033      0.295      0.768      -0.055       0.074\n",
      "x98            0.0115      0.032      0.360      0.719      -0.051       0.074\n",
      "x99            0.0314      0.031      1.019      0.309      -0.029       0.092\n",
      "==============================================================================\n",
      "Omnibus:                        2.477   Durbin-Watson:                   2.128\n",
      "Prob(Omnibus):                  0.290   Jarque-Bera (JB):                2.419\n",
      "Skew:                          -0.077   Prob(JB):                        0.298\n",
      "Kurtosis:                       2.815   Cond. No.                         1.86\n",
      "==============================================================================\n",
      "\n",
      "Notes:\n",
      "[1] Standard Errors assume that the covariance matrix of the errors is correctly specified.\n"
     ]
    }
   ],
   "source": [
    "X = np.random.normal(loc=0.0, scale=1.0, size=[1000,99])\n",
    "X = sm.add_constant(X)\n",
    "y = np.random.normal(loc=0.0, scale=1.0, size=[1000,1])\n",
    "model = sm.OLS(y, X)\n",
    "results = model.fit()\n",
    "print(results.summary()) ## \"Enough\""
   ]
  },
  {
   "cell_type": "markdown",
   "metadata": {},
   "source": [
    "# Comparing Models"
   ]
  },
  {
   "cell_type": "markdown",
   "metadata": {},
   "source": [
    "### Nested Models"
   ]
  },
  {
   "cell_type": "code",
   "execution_count": 14,
   "metadata": {},
   "outputs": [
    {
     "name": "stdout",
     "output_type": "stream",
     "text": [
      "                            OLS Regression Results                            \n",
      "==============================================================================\n",
      "Dep. Variable:                      y   R-squared:                       0.937\n",
      "Model:                            OLS   Adj. R-squared:                  0.903\n",
      "Method:                 Least Squares   F-statistic:                     28.08\n",
      "Date:                Sun, 06 Mar 2022   Prob (F-statistic):           2.79e-09\n",
      "Time:                        23:03:14   Log-Likelihood:                -23.292\n",
      "No. Observations:                  30   AIC:                             68.58\n",
      "Df Residuals:                      19   BIC:                             84.00\n",
      "Df Model:                          10                                         \n",
      "Covariance Type:            nonrobust                                         \n",
      "==============================================================================\n",
      "                 coef    std err          t      P>|t|      [0.025      0.975]\n",
      "------------------------------------------------------------------------------\n",
      "const          9.6600      0.742     13.019      0.000       8.107      11.213\n",
      "x1             5.1163      0.624      8.198      0.000       3.810       6.422\n",
      "x2             1.8838      0.570      3.306      0.004       0.691       3.077\n",
      "x3            -0.1047      0.562     -0.186      0.854      -1.280       1.071\n",
      "x4             3.7117      0.565      6.571      0.000       2.529       4.894\n",
      "x5            -0.1254      0.423     -0.297      0.770      -1.010       0.760\n",
      "x6             0.4211      0.410      1.027      0.317      -0.437       1.279\n",
      "x7             0.8356      0.518      1.613      0.123      -0.248       1.920\n",
      "x8             1.1143      0.520      2.144      0.045       0.026       2.202\n",
      "x9            -0.3091      0.490     -0.630      0.536      -1.336       0.717\n",
      "x10            0.4482      0.538      0.832      0.416      -0.679       1.575\n",
      "==============================================================================\n",
      "Omnibus:                        4.378   Durbin-Watson:                   2.795\n",
      "Prob(Omnibus):                  0.112   Jarque-Bera (JB):                2.864\n",
      "Skew:                           0.500   Prob(JB):                        0.239\n",
      "Kurtosis:                       4.136   Cond. No.                         15.5\n",
      "==============================================================================\n",
      "\n",
      "Notes:\n",
      "[1] Standard Errors assume that the covariance matrix of the errors is correctly specified.\n"
     ]
    }
   ],
   "source": [
    "num_obs = 30\n",
    "X = np.random.uniform(size=[num_obs, 10])\n",
    "X = sm.add_constant(X)\n",
    "y = 10 + 5*X[:,1] + 3*X[:,2] + 4*X[:,4] + np.random.normal(loc = 0, scale = 0.6, size = num_obs)\n",
    "\n",
    "model_full = sm.OLS(y, X)\n",
    "results_full = model_full.fit()\n",
    "print(results_full.summary()) ## \"Enough\""
   ]
  },
  {
   "cell_type": "code",
   "execution_count": 15,
   "metadata": {},
   "outputs": [
    {
     "name": "stdout",
     "output_type": "stream",
     "text": [
      "                            OLS Regression Results                            \n",
      "==============================================================================\n",
      "Dep. Variable:                      y   R-squared:                       0.905\n",
      "Model:                            OLS   Adj. R-squared:                  0.894\n",
      "Method:                 Least Squares   F-statistic:                     82.33\n",
      "Date:                Sun, 06 Mar 2022   Prob (F-statistic):           2.12e-13\n",
      "Time:                        23:03:14   Log-Likelihood:                -29.400\n",
      "No. Observations:                  30   AIC:                             66.80\n",
      "Df Residuals:                      26   BIC:                             72.40\n",
      "Df Model:                           3                                         \n",
      "Covariance Type:            nonrobust                                         \n",
      "==============================================================================\n",
      "                 coef    std err          t      P>|t|      [0.025      0.975]\n",
      "------------------------------------------------------------------------------\n",
      "const         10.7607      0.450     23.914      0.000       9.836      11.686\n",
      "x1             4.9755      0.482     10.314      0.000       3.984       5.967\n",
      "x2             1.9226      0.532      3.616      0.001       0.830       3.016\n",
      "x3             3.4913      0.465      7.508      0.000       2.535       4.447\n",
      "==============================================================================\n",
      "Omnibus:                        0.361   Durbin-Watson:                   2.856\n",
      "Prob(Omnibus):                  0.835   Jarque-Bera (JB):                0.267\n",
      "Skew:                           0.211   Prob(JB):                        0.875\n",
      "Kurtosis:                       2.812   Cond. No.                         7.51\n",
      "==============================================================================\n",
      "\n",
      "Notes:\n",
      "[1] Standard Errors assume that the covariance matrix of the errors is correctly specified.\n"
     ]
    }
   ],
   "source": [
    "model_reduced = sm.OLS(y, X[:,[0,1,2,4]])\n",
    "results_reduced = model_reduced.fit()\n",
    "print(results_reduced.summary())"
   ]
  },
  {
   "cell_type": "code",
   "execution_count": 16,
   "metadata": {},
   "outputs": [
    {
     "name": "stdout",
     "output_type": "stream",
     "text": [
      "                            OLS Regression Results                            \n",
      "==============================================================================\n",
      "Dep. Variable:                      y   R-squared:                       0.698\n",
      "Model:                            OLS   Adj. R-squared:                  0.676\n",
      "Method:                 Least Squares   F-statistic:                     31.24\n",
      "Date:                Sun, 06 Mar 2022   Prob (F-statistic):           9.44e-08\n",
      "Time:                        23:03:14   Log-Likelihood:                -46.698\n",
      "No. Observations:                  30   AIC:                             99.40\n",
      "Df Residuals:                      27   BIC:                             103.6\n",
      "Df Model:                           2                                         \n",
      "Covariance Type:            nonrobust                                         \n",
      "==============================================================================\n",
      "                 coef    std err          t      P>|t|      [0.025      0.975]\n",
      "------------------------------------------------------------------------------\n",
      "const         11.6322      0.759     15.318      0.000      10.074      13.190\n",
      "x1             6.2216      0.791      7.864      0.000       4.598       7.845\n",
      "x2             1.9307      0.929      2.079      0.047       0.025       3.836\n",
      "==============================================================================\n",
      "Omnibus:                        0.627   Durbin-Watson:                   1.698\n",
      "Prob(Omnibus):                  0.731   Jarque-Bera (JB):                0.657\n",
      "Skew:                           0.031   Prob(JB):                        0.720\n",
      "Kurtosis:                       2.277   Cond. No.                         7.05\n",
      "==============================================================================\n",
      "\n",
      "Notes:\n",
      "[1] Standard Errors assume that the covariance matrix of the errors is correctly specified.\n"
     ]
    }
   ],
   "source": [
    "model_dropping_useful = sm.OLS(y, X[:,[0,1,2]])\n",
    "results_dropping_useful = model_dropping_useful.fit()\n",
    "print(results_dropping_useful.summary())"
   ]
  },
  {
   "cell_type": "code",
   "execution_count": 17,
   "metadata": {},
   "outputs": [
    {
     "data": {
      "text/html": [
       "<div>\n",
       "<style scoped>\n",
       "    .dataframe tbody tr th:only-of-type {\n",
       "        vertical-align: middle;\n",
       "    }\n",
       "\n",
       "    .dataframe tbody tr th {\n",
       "        vertical-align: top;\n",
       "    }\n",
       "\n",
       "    .dataframe thead th {\n",
       "        text-align: right;\n",
       "    }\n",
       "</style>\n",
       "<table border=\"1\" class=\"dataframe\">\n",
       "  <thead>\n",
       "    <tr style=\"text-align: right;\">\n",
       "      <th></th>\n",
       "      <th>df_resid</th>\n",
       "      <th>ssr</th>\n",
       "      <th>df_diff</th>\n",
       "      <th>ss_diff</th>\n",
       "      <th>F</th>\n",
       "      <th>Pr(&gt;F)</th>\n",
       "    </tr>\n",
       "  </thead>\n",
       "  <tbody>\n",
       "    <tr>\n",
       "      <th>0</th>\n",
       "      <td>26.0</td>\n",
       "      <td>12.469596</td>\n",
       "      <td>0.0</td>\n",
       "      <td>NaN</td>\n",
       "      <td>NaN</td>\n",
       "      <td>NaN</td>\n",
       "    </tr>\n",
       "    <tr>\n",
       "      <th>1</th>\n",
       "      <td>19.0</td>\n",
       "      <td>8.298719</td>\n",
       "      <td>7.0</td>\n",
       "      <td>4.170877</td>\n",
       "      <td>1.364181</td>\n",
       "      <td>0.276106</td>\n",
       "    </tr>\n",
       "  </tbody>\n",
       "</table>\n",
       "</div>"
      ],
      "text/plain": [
       "   df_resid        ssr  df_diff   ss_diff         F    Pr(>F)\n",
       "0      26.0  12.469596      0.0       NaN       NaN       NaN\n",
       "1      19.0   8.298719      7.0  4.170877  1.364181  0.276106"
      ]
     },
     "execution_count": 17,
     "metadata": {},
     "output_type": "execute_result"
    }
   ],
   "source": [
    "from statsmodels.stats.anova import anova_lm\n",
    "anova_lm(results_reduced,results_full)"
   ]
  },
  {
   "cell_type": "code",
   "execution_count": 18,
   "metadata": {},
   "outputs": [
    {
     "data": {
      "text/html": [
       "<div>\n",
       "<style scoped>\n",
       "    .dataframe tbody tr th:only-of-type {\n",
       "        vertical-align: middle;\n",
       "    }\n",
       "\n",
       "    .dataframe tbody tr th {\n",
       "        vertical-align: top;\n",
       "    }\n",
       "\n",
       "    .dataframe thead th {\n",
       "        text-align: right;\n",
       "    }\n",
       "</style>\n",
       "<table border=\"1\" class=\"dataframe\">\n",
       "  <thead>\n",
       "    <tr style=\"text-align: right;\">\n",
       "      <th></th>\n",
       "      <th>df_resid</th>\n",
       "      <th>ssr</th>\n",
       "      <th>df_diff</th>\n",
       "      <th>ss_diff</th>\n",
       "      <th>F</th>\n",
       "      <th>Pr(&gt;F)</th>\n",
       "    </tr>\n",
       "  </thead>\n",
       "  <tbody>\n",
       "    <tr>\n",
       "      <th>0</th>\n",
       "      <td>27.0</td>\n",
       "      <td>39.507876</td>\n",
       "      <td>0.0</td>\n",
       "      <td>NaN</td>\n",
       "      <td>NaN</td>\n",
       "      <td>NaN</td>\n",
       "    </tr>\n",
       "    <tr>\n",
       "      <th>1</th>\n",
       "      <td>19.0</td>\n",
       "      <td>8.298719</td>\n",
       "      <td>8.0</td>\n",
       "      <td>31.209156</td>\n",
       "      <td>8.931709</td>\n",
       "      <td>0.000049</td>\n",
       "    </tr>\n",
       "  </tbody>\n",
       "</table>\n",
       "</div>"
      ],
      "text/plain": [
       "   df_resid        ssr  df_diff    ss_diff         F    Pr(>F)\n",
       "0      27.0  39.507876      0.0        NaN       NaN       NaN\n",
       "1      19.0   8.298719      8.0  31.209156  8.931709  0.000049"
      ]
     },
     "execution_count": 18,
     "metadata": {},
     "output_type": "execute_result"
    }
   ],
   "source": [
    "from statsmodels.stats.anova import anova_lm\n",
    "anova_lm(results_dropping_useful, results_full)"
   ]
  },
  {
   "cell_type": "markdown",
   "metadata": {},
   "source": [
    "### Are we telling lies? Let's do it by hand"
   ]
  },
  {
   "cell_type": "code",
   "execution_count": 19,
   "metadata": {},
   "outputs": [
    {
     "name": "stdout",
     "output_type": "stream",
     "text": [
      "1.3641805180400484\n"
     ]
    }
   ],
   "source": [
    "numerator = np.sum((results_reduced.resid**2 - results_full.resid**2))/(results_reduced.df_resid- results_full.df_resid)\n",
    "denominator = np.sum((results_full.resid**2))/(results_full.df_resid)\n",
    "F_stat = numerator/denominator\n",
    "print(F_stat)"
   ]
  },
  {
   "cell_type": "code",
   "execution_count": 20,
   "metadata": {},
   "outputs": [
    {
     "data": {
      "text/plain": [
       "0.27610613281914786"
      ]
     },
     "execution_count": 20,
     "metadata": {},
     "output_type": "execute_result"
    }
   ],
   "source": [
    "from scipy.stats import f\n",
    "1-f.cdf(F_stat, (results_reduced.df_resid- results_full.df_resid), results_full.df_resid)"
   ]
  },
  {
   "cell_type": "markdown",
   "metadata": {},
   "source": [
    "### Let's go back and look at R^2 and adjusted R^2"
   ]
  },
  {
   "cell_type": "markdown",
   "metadata": {},
   "source": [
    "### Stepwise Regression (actually uses cross-validation) but the idea is the same!"
   ]
  },
  {
   "cell_type": "code",
   "execution_count": 21,
   "metadata": {},
   "outputs": [
    {
     "data": {
      "text/plain": [
       "array([ 0.        ,  5.11625276,  1.88384111, -0.10467479,  3.71167525,\n",
       "       -0.12542688,  0.4210967 ,  0.8355919 ,  1.11431879, -0.30912419,\n",
       "        0.44821678])"
      ]
     },
     "execution_count": 21,
     "metadata": {},
     "output_type": "execute_result"
    }
   ],
   "source": [
    "from sklearn.feature_selection import SequentialFeatureSelector\n",
    "from sklearn.linear_model import LinearRegression\n",
    "reg = LinearRegression().fit(X, y)\n",
    "reg.coef_"
   ]
  },
  {
   "cell_type": "code",
   "execution_count": 22,
   "metadata": {},
   "outputs": [
    {
     "data": {
      "text/plain": [
       "9.66003304646324"
      ]
     },
     "execution_count": 22,
     "metadata": {},
     "output_type": "execute_result"
    }
   ],
   "source": [
    "reg.intercept_"
   ]
  },
  {
   "cell_type": "code",
   "execution_count": 23,
   "metadata": {},
   "outputs": [
    {
     "data": {
      "text/plain": [
       "array([ True, False, False,  True, False, False, False,  True,  True,\n",
       "       False, False])"
      ]
     },
     "execution_count": 23,
     "metadata": {},
     "output_type": "execute_result"
    }
   ],
   "source": [
    "reg_sequential =LinearRegression()\n",
    "sfs = SequentialFeatureSelector(reg_sequential, n_features_to_select=4)\n",
    "sfs.fit(X,y)\n",
    "sfs.get_support()"
   ]
  },
  {
   "cell_type": "code",
   "execution_count": null,
   "metadata": {},
   "outputs": [],
   "source": []
  },
  {
   "cell_type": "code",
   "execution_count": null,
   "metadata": {},
   "outputs": [],
   "source": []
  }
 ],
 "metadata": {
  "interpreter": {
   "hash": "b0c13ec3ae09ac9f93d430c5e4d30db8ae2d74ae538c6d3710b0e515df26a87c"
  },
  "kernelspec": {
   "display_name": "cse-3521",
   "language": "python",
   "name": "cse-3521"
  },
  "language_info": {
   "codemirror_mode": {
    "name": "ipython",
    "version": 3
   },
   "file_extension": ".py",
   "mimetype": "text/x-python",
   "name": "python",
   "nbconvert_exporter": "python",
   "pygments_lexer": "ipython3",
   "version": "3.9.10"
  }
 },
 "nbformat": 4,
 "nbformat_minor": 4
}
