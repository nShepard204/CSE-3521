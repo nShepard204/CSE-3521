{
 "cells": [
  {
   "cell_type": "code",
   "execution_count": 1,
   "id": "6b0f3975-240a-45c9-b6fa-c4e5a343f63b",
   "metadata": {},
   "outputs": [],
   "source": [
    "import numpy as np\n",
    "def GN_algo(w):\n",
    "    J = np.array([[2*np.exp(2*w)]])\n",
    "    \n",
    "    deltaY = np.array([[2-np.exp(2*w)]])\n",
    "    \n",
    "    deltaW = np.dot(np.dot(np.linalg.inv(np.dot(J.T, J)), J.T), deltaY)\n",
    "    newW = w+deltaW\n",
    "    return deltaW, newW"
   ]
  },
  {
   "cell_type": "markdown",
   "id": "ae846e9a-c0f2-47e1-bc80-7f42878b3bbd",
   "metadata": {},
   "source": [
    "### Question 5.1"
   ]
  },
  {
   "cell_type": "code",
   "execution_count": 2,
   "id": "ec3d1399-4685-4469-9d45-e3a51937e8a2",
   "metadata": {},
   "outputs": [
    {
     "name": "stdout",
     "output_type": "stream",
     "text": [
      "Value of W (3 Iterations, Start Val = 1.5): 0.433\n"
     ]
    }
   ],
   "source": [
    "currentW = 1.5\n",
    "for i in range(3):\n",
    "    _ , currentW = GN_algo(currentW)\n",
    "    currentW = np.ndarray.item(currentW)\n",
    "    #print(currentW)\n",
    "print(\"Value of W (3 Iterations, Start Val = 1.5):\", np.around(currentW, 3))"
   ]
  },
  {
   "cell_type": "code",
   "execution_count": 3,
   "id": "7a462e5a-c65e-4d14-9580-ddd6ef427570",
   "metadata": {
    "tags": []
   },
   "outputs": [
    {
     "name": "stdout",
     "output_type": "stream",
     "text": [
      "Value of W (3 Iterations, Start Val = 0.0): 0.347\n"
     ]
    }
   ],
   "source": [
    "currentW = 0\n",
    "for i in range(3):\n",
    "    _ , currentW = GN_algo(currentW)\n",
    "    currentW = np.ndarray.item(currentW)\n",
    "    #print(currentW)\n",
    "print(\"Value of W (3 Iterations, Start Val = 0.0):\", np.around(currentW, 3))"
   ]
  },
  {
   "cell_type": "code",
   "execution_count": 4,
   "id": "00e433e8-e51d-4e57-aa26-8e5493f8b8eb",
   "metadata": {},
   "outputs": [
    {
     "name": "stdout",
     "output_type": "stream",
     "text": [
      "Value of W (3 Iterations, Start Val = -1.0): 4.889\n"
     ]
    }
   ],
   "source": [
    "currentW = -1\n",
    "for i in range(3):\n",
    "    _ , currentW = GN_algo(currentW)\n",
    "    currentW = np.ndarray.item(currentW)\n",
    "    #print(currentW)\n",
    "print(\"Value of W (3 Iterations, Start Val = -1.0):\", np.around(currentW, 3))"
   ]
  },
  {
   "cell_type": "markdown",
   "id": "36e72a19-c08b-4c4d-8ed9-28e6b325416d",
   "metadata": {},
   "source": [
    "### Question 5.2"
   ]
  },
  {
   "cell_type": "code",
   "execution_count": 5,
   "id": "5cb72f20-93a5-4f34-9198-366873d86aa5",
   "metadata": {},
   "outputs": [
    {
     "name": "stdout",
     "output_type": "stream",
     "text": [
      "Value of W (Learning Rate = .1, Start Val = 1.5, 3 Iterations): -71.152\n"
     ]
    }
   ],
   "source": [
    "def GD_algo(w,x,y,eta):\n",
    "    part1 = np.exp(w*x) - y\n",
    "    part2 = x*np.exp(w*x)\n",
    "    gradientEw = np.dot(part1, part2)\n",
    "    return w - eta*gradientEw\n",
    "x=2\n",
    "y=2\n",
    "currentW = 1.5\n",
    "for i in range(3):\n",
    "    currentW = GD_algo(currentW,x,y,.1)\n",
    "    #print(currentW)\n",
    "print(\"Value of W (Learning Rate = .1, Start Val = 1.5, 3 Iterations):\", np.around(currentW, 3))"
   ]
  },
  {
   "cell_type": "code",
   "execution_count": 6,
   "id": "7685ef39-0a4c-4557-a12c-f89988b04af1",
   "metadata": {},
   "outputs": [
    {
     "name": "stdout",
     "output_type": "stream",
     "text": [
      "Value of W (Learning Rate = .1, Start Val = 0.0, 3 Iterations): 0.343\n"
     ]
    }
   ],
   "source": [
    "currentW = 0.0\n",
    "for i in range(3):\n",
    "    currentW = GD_algo(currentW,x,y,.1)\n",
    "    #print(currentW)\n",
    "print(\"Value of W (Learning Rate = .1, Start Val = 0.0, 3 Iterations):\", np.around(currentW, 3))"
   ]
  },
  {
   "cell_type": "code",
   "execution_count": 7,
   "id": "b6d9c1dd-c5e5-40f5-9851-535da5f955b6",
   "metadata": {},
   "outputs": [
    {
     "name": "stdout",
     "output_type": "stream",
     "text": [
      "Value of W (Learning Rate = .001, Start Val = 1.5, 3 Iterations): 0.726\n"
     ]
    }
   ],
   "source": [
    "currentW = 1.5\n",
    "for i in range(3):\n",
    "    currentW = GD_algo(currentW,x,y,.001)\n",
    "    #print(currentW)\n",
    "print(\"Value of W (Learning Rate = .001, Start Val = 1.5, 3 Iterations):\", np.around(currentW, 3))"
   ]
  }
 ],
 "metadata": {
  "kernelspec": {
   "display_name": "cse-3521",
   "language": "python",
   "name": "cse-3521"
  },
  "language_info": {
   "codemirror_mode": {
    "name": "ipython",
    "version": 3
   },
   "file_extension": ".py",
   "mimetype": "text/x-python",
   "name": "python",
   "nbconvert_exporter": "python",
   "pygments_lexer": "ipython3",
   "version": "3.9.10"
  }
 },
 "nbformat": 4,
 "nbformat_minor": 5
}
