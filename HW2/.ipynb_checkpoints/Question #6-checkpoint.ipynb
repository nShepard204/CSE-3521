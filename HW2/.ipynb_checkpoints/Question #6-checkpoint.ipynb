{
 "cells": [
  {
   "cell_type": "markdown",
   "id": "8e4c73e4-f78b-4984-9721-58febdad59ef",
   "metadata": {},
   "source": [
    "### Question 6.1"
   ]
  },
  {
   "cell_type": "code",
   "execution_count": 1,
   "id": "d6afbbb5-b35f-4134-819a-d0a8607cbe32",
   "metadata": {},
   "outputs": [],
   "source": [
    "import numpy as np\n",
    "x = 2\n",
    "y = 2\n",
    "def GN_algo(w):\n",
    "    J = np.array([ [w*x] ])\n",
    "    deltaY = np.array([ [y-(w*x)] ])\n",
    "    #J = np.array([[2*np.exp(2*w)]])\n",
    "    #deltaY = np.array([[2-np.exp(2*w)]])\n",
    "    deltaW = np.dot(np.dot(np.linalg.pinv(np.dot(J.T, J)), J.T), deltaY)\n",
    "    newW = w+deltaW\n",
    "    return deltaW, newW"
   ]
  },
  {
   "cell_type": "code",
   "execution_count": 2,
   "id": "82002117-77ac-4a77-bbd4-11a5f3a0c58d",
   "metadata": {},
   "outputs": [
    {
     "name": "stdout",
     "output_type": "stream",
     "text": [
      "1.1666666666666667\n",
      "Value of W (1 Iterations, Start Val = 1.5): 1.167\n"
     ]
    }
   ],
   "source": [
    "currentW = 1.5\n",
    "for i in range(1):\n",
    "    _ , currentW = GN_algo(currentW)\n",
    "    currentW = np.ndarray.item(currentW)\n",
    "    print(currentW)\n",
    "print(\"Value of W (1 Iterations, Start Val = 1.5):\", np.around(currentW, 3))"
   ]
  },
  {
   "cell_type": "code",
   "execution_count": 3,
   "id": "cb911acf-1cb6-4f5b-95fd-8a3f066c29e2",
   "metadata": {},
   "outputs": [
    {
     "name": "stdout",
     "output_type": "stream",
     "text": [
      "0.0\n",
      "Value of W (1 Iterations, Start Val = 0.0): 0.0\n"
     ]
    }
   ],
   "source": [
    "currentW = 0.0\n",
    "for i in range(1):\n",
    "    _ , currentW = GN_algo(currentW)\n",
    "    currentW = np.ndarray.item(currentW)\n",
    "    print(currentW)\n",
    "print(\"Value of W (1 Iterations, Start Val = 0.0):\", np.around(currentW, 3))"
   ]
  },
  {
   "cell_type": "markdown",
   "id": "4ee296e3-878f-490c-ae80-9a670e077a63",
   "metadata": {},
   "source": [
    "### Do you see any difference from the observations in Question 5.1? If so, please describe the difference and explain the reason.\n",
    "Yeah there are a few differences, mainly where W's initial value is 0. Since this GN algorithm is depending on w as the \"learning rate\", when its zero it makes everything else zero. Changing this to a non-zero value seems to fix this issue."
   ]
  },
  {
   "cell_type": "markdown",
   "id": "f39d7fde-99d0-4789-ac29-300a0c21d8ed",
   "metadata": {},
   "source": [
    "### Question 6.2"
   ]
  },
  {
   "cell_type": "code",
   "execution_count": 4,
   "id": "abac15b8-d8a2-4a2e-ac27-ca2cf4ba3fb4",
   "metadata": {},
   "outputs": [],
   "source": [
    "def GD_algo(w,x,y,eta):\n",
    "    part1 = (w*x) - y\n",
    "    part2 = (w*x)\n",
    "    gradientEw = np.dot(part1, part2)\n",
    "    return w - eta*gradientEw"
   ]
  },
  {
   "cell_type": "code",
   "execution_count": 5,
   "id": "6e249695-3a19-4da8-aebb-0b22254a4994",
   "metadata": {},
   "outputs": [
    {
     "name": "stdout",
     "output_type": "stream",
     "text": [
      "Value of W (Learning Rate = .1, Start Val = 1.5, 3 Iterations): 1.058\n"
     ]
    }
   ],
   "source": [
    "currentW = 1.5\n",
    "for i in range(3):\n",
    "    currentW = GD_algo(currentW,x,y,.1)\n",
    "    #print(currentW)\n",
    "print(\"Value of W (Learning Rate = .1, Start Val = 1.5, 3 Iterations):\", np.around(currentW, 3))"
   ]
  },
  {
   "cell_type": "code",
   "execution_count": 6,
   "id": "0e45238e-3a6f-4be5-9d74-262bbd2f31da",
   "metadata": {},
   "outputs": [
    {
     "name": "stdout",
     "output_type": "stream",
     "text": [
      "Value of W (Learning Rate = .1, Start Val = 0.0, 3 Iterations): 0.0\n"
     ]
    }
   ],
   "source": [
    "currentW = 0.0\n",
    "for i in range(3):\n",
    "    currentW = GD_algo(currentW,x,y,.1)\n",
    "    #print(currentW)\n",
    "print(\"Value of W (Learning Rate = .1, Start Val = 0.0, 3 Iterations):\", np.around(currentW, 3))"
   ]
  },
  {
   "cell_type": "code",
   "execution_count": 7,
   "id": "af5ff429-eec8-466f-9cc7-48f1fd43d63d",
   "metadata": {},
   "outputs": [
    {
     "name": "stdout",
     "output_type": "stream",
     "text": [
      "Value of W (Learning Rate = 1, Start Val = 1.5, 3 Iterations): -1171.5\n"
     ]
    }
   ],
   "source": [
    "currentW = 1.5\n",
    "for i in range(3):\n",
    "    currentW = GD_algo(currentW,x,y,1)\n",
    "    #print(currentW)\n",
    "print(\"Value of W (Learning Rate = 1, Start Val = 1.5, 3 Iterations):\", np.around(currentW, 3))"
   ]
  },
  {
   "cell_type": "markdown",
   "id": "e7c2eb49-3160-4ef4-b047-b99705c4efa0",
   "metadata": {},
   "source": [
    "### Can GD obtain the optimal solution in a few iterations?\n",
    "No but it can get pretty damn close, as seen from the first execution."
   ]
  }
 ],
 "metadata": {
  "kernelspec": {
   "display_name": "cse-3521",
   "language": "python",
   "name": "cse-3521"
  },
  "language_info": {
   "codemirror_mode": {
    "name": "ipython",
    "version": 3
   },
   "file_extension": ".py",
   "mimetype": "text/x-python",
   "name": "python",
   "nbconvert_exporter": "python",
   "pygments_lexer": "ipython3",
   "version": "3.9.10"
  }
 },
 "nbformat": 4,
 "nbformat_minor": 5
}
