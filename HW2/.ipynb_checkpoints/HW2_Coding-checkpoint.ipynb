{
 "cells": [
  {
   "cell_type": "markdown",
   "metadata": {},
   "source": [
    "# General\n",
    "\n",
    "- Include the notebook AND a pdf of the notebook as part of your homework. \n",
    "- label this as HW2\\Ryslik_1_Coding.pdf"
   ]
  },
  {
   "cell_type": "markdown",
   "metadata": {},
   "source": [
    "# Part 1 - PCA\n",
    "\n",
    "- Load the IRIS data set on flowers (we do that for you).\n",
    "- Write a function that takes in a matrix and provides you the eigenvalues and eigenvectors (using numpy).\n",
    "- Project your centered data into two dimensional space and plot the projected points. Color code the points by flower type. \n",
    "- Show that you get the same eigenvalues/eigenvectors/projection if you use scikit's PCA or you manually do the projection via numpy (you can use numpy to compute the eigenvectors and eigenvalues)\n",
    "- Can you make a good rule of what type of flower it is by just using the first two principle components? Describe how?\n",
    "- What percentage of the total data variance do the first two principle components capture."
   ]
  },
  {
   "cell_type": "code",
   "execution_count": 1,
   "metadata": {},
   "outputs": [],
   "source": [
    "# Data prep\n",
    "from sklearn.datasets import load_iris\n",
    "import numpy as np\n",
    "from matplotlib import pyplot as plt\n",
    "from sklearn import preprocessing\n",
    "from scipy.linalg import fractional_matrix_power\n",
    "import matplotlib.pyplot as plt\n",
    "from urllib.request import urlopen, Request\n",
    "import warnings\n",
    "warnings.simplefilter(\"ignore\", np.ComplexWarning)\n",
    "\n",
    "iris = load_iris() #see the documentation here: https://scikit-learn.org/stable/auto_examples/datasets/plot_iris_dataset.html\n",
    "#plt.scatter(x = dataset[0,:], y = dataset[1,:], c=iris.target)"
   ]
  },
  {
   "cell_type": "code",
   "execution_count": 2,
   "metadata": {},
   "outputs": [
    {
     "data": {
      "text/html": [
       "<div>\n",
       "<style scoped>\n",
       "    .dataframe tbody tr th:only-of-type {\n",
       "        vertical-align: middle;\n",
       "    }\n",
       "\n",
       "    .dataframe tbody tr th {\n",
       "        vertical-align: top;\n",
       "    }\n",
       "\n",
       "    .dataframe thead th {\n",
       "        text-align: right;\n",
       "    }\n",
       "</style>\n",
       "<table border=\"1\" class=\"dataframe\">\n",
       "  <thead>\n",
       "    <tr style=\"text-align: right;\">\n",
       "      <th></th>\n",
       "      <th>sepal length (cm)</th>\n",
       "      <th>sepal width (cm)</th>\n",
       "      <th>petal length (cm)</th>\n",
       "      <th>petal width (cm)</th>\n",
       "    </tr>\n",
       "  </thead>\n",
       "  <tbody>\n",
       "    <tr>\n",
       "      <th>0</th>\n",
       "      <td>5.1</td>\n",
       "      <td>3.5</td>\n",
       "      <td>1.4</td>\n",
       "      <td>0.2</td>\n",
       "    </tr>\n",
       "    <tr>\n",
       "      <th>1</th>\n",
       "      <td>4.9</td>\n",
       "      <td>3.0</td>\n",
       "      <td>1.4</td>\n",
       "      <td>0.2</td>\n",
       "    </tr>\n",
       "    <tr>\n",
       "      <th>2</th>\n",
       "      <td>4.7</td>\n",
       "      <td>3.2</td>\n",
       "      <td>1.3</td>\n",
       "      <td>0.2</td>\n",
       "    </tr>\n",
       "    <tr>\n",
       "      <th>3</th>\n",
       "      <td>4.6</td>\n",
       "      <td>3.1</td>\n",
       "      <td>1.5</td>\n",
       "      <td>0.2</td>\n",
       "    </tr>\n",
       "    <tr>\n",
       "      <th>4</th>\n",
       "      <td>5.0</td>\n",
       "      <td>3.6</td>\n",
       "      <td>1.4</td>\n",
       "      <td>0.2</td>\n",
       "    </tr>\n",
       "    <tr>\n",
       "      <th>...</th>\n",
       "      <td>...</td>\n",
       "      <td>...</td>\n",
       "      <td>...</td>\n",
       "      <td>...</td>\n",
       "    </tr>\n",
       "    <tr>\n",
       "      <th>145</th>\n",
       "      <td>6.7</td>\n",
       "      <td>3.0</td>\n",
       "      <td>5.2</td>\n",
       "      <td>2.3</td>\n",
       "    </tr>\n",
       "    <tr>\n",
       "      <th>146</th>\n",
       "      <td>6.3</td>\n",
       "      <td>2.5</td>\n",
       "      <td>5.0</td>\n",
       "      <td>1.9</td>\n",
       "    </tr>\n",
       "    <tr>\n",
       "      <th>147</th>\n",
       "      <td>6.5</td>\n",
       "      <td>3.0</td>\n",
       "      <td>5.2</td>\n",
       "      <td>2.0</td>\n",
       "    </tr>\n",
       "    <tr>\n",
       "      <th>148</th>\n",
       "      <td>6.2</td>\n",
       "      <td>3.4</td>\n",
       "      <td>5.4</td>\n",
       "      <td>2.3</td>\n",
       "    </tr>\n",
       "    <tr>\n",
       "      <th>149</th>\n",
       "      <td>5.9</td>\n",
       "      <td>3.0</td>\n",
       "      <td>5.1</td>\n",
       "      <td>1.8</td>\n",
       "    </tr>\n",
       "  </tbody>\n",
       "</table>\n",
       "<p>150 rows × 4 columns</p>\n",
       "</div>"
      ],
      "text/plain": [
       "     sepal length (cm)  sepal width (cm)  petal length (cm)  petal width (cm)\n",
       "0                  5.1               3.5                1.4               0.2\n",
       "1                  4.9               3.0                1.4               0.2\n",
       "2                  4.7               3.2                1.3               0.2\n",
       "3                  4.6               3.1                1.5               0.2\n",
       "4                  5.0               3.6                1.4               0.2\n",
       "..                 ...               ...                ...               ...\n",
       "145                6.7               3.0                5.2               2.3\n",
       "146                6.3               2.5                5.0               1.9\n",
       "147                6.5               3.0                5.2               2.0\n",
       "148                6.2               3.4                5.4               2.3\n",
       "149                5.9               3.0                5.1               1.8\n",
       "\n",
       "[150 rows x 4 columns]"
      ]
     },
     "execution_count": 2,
     "metadata": {},
     "output_type": "execute_result"
    }
   ],
   "source": [
    "# Display iris data such that my brain actually likes it.\n",
    "iris_b = load_iris(as_frame=True)\n",
    "iris_b.data"
   ]
  },
  {
   "cell_type": "code",
   "execution_count": 3,
   "metadata": {},
   "outputs": [
    {
     "name": "stdout",
     "output_type": "stream",
     "text": [
      "Centered Iris Dims: (4, 150)\n",
      "Eigenvector: \n",
      " [[ 0.36138659 -0.65658877 -0.58202985  0.31548719]\n",
      " [-0.08452251 -0.73016143  0.59791083 -0.3197231 ]\n",
      " [ 0.85667061  0.17337266  0.07623608 -0.47983899]\n",
      " [ 0.3582892   0.07548102  0.54583143  0.75365743]] \n",
      "\n",
      "Eigenvalues: \n",
      " [4.20005343 0.24105294 0.0776881  0.02367619] \n",
      "\n"
     ]
    }
   ],
   "source": [
    "# Write a function that takes in a matrix and provides you the eigenvalues and eigenvectors, using numpy.\n",
    "def get_eigen_data(data):\n",
    "    # Get Correlation Coeff.\n",
    "    coeff = np.corrcoef(data)\n",
    "    \n",
    "    # Get Scaler & Mean.\n",
    "    scaler = preprocessing.StandardScaler().fit(data.T)\n",
    "    \n",
    "    # Get Centered Dataset.\n",
    "    iris_centered = data - scaler.mean_[:,None]\n",
    "    print(\"Centered Iris Dims: \" + str(iris_centered.shape))\n",
    "    #plt.scatter(x = iris_centered[0,:], y = iris_centered[1,:], c=iris.target)\n",
    "    \n",
    "    # Take Dot Product\n",
    "    np.dot(iris_centered, iris_centered.T)/iris_centered.shape[1]\n",
    "    \n",
    "    # Grab Eigenvectors & Eigenvalues.\n",
    "    eigen_values, eigen_vectors = np.linalg.eig(np.cov(iris_centered, rowvar=True, bias=True).T)\n",
    "    \n",
    "    # Sort the eigen data.\n",
    "    sort = eigen_values.argsort()[::-1]    \n",
    "    eigen_values = eigen_values[sort]\n",
    "    eigen_vectors = eigen_vectors[:,sort]\n",
    "    \n",
    "    # Return the data.\n",
    "    return eigen_values, eigen_vectors, iris_centered\n",
    "\n",
    "# Call Function.  \n",
    "dataset = iris.data.copy().T\n",
    "eig_vals, eig_vects, iris_centered = get_eigen_data(dataset)\n",
    "\n",
    "# Print Eigen Data\n",
    "print(\"Eigenvector: \\n\",eig_vects,\"\\n\")\n",
    "print(\"Eigenvalues: \\n\", eig_vals, \"\\n\")"
   ]
  },
  {
   "cell_type": "code",
   "execution_count": 4,
   "metadata": {},
   "outputs": [
    {
     "data": {
      "text/plain": [
       "<matplotlib.collections.PathCollection at 0x16919b4b790>"
      ]
     },
     "execution_count": 4,
     "metadata": {},
     "output_type": "execute_result"
    },
    {
     "data": {
      "image/png": "[encoded data removed]",
      "text/plain": [
       "<Figure size 432x288 with 1 Axes>"
      ]
     },
     "metadata": {
      "needs_background": "light"
     },
     "output_type": "display_data"
    }
   ],
   "source": [
    "# Project your centered data into two dimensional space and plot the projected points. Color code the points by flower type.\n",
    "pca_manual = np.dot(eig_vects.T, iris_centered)\n",
    "plt.scatter(x = pca_manual[0,:], y = pca_manual[1,:], c=iris.target)"
   ]
  },
  {
   "cell_type": "code",
   "execution_count": 5,
   "metadata": {},
   "outputs": [
    {
     "data": {
      "text/plain": [
       "<matplotlib.collections.PathCollection at 0x1691bef6df0>"
      ]
     },
     "execution_count": 5,
     "metadata": {},
     "output_type": "execute_result"
    },
    {
     "data": {
      "image/png": "[encoded data removed]",
      "text/plain": [
       "<Figure size 432x288 with 1 Axes>"
      ]
     },
     "metadata": {
      "needs_background": "light"
     },
     "output_type": "display_data"
    }
   ],
   "source": [
    "# Show that you get the same eigenvalues/eigenvectors/projection if you use scikit's PCA or you manually do the projection via numpy (you can use numpy to compute the eigenvectors and eigenvalues)\n",
    "from sklearn.decomposition import PCA\n",
    "pca = PCA(n_components=2)\n",
    "\n",
    "# Start doin stuff.\n",
    "pca.fit_transform(dataset.T)\n",
    "#auto_data.shape\n",
    "\n",
    "auto_pca = pca.fit_transform(dataset.T)\n",
    "#auto_pca.shape\n",
    "plt.scatter(x = auto_pca[:,0], y = auto_pca[:,1], c=iris.target)"
   ]
  },
  {
   "cell_type": "markdown",
   "metadata": {},
   "source": [
    "### Can you make a good rule of what type of flower it is by just using the first two principle components? Describe how?\n",
    "- Yes you can, most of the varience is in the first two components anyways ([0.92461872 0.05306648 0.01710261 0.00521218]), so the presence of the prior two components doesn't change anything significantly.\n"
   ]
  },
  {
   "cell_type": "code",
   "execution_count": 6,
   "metadata": {},
   "outputs": [
    {
     "name": "stdout",
     "output_type": "stream",
     "text": [
      "97.7685%\n"
     ]
    }
   ],
   "source": [
    "# What percentage of the total data variance do the first two principle components capture.\n",
    "l_ratio = pca.explained_variance_ratio_[0] + pca.explained_variance_ratio_[1]\n",
    "print(\"{0:.4%}\".format(l_ratio))"
   ]
  },
  {
   "cell_type": "markdown",
   "metadata": {},
   "source": [
    "# Part 2 - Linear Regression\n",
    "\n",
    "- Load the Diabetes dataset (we do that for you)\n",
    "- Break the data set up into the first 350 observations for training and the remaining observations for test.\n",
    "- Write a function that takes in a feature matrix and a y-vector and fits the line of best fit using least squares regression. \n",
    "- Fit the line of best fit on the training data. \n",
    "- Make a prediction on the test data. \n",
    "- Compute the total Sum of Squared Error (SSE) and then compute the MSE on the test data.\n",
    "- Fit the linear regression model using the stats models package as in class.\n",
    "- Which variables are statistically significant at the 5% level? \n",
    "- What is the value of R^2? How is that interpreted?"
   ]
  },
  {
   "cell_type": "code",
   "execution_count": 7,
   "metadata": {},
   "outputs": [],
   "source": [
    "from sklearn.datasets import load_diabetes\n",
    "import pandas as pd\n",
    "import statsmodels.api as sm\n",
    "import io\n",
    "diabetes = load_diabetes(as_frame=True)"
   ]
  },
  {
   "cell_type": "code",
   "execution_count": 8,
   "metadata": {
    "tags": []
   },
   "outputs": [
    {
     "data": {
      "text/plain": [
       "0      151.0\n",
       "1       75.0\n",
       "2      141.0\n",
       "3      206.0\n",
       "4      135.0\n",
       "       ...  \n",
       "437    178.0\n",
       "438    104.0\n",
       "439    132.0\n",
       "440    220.0\n",
       "441     57.0\n",
       "Name: target, Length: 442, dtype: float64"
      ]
     },
     "execution_count": 8,
     "metadata": {},
     "output_type": "execute_result"
    }
   ],
   "source": [
    "diabetes['target']"
   ]
  },
  {
   "cell_type": "code",
   "execution_count": 9,
   "metadata": {},
   "outputs": [
    {
     "data": {
      "text/plain": [
       "['age', 'sex', 'bmi', 'bp', 's1', 's2', 's3', 's4', 's5', 's6']"
      ]
     },
     "execution_count": 9,
     "metadata": {},
     "output_type": "execute_result"
    }
   ],
   "source": [
    "diabetes.feature_names"
   ]
  },
  {
   "cell_type": "code",
   "execution_count": 10,
   "metadata": {
    "tags": []
   },
   "outputs": [],
   "source": [
    "# Break the data set up into the first 350 observations for training and the remaining observations for test.\n",
    "training_data = diabetes[\"data\"][0:350]\n",
    "testing_data = diabetes[\"data\"][350:442]"
   ]
  },
  {
   "cell_type": "code",
   "execution_count": 11,
   "metadata": {},
   "outputs": [
    {
     "name": "stdout",
     "output_type": "stream",
     "text": [
      "                            OLS Regression Results                            \n",
      "==============================================================================\n",
      "Dep. Variable:                 target   R-squared:                       0.504\n",
      "Model:                            OLS   Adj. R-squared:                  0.490\n",
      "Method:                 Least Squares   F-statistic:                     34.48\n",
      "Date:                Sun, 06 Mar 2022   Prob (F-statistic):           5.38e-46\n",
      "Time:                        23:29:19   Log-Likelihood:                -1890.2\n",
      "No. Observations:                 350   AIC:                             3802.\n",
      "Df Residuals:                     339   BIC:                             3845.\n",
      "Df Model:                          10                                         \n",
      "Covariance Type:            nonrobust                                         \n",
      "==============================================================================\n",
      "                 coef    std err          t      P>|t|      [0.025      0.975]\n",
      "------------------------------------------------------------------------------\n",
      "const        152.0799      2.917     52.137      0.000     146.342     157.817\n",
      "age          -10.8264     66.510     -0.163      0.871    -141.650     119.998\n",
      "sex         -249.4843     70.249     -3.551      0.000    -387.663    -111.305\n",
      "bmi          514.4086     78.108      6.586      0.000     360.771     668.046\n",
      "bp           295.2296     73.431      4.021      0.000     150.793     439.667\n",
      "s1          -456.8310    500.696     -0.912      0.362   -1441.694     528.032\n",
      "s2           201.7233    406.791      0.496      0.620    -598.430    1001.876\n",
      "s3           -48.3452    252.986     -0.191      0.849    -545.965     449.274\n",
      "s4           138.2997    180.133      0.768      0.443    -216.019     492.618\n",
      "s5           631.9747    198.369      3.186      0.002     241.785    1022.164\n",
      "s6            87.8969     77.226      1.138      0.256     -64.005     239.799\n",
      "==============================================================================\n",
      "Omnibus:                        1.679   Durbin-Watson:                   1.997\n",
      "Prob(Omnibus):                  0.432   Jarque-Bera (JB):                1.513\n",
      "Skew:                           0.034   Prob(JB):                        0.469\n",
      "Kurtosis:                       2.685   Cond. No.                         241.\n",
      "==============================================================================\n",
      "\n",
      "Notes:\n",
      "[1] Standard Errors assume that the covariance matrix of the errors is correctly specified.\n"
     ]
    }
   ],
   "source": [
    "# Write a function that takes in a feature matrix and a y-vector and fits the line of best fit using least squares regression.\n",
    "def get_best_line(feat_mat, y_vect):\n",
    "\n",
    "    # Add the constant.\n",
    "    feat_mat = sm.add_constant(feat_mat)\n",
    "\n",
    "    # Get and fit the model.\n",
    "    model = sm.OLS(y_vect, feat_mat)\n",
    "    results = model.fit()\n",
    "    print(results.summary())\n",
    "    #sm.graphics.plot_fit(results,1, vlines=False);\n",
    "\n",
    "    # Get the coeffs and the std err values.\n",
    "    coeffs = results.params\n",
    "    std_errs = results.bse\n",
    "\n",
    "    # Return the line of best fit, fit to the data.\n",
    "    # Adding the constant.\n",
    "    y_hat = coeffs[0]\n",
    "\n",
    "    for i in range(1, len(coeffs)):\n",
    "        y_hat += coeffs[i] * std_errs[i]\n",
    "    return y_hat\n",
    "\n",
    "# Set the variables & call the function.\n",
    "y_vect = diabetes.target[0:350]\n",
    "y_hat = get_best_line(training_data, y_vect)\n"
   ]
  },
  {
   "cell_type": "code",
   "execution_count": 12,
   "metadata": {},
   "outputs": [
    {
     "name": "stdout",
     "output_type": "stream",
     "text": [
      "[ -10.82642893 -249.48428541  514.40863256  295.22963645 -456.83095843\n",
      "  201.72327107  -48.34518664  138.29973577  631.97471559   87.89687854]\n"
     ]
    }
   ],
   "source": [
    "# Fit the line of best fit on the training data.\n",
    "from sklearn.linear_model import LinearRegression\n",
    "reg = LinearRegression()\n",
    "results = reg.fit(training_data, y_vect)\n",
    "print(results.coef_)"
   ]
  },
  {
   "cell_type": "code",
   "execution_count": 13,
   "metadata": {
    "tags": []
   },
   "outputs": [
    {
     "data": {
      "text/plain": [
       "array([249.73713513,  87.3519183 ,  59.67330031, 171.13303685,\n",
       "       194.2613731 , 132.80131482,  91.65414427, 199.47376009,\n",
       "        56.22447271, 172.59442294, 195.79655277, 120.7542843 ,\n",
       "       231.61334653, 163.35726562, 160.64716435, 164.37765919,\n",
       "       254.51873453, 254.62729539, 200.47316451, 185.14295451,\n",
       "        60.08369427, 200.85524825, 108.87625578, 143.36981529,\n",
       "       128.32486751, 175.35457459, 210.55490963, 165.22427363,\n",
       "       161.79816651, 137.0856577 , 173.82224504,  74.91906646,\n",
       "       253.95371552, 113.90067393, 109.77297524, 137.33085478,\n",
       "       110.49759527,  97.25697617, 159.26143257,  75.30981169,\n",
       "       258.58231308,  58.36486635, 100.02606938, 102.77880435,\n",
       "       268.48641391, 168.97487081,  65.38198998, 183.11087173,\n",
       "       171.23843967, 187.11698446, 183.26703537,  90.37211222,\n",
       "       147.07960251, 252.78454669, 197.65498095, 278.00768364,\n",
       "        52.21933948, 174.95631999, 202.35130825, 170.31365556,\n",
       "       157.37468888, 152.92011903, 231.18250209, 123.37226741,\n",
       "       163.58033524, 172.21370366, 224.66157024, 152.71560403,\n",
       "        99.89644877,  84.76090522, 141.9218661 , 189.63595929,\n",
       "       196.43974248, 148.98125165, 170.52790181, 113.35785816,\n",
       "       161.44853654, 130.76852519, 257.61461399, 101.06553157,\n",
       "       116.66728953, 120.10642605, 220.48082489,  61.87657594,\n",
       "       133.083188  , 120.83717591,  54.9182899 , 190.19578427,\n",
       "       103.36320459, 121.58308685, 210.71143359,  53.19842836])"
      ]
     },
     "execution_count": 13,
     "metadata": {},
     "output_type": "execute_result"
    }
   ],
   "source": [
    "# Make a prediction on the test data.\n",
    "predict = reg.predict(testing_data)\n",
    "predict"
   ]
  },
  {
   "cell_type": "code",
   "execution_count": 14,
   "metadata": {},
   "outputs": [
    {
     "data": {
      "text/plain": [
       "6772.493862234267"
      ]
     },
     "execution_count": 14,
     "metadata": {},
     "output_type": "execute_result"
    }
   ],
   "source": [
    "# Compute the total Sum of Squared Error (SSE) and then compute the MSE on the test data.\n",
    "from sklearn.metrics import mean_squared_error\n",
    "mse = mean_squared_error(y_vect[0:92], predict)\n",
    "#y_vect.shape\n",
    "mse"
   ]
  },
  {
   "cell_type": "markdown",
   "metadata": {},
   "source": [
    "### Which variables are statistically significant at the 5% level?\n",
    "- Sex\n",
    "- BMI\n",
    "- Blood Pressure\n",
    "- S5\n",
    "### What's the value of R-squared? How is this interpreted?\n",
    "R-squared = 0.504. This is basically a measure of how well the model fits the data. In a vacuum, the closer to one, the better."
   ]
  },
  {
   "cell_type": "code",
   "execution_count": null,
   "metadata": {},
   "outputs": [],
   "source": []
  }
 ],
 "metadata": {
  "interpreter": {
   "hash": "b0c13ec3ae09ac9f93d430c5e4d30db8ae2d74ae538c6d3710b0e515df26a87c"
  },
  "kernelspec": {
   "display_name": "cse-3521",
   "language": "python",
   "name": "cse-3521"
  },
  "language_info": {
   "codemirror_mode": {
    "name": "ipython",
    "version": 3
   },
   "file_extension": ".py",
   "mimetype": "text/x-python",
   "name": "python",
   "nbconvert_exporter": "python",
   "pygments_lexer": "ipython3",
   "version": "3.9.10"
  }
 },
 "nbformat": 4,
 "nbformat_minor": 4
}
