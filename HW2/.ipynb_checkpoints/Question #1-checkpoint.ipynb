{
 "cells": [
  {
   "cell_type": "code",
   "execution_count": 15,
   "id": "992fb111-1c34-41cd-bcf4-a128c2c8c554",
   "metadata": {
    "tags": []
   },
   "outputs": [],
   "source": [
    "from sklearn.neighbors import KernelDensity\n",
    "import numpy as np\n",
    "from matplotlib import pyplot as plt\n",
    "import collections\n",
    "import re\n",
    "import pandas as pd\n",
    "from functools import reduce"
   ]
  },
  {
   "cell_type": "markdown",
   "id": "ac0898b6-fae7-4295-9dc4-d49a33aabab8",
   "metadata": {
    "tags": []
   },
   "source": [
    "## HW #2 Question 1.1- Get BoWs"
   ]
  },
  {
   "cell_type": "code",
   "execution_count": 16,
   "id": "39801ebf-5bfc-4077-8834-59d8be1ffa08",
   "metadata": {},
   "outputs": [
    {
     "data": {
      "text/html": [
       "<div>\n",
       "<style scoped>\n",
       "    .dataframe tbody tr th:only-of-type {\n",
       "        vertical-align: middle;\n",
       "    }\n",
       "\n",
       "    .dataframe tbody tr th {\n",
       "        vertical-align: top;\n",
       "    }\n",
       "\n",
       "    .dataframe thead th {\n",
       "        text-align: right;\n",
       "    }\n",
       "</style>\n",
       "<table border=\"1\" class=\"dataframe\">\n",
       "  <thead>\n",
       "    <tr style=\"text-align: right;\">\n",
       "      <th></th>\n",
       "      <th>captial</th>\n",
       "      <th>state</th>\n",
       "      <th>team</th>\n",
       "      <th>basketball</th>\n",
       "      <th>hockey</th>\n",
       "      <th>professional</th>\n",
       "      <th>bank</th>\n",
       "    </tr>\n",
       "  </thead>\n",
       "  <tbody>\n",
       "    <tr>\n",
       "      <th>0</th>\n",
       "      <td>1</td>\n",
       "      <td>1</td>\n",
       "      <td>1</td>\n",
       "      <td>1</td>\n",
       "      <td>0</td>\n",
       "      <td>1</td>\n",
       "      <td>0</td>\n",
       "    </tr>\n",
       "    <tr>\n",
       "      <th>1</th>\n",
       "      <td>1</td>\n",
       "      <td>1</td>\n",
       "      <td>2</td>\n",
       "      <td>1</td>\n",
       "      <td>1</td>\n",
       "      <td>2</td>\n",
       "      <td>0</td>\n",
       "    </tr>\n",
       "    <tr>\n",
       "      <th>2</th>\n",
       "      <td>1</td>\n",
       "      <td>0</td>\n",
       "      <td>1</td>\n",
       "      <td>0</td>\n",
       "      <td>0</td>\n",
       "      <td>1</td>\n",
       "      <td>1</td>\n",
       "    </tr>\n",
       "  </tbody>\n",
       "</table>\n",
       "</div>"
      ],
      "text/plain": [
       "   captial  state  team  basketball  hockey  professional  bank\n",
       "0        1      1     1           1       0             1     0\n",
       "1        1      1     2           1       1             2     0\n",
       "2        1      0     1           0       0             1     1"
      ]
     },
     "execution_count": 16,
     "metadata": {},
     "output_type": "execute_result"
    }
   ],
   "source": [
    "str_A = 'sacramento is a state captial and it has a professional basketball team'\n",
    "str_B = 'Columbus is a state captial and it has a professional hockey team by no professional basketball team'\n",
    "str_C = 'the captial bank at Cincinnati has a professional team'\n",
    "\n",
    "vocab = ['captial', 'state', 'team', 'basketball', 'hockey', 'professional', 'bank']\n",
    "\n",
    "from sklearn.feature_extraction.text import CountVectorizer\n",
    "vectorizer = CountVectorizer(stop_words='english', token_pattern=u\"(?u)\\\\b\\\\w+\\\\b\", vocabulary=vocab) ## Why is this needed?\n",
    "#print(vectorizer.get_feature_names())\n",
    "X = vectorizer.fit_transform([str_A, str_B, str_C])\n",
    "bow_df_short = pd.DataFrame(X.toarray(),columns=vectorizer.get_feature_names_out())\n",
    "bow_df_short.head()"
   ]
  },
  {
   "cell_type": "markdown",
   "id": "b82fdc19-546e-4920-8eb3-9366a70bc575",
   "metadata": {},
   "source": [
    "### HW #2 Question 1.2 - L1 Distance"
   ]
  },
  {
   "cell_type": "markdown",
   "id": "907a7ab2-0545-46dd-9740-785400174236",
   "metadata": {},
   "source": [
    "A to B"
   ]
  },
  {
   "cell_type": "code",
   "execution_count": 17,
   "id": "33dfef49-ebaf-484e-b8a2-737b5518c909",
   "metadata": {
    "tags": []
   },
   "outputs": [
    {
     "name": "stdout",
     "output_type": "stream",
     "text": [
      "1.73\n"
     ]
    }
   ],
   "source": [
    "vectors = bow_df_short.to_numpy()\n",
    "dist_a_b = np.linalg.norm(vectors[0] - vectors[1])\n",
    "print(np.around(dist_a_b, 2))"
   ]
  },
  {
   "cell_type": "markdown",
   "id": "ea72c618-ba09-4477-b800-17c2019bcd31",
   "metadata": {},
   "source": [
    "B to C"
   ]
  },
  {
   "cell_type": "code",
   "execution_count": 18,
   "id": "ae3bca40-7c35-4a0c-b4e6-f819a2c65470",
   "metadata": {},
   "outputs": [
    {
     "name": "stdout",
     "output_type": "stream",
     "text": [
      "1.73\n"
     ]
    }
   ],
   "source": [
    "dist_a_c = np.linalg.norm(vectors[0] - vectors[2])\n",
    "print(np.around(dist_a_c, 2))"
   ]
  },
  {
   "cell_type": "markdown",
   "id": "b63fb9b3-ac15-4624-8a7e-341647b3b893",
   "metadata": {},
   "source": [
    "### Question 1.3 - Normalization"
   ]
  },
  {
   "cell_type": "code",
   "execution_count": 19,
   "id": "056ddfd8-5b49-4df5-a5ac-728dc36f9913",
   "metadata": {},
   "outputs": [
    {
     "data": {
      "text/plain": [
       "array([5., 8., 4.])"
      ]
     },
     "execution_count": 19,
     "metadata": {},
     "output_type": "execute_result"
    }
   ],
   "source": [
    "norm_l1 = np.linalg.norm(bow_df_short.values, axis=1, ord=1)\n",
    "norm_l1"
   ]
  },
  {
   "cell_type": "code",
   "execution_count": 20,
   "id": "c78096cd-2ff1-46c4-b971-8d265f38eb1d",
   "metadata": {},
   "outputs": [
    {
     "data": {
      "text/html": [
       "<div>\n",
       "<style scoped>\n",
       "    .dataframe tbody tr th:only-of-type {\n",
       "        vertical-align: middle;\n",
       "    }\n",
       "\n",
       "    .dataframe tbody tr th {\n",
       "        vertical-align: top;\n",
       "    }\n",
       "\n",
       "    .dataframe thead th {\n",
       "        text-align: right;\n",
       "    }\n",
       "</style>\n",
       "<table border=\"1\" class=\"dataframe\">\n",
       "  <thead>\n",
       "    <tr style=\"text-align: right;\">\n",
       "      <th></th>\n",
       "      <th>captial</th>\n",
       "      <th>state</th>\n",
       "      <th>team</th>\n",
       "      <th>basketball</th>\n",
       "      <th>hockey</th>\n",
       "      <th>professional</th>\n",
       "      <th>bank</th>\n",
       "    </tr>\n",
       "  </thead>\n",
       "  <tbody>\n",
       "    <tr>\n",
       "      <th>0</th>\n",
       "      <td>0.200</td>\n",
       "      <td>0.200</td>\n",
       "      <td>0.20</td>\n",
       "      <td>0.200</td>\n",
       "      <td>0.000</td>\n",
       "      <td>0.20</td>\n",
       "      <td>0.00</td>\n",
       "    </tr>\n",
       "    <tr>\n",
       "      <th>1</th>\n",
       "      <td>0.125</td>\n",
       "      <td>0.125</td>\n",
       "      <td>0.25</td>\n",
       "      <td>0.125</td>\n",
       "      <td>0.125</td>\n",
       "      <td>0.25</td>\n",
       "      <td>0.00</td>\n",
       "    </tr>\n",
       "    <tr>\n",
       "      <th>2</th>\n",
       "      <td>0.250</td>\n",
       "      <td>0.000</td>\n",
       "      <td>0.25</td>\n",
       "      <td>0.000</td>\n",
       "      <td>0.000</td>\n",
       "      <td>0.25</td>\n",
       "      <td>0.25</td>\n",
       "    </tr>\n",
       "  </tbody>\n",
       "</table>\n",
       "</div>"
      ],
      "text/plain": [
       "   captial  state  team  basketball  hockey  professional  bank\n",
       "0    0.200  0.200  0.20       0.200   0.000          0.20  0.00\n",
       "1    0.125  0.125  0.25       0.125   0.125          0.25  0.00\n",
       "2    0.250  0.000  0.25       0.000   0.000          0.25  0.25"
      ]
     },
     "execution_count": 20,
     "metadata": {},
     "output_type": "execute_result"
    }
   ],
   "source": [
    "normed_matrix=bow_df_short.divide(norm_l1, axis='rows')\n",
    "normed_matrix"
   ]
  },
  {
   "cell_type": "code",
   "execution_count": 21,
   "id": "797ef05b-f173-4f59-b89b-10103581dbf0",
   "metadata": {},
   "outputs": [
    {
     "name": "stdout",
     "output_type": "stream",
     "text": [
      "Distance from A to B (Normalized): 0.19\n"
     ]
    }
   ],
   "source": [
    "normed_vectors = normed_matrix.to_numpy()\n",
    "dist_a_b = np.linalg.norm(normed_vectors[0] - normed_vectors[1])\n",
    "print(\"Distance from A to B (Normalized):\", np.around(dist_a_b, 2))"
   ]
  },
  {
   "cell_type": "code",
   "execution_count": 22,
   "id": "f1ce27a0-9bb0-4b06-945a-0f6f8ec56521",
   "metadata": {},
   "outputs": [
    {
     "name": "stdout",
     "output_type": "stream",
     "text": [
      "Distance from A to C (Normalized): 0.39\n"
     ]
    }
   ],
   "source": [
    "dist_a_c = np.linalg.norm(normed_vectors[0] - normed_vectors[2])\n",
    "print(\"Distance from A to C (Normalized):\", np.around(dist_a_c, 2))"
   ]
  }
 ],
 "metadata": {
  "kernelspec": {
   "display_name": "Python 3 (ipykernel)",
   "language": "python",
   "name": "python3"
  },
  "language_info": {
   "codemirror_mode": {
    "name": "ipython",
    "version": 3
   },
   "file_extension": ".py",
   "mimetype": "text/x-python",
   "name": "python",
   "nbconvert_exporter": "python",
   "pygments_lexer": "ipython3",
   "version": "3.9.10"
  }
 },
 "nbformat": 4,
 "nbformat_minor": 5
}
