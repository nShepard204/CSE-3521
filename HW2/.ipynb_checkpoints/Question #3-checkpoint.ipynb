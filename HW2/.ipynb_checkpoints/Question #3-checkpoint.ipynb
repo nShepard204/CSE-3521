{
 "cells": [
  {
   "cell_type": "markdown",
   "id": "afcb257a-7d88-43a6-87ed-efff64e398c5",
   "metadata": {},
   "source": [
    "### Please compute the covariance matrix C of Figure 3."
   ]
  },
  {
   "cell_type": "code",
   "execution_count": 59,
   "id": "a9d700f6-37fc-4841-8ab4-70cdb9a136f1",
   "metadata": {},
   "outputs": [
    {
     "data": {
      "text/plain": [
       "array([[0.10846523, 0.20203051],\n",
       "       [0.20203051, 0.28284271]])"
      ]
     },
     "execution_count": 59,
     "metadata": {},
     "output_type": "execute_result"
    }
   ],
   "source": [
    "# Compute the covarience matrix of Figure 3's data points.\n",
    "import numpy as np\n",
    "data = np.array([[20, 5], [8, -2], [-6, -3], [6, 4]]).T;\n",
    "data\n",
    "matrix_C = np.cov(data, rowvar=True, bias=True)\n",
    "matrix_C"
   ]
  },
  {
   "cell_type": "markdown",
   "id": "fca6f240-484c-458b-8ca5-9b4670f462a5",
   "metadata": {},
   "source": [
    "### Please compute the vectors {z1, z2, z3, z4} after applying Zscore transformation to the dataset in Figure 3. Denote by µ the 2-dimensional mean vector of the four instances and by σd the standard deviation of the d-th dimension, the formula of Z-score is"
   ]
  },
  {
   "cell_type": "code",
   "execution_count": 4,
   "id": "ee8b120e-3097-47d7-bf8a-ddd8a26ecd41",
   "metadata": {},
   "outputs": [
    {
     "name": "stdout",
     "output_type": "stream",
     "text": [
      "Z1: [1.34983853 0.42182454]\n"
     ]
    }
   ],
   "source": [
    "# Perform ZCA Whitening on the given matrix.\n",
    "# Borrowed from https://gryslik.github.io/osu_cse3521_spring2022/course_materials/lecture_examples/Standardization_Normalization_Whitening_PCA.ipynb\n",
    "def zca_whitening_matrix(X):\n",
    "    \"\"\"\n",
    "    Function to compute ZCA whitening matrix (aka Mahalanobis whitening).\n",
    "    INPUT:  X: [M x N] matrix.\n",
    "        Rows: Variables\n",
    "        Columns: Observations\n",
    "    OUTPUT: ZCAMatrix: [M x M] matrix\n",
    "    \"\"\"\n",
    "    # Covariance matrix [column-wise variables]: Sigma = (X-mu)' * (X-mu) / N\n",
    "    sigma = np.cov(X, rowvar=True, bias = True) # [M x M]\n",
    "    # Singular Value Decomposition. X = U * np.diag(S) * V\n",
    "    U,S,V = np.linalg.svd(sigma)\n",
    "        # U: [M x M] eigenvectors of sigma.\n",
    "        # S: [M x 1] eigenvalues of sigma.\n",
    "        # V: [M x M] transpose of U\n",
    "    # Whitening constant: prevents division by zero\n",
    "    epsilon = 1e-15\n",
    "    # ZCA Whitening matrix: U * Lambda * U'\n",
    "    ZCAMatrix = np.dot(U, np.dot(np.diag(1.0/np.sqrt(S + epsilon)), U.T)) # [M x M]\n",
    "    return ZCAMatrix, sigma, U, S, V\n",
    "data_mean_vals = data.mean(axis=1).reshape(-1,1)\n",
    "#print(data_mean_vals)\n",
    "zca_converter, _, _, _, _ = zca_whitening_matrix(data)\n",
    "data_zca = np.dot(zca_converter, data-data_mean_vals)\n",
    "#print(data_zca)\n",
    "\n",
    "# Get the Z-scores.\n",
    "from scipy import stats\n",
    "z_scores = stats.zscore(data_zca, axis=None)\n",
    "print(\"Z1:\", z_scores[:,0])\n",
    "print(\"Z2:\", z_scores[:,1])\n",
    "print(\"Z3:\", z_scores[:,2])\n",
    "print(\"Z4:\", z_scores[:,3])\n"
   ]
  },
  {
   "cell_type": "markdown",
   "id": "46034c8e-7589-41ac-bfb7-b192c0d2d6b4",
   "metadata": {},
   "source": [
    "### What is the 2-dimensional mean vector and what is the standard deviation of each dimension of the resulting {z1, z2, z3, z4}?"
   ]
  },
  {
   "cell_type": "code",
   "execution_count": 40,
   "id": "8a646e4a-8f74-49af-b2f3-4539c65e731d",
   "metadata": {},
   "outputs": [
    {
     "name": "stdout",
     "output_type": "stream",
     "text": [
      "Z1 Mean Vector: -0.464\n",
      "Z2 Mean Vector: -0.464\n",
      "Z3 Mean Vector: -0.886\n",
      "Z4 Mean Vector: 0.464\n",
      "--------------------------\n",
      "Z1 Std. Deviation: 0.464\n",
      "Z2 Std. Deviation: 0.886\n",
      "Z3 Std. Deviation: 0.464\n",
      "Z4 Std. Deviation: 0.886\n"
     ]
    }
   ],
   "source": [
    "vect = np.mean(z_scores[:,1], axis=0)\n",
    "print(\"Z1 Mean Vector:\", np.around(vect,3))\n",
    "vect = np.mean(z_scores[:,1], axis=0)\n",
    "print(\"Z2 Mean Vector:\", np.around(vect,3))\n",
    "vect = np.mean(z_scores[:,2], axis=0)\n",
    "print(\"Z3 Mean Vector:\", np.around(vect,3))\n",
    "vect = np.mean(z_scores[:,3], axis=0)\n",
    "print(\"Z4 Mean Vector:\", np.around(vect,3))\n",
    "print(\"--------------------------\")\n",
    "std = np.std(z_scores[:,0], axis=0)\n",
    "print(\"Z1 Std. Deviation:\", np.around(std,3))\n",
    "std = np.std(z_scores[:,1], axis=0)\n",
    "print(\"Z2 Std. Deviation:\", np.around(std,3))\n",
    "std = np.std(z_scores[:,2], axis=0)\n",
    "print(\"Z3 Std. Deviation:\", np.around(std,3))\n",
    "std = np.std(z_scores[:,3], axis=0)\n",
    "print(\"Z4 Std. Deviation:\", np.around(std,3))"
   ]
  },
  {
   "cell_type": "markdown",
   "id": "be6560d7-92a3-48bb-adf4-c90ed1859401",
   "metadata": {},
   "source": [
    "### Part 4: Please applying whitening to the dataset in Figure 4."
   ]
  },
  {
   "cell_type": "code",
   "execution_count": 74,
   "id": "6b342f07-12ad-4771-b9c6-f94d73d39ccc",
   "metadata": {},
   "outputs": [
    {
     "name": "stdout",
     "output_type": "stream",
     "text": [
      "Whitened Matrix:\n",
      " [[ 1.345  0.421 -1.345 -0.421]\n",
      " [-0.424  1.35   0.424 -1.35 ]]\n"
     ]
    }
   ],
   "source": [
    "data2 = np.array([[20, -5], [8, 2], [-6, 3], [6, -4]]).T;\n",
    "cov_2 = np.array([[.133, .096], [.096, .418]]).T\n",
    "mean_vect = np.array([[7, -1]]).T\n",
    "whitened = np.dot(cov_2, data2-mean_vect)\n",
    "print(\"Whitened Matrix:\\n\", whitened)"
   ]
  },
  {
   "cell_type": "markdown",
   "id": "fff8c5e9-e732-413e-89d3-c6bf23a06905",
   "metadata": {},
   "source": [
    "### Part 5: Please apply PCA to the dataset in Figure 4 without reducing the dimensionality. That is, you are to construct the 2-by-2 matrix W = [w1, w2], where w1 and w2 are two 2-dimensional eigenvectors"
   ]
  },
  {
   "cell_type": "code",
   "execution_count": 93,
   "id": "615b85f6-df13-484a-b019-197c6bff5cf6",
   "metadata": {},
   "outputs": [
    {
     "data": {
      "text/plain": [
       "array([[ 13.60145851,  -0.01806411],\n",
       "       [  0.07772008,   3.16132244],\n",
       "       [-13.60145851,   0.01806411],\n",
       "       [ -0.07772008,  -3.16132244]])"
      ]
     },
     "execution_count": 93,
     "metadata": {},
     "output_type": "execute_result"
    }
   ],
   "source": [
    "from sklearn.decomposition import PCA\n",
    "pca = PCA(n_components=2)\n",
    "data2_pca = pca.fit_transform(data2.T)\n",
    "data2_pca"
   ]
  },
  {
   "cell_type": "code",
   "execution_count": 98,
   "id": "7c3db5f5-ad5a-470a-ba8d-84cfd36027ff",
   "metadata": {},
   "outputs": [
    {
     "data": {
      "text/plain": [
       "array([13.60147051,  3.16227766, 13.60147051,  3.16227766])"
      ]
     },
     "execution_count": 98,
     "metadata": {},
     "output_type": "execute_result"
    }
   ],
   "source": [
    "normed_mat= np.linalg.norm(data2_pca, axis=1, ord = 2)\n",
    "normed_mat"
   ]
  }
 ],
 "metadata": {
  "kernelspec": {
   "display_name": "cse-3521",
   "language": "python",
   "name": "cse-3521"
  },
  "language_info": {
   "codemirror_mode": {
    "name": "ipython",
    "version": 3
   },
   "file_extension": ".py",
   "mimetype": "text/x-python",
   "name": "python",
   "nbconvert_exporter": "python",
   "pygments_lexer": "ipython3",
   "version": "3.9.10"
  }
 },
 "nbformat": 4,
 "nbformat_minor": 5
}
