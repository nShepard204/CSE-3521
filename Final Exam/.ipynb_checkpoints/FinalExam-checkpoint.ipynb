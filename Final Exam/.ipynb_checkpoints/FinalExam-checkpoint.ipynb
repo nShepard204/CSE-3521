{
 "cells": [
  {
   "cell_type": "markdown",
   "metadata": {},
   "source": [
    "# Question #3 - Search"
   ]
  },
  {
   "cell_type": "code",
   "execution_count": 1,
   "metadata": {},
   "outputs": [
    {
     "data": {
      "text/plain": [
       "{('A', 'B'): Text(-0.23076923076923073, -0.25, '8'),\n",
       " ('A', 'C'): Text(-0.6923076923076923, -0.019230769230769218, '4'),\n",
       " ('A', 'E'): Text(-0.07692307692307687, -0.3269230769230769, '2'),\n",
       " ('A', 'G'): Text(-0.5384615384615384, -0.17307692307692307, '20'),\n",
       " ('B', 'G'): Text(0.2307692307692308, -0.09615384615384615, '4'),\n",
       " ('C', 'D'): Text(-0.3076923076923077, 0.21153846153846156, '4'),\n",
       " ('D', 'G'): Text(-0.15384615384615385, 0.0576923076923077, '4'),\n",
       " ('E', 'F'): Text(0.5384615384615385, -0.019230769230769218, '10'),\n",
       " ('F', 'H'): Text(0.15384615384615385, 0.21153846153846156, '2'),\n",
       " ('H', 'G'): Text(0.0, 0.0576923076923077, '2')}"
      ]
     },
     "execution_count": 1,
     "metadata": {},
     "output_type": "execute_result"
    },
    {
     "data": {
      "image/png": "[encoded data removed]",
      "text/plain": [
       "<Figure size 432x288 with 1 Axes>"
      ]
     },
     "metadata": {},
     "output_type": "display_data"
    }
   ],
   "source": [
    "import numpy as np\n",
    "import pandas as pd\n",
    "import networkx as nx\n",
    "\n",
    "edges = [\n",
    "    (\"A\", \"B\", { 'weight': 8 }),\n",
    "    (\"A\", \"C\", { 'weight': 4 }),\n",
    "    (\"A\", \"E\", { 'weight': 2 }),\n",
    "    (\"A\", \"G\", { 'weight': 20 }),\n",
    "    (\"B\", \"G\", { 'weight': 4 }),\n",
    "    (\"C\", \"D\", { 'weight': 4 }),\n",
    "    (\"D\", \"G\", { 'weight': 4 }),\n",
    "    (\"E\", \"F\", { 'weight': 10 }),\n",
    "    (\"F\", \"H\", { 'weight': 2 }),\n",
    "    (\"H\", \"G\", { 'weight': 2 })\n",
    "]\n",
    "\n",
    "edge_labels = {\n",
    "    (\"A\", \"B\"): 8,\n",
    "    (\"A\", \"C\"): 4,\n",
    "    (\"A\", \"E\"): 2,\n",
    "    (\"A\", \"G\"): 20,\n",
    "    (\"B\", \"G\"): 4,\n",
    "    (\"C\", \"D\"): 4,\n",
    "    (\"D\", \"G\"): 4,\n",
    "    (\"E\", \"F\"): 10,\n",
    "    (\"F\", \"H\"): 2,\n",
    "    (\"H\", \"G\"): 2,\n",
    "}\n",
    "\n",
    "Graph1 = nx.DiGraph()\n",
    "for i in range(1,7):\n",
    "    Graph1.add_node(chr(ord('@')+i))\n",
    "Graph1.add_edges_from(edges)\n",
    "\n",
    "pos = nx.planar_layout(Graph1)\n",
    "edge_labels = nx.get_edge_attributes(Graph1,'weight')\n",
    "nx.draw(Graph1, with_labels = True, pos = pos)\n",
    "\n",
    "nx.draw_networkx_edge_labels(Graph1,pos,edge_labels=edge_labels)"
   ]
  },
  {
   "cell_type": "code",
   "execution_count": 2,
   "metadata": {},
   "outputs": [
    {
     "data": {
      "text/html": [
       "\n",
       "        <iframe\n",
       "            width=\"500px\"\n",
       "            height=\"500px\"\n",
       "            src=\"QuestionThree.html\"\n",
       "            frameborder=\"0\"\n",
       "            allowfullscreen\n",
       "            \n",
       "        ></iframe>\n",
       "        "
      ],
      "text/plain": [
       "<IPython.lib.display.IFrame at 0x20ca7fd6880>"
      ]
     },
     "execution_count": 2,
     "metadata": {},
     "output_type": "execute_result"
    }
   ],
   "source": [
    "from pyvis import network as net \n",
    "g1=net.Network(notebook = True, directed=True)\n",
    "g1.from_nx(Graph1)\n",
    "g1.nodes[0][\"color\"] = \"lightgreen\"\n",
    "g1.nodes[0][\"title\"] = \"start\"\n",
    "g1.nodes[g1.nodes.__len__()-4][\"color\"] = \"red\"\n",
    "g1.nodes[g1.nodes.__len__()-4][\"title\"] = \"end\"\n",
    "\n",
    "g1.show(\"QuestionThree.html\")"
   ]
  },
  {
   "cell_type": "markdown",
   "metadata": {},
   "source": [
    "## Part 1 - UCS"
   ]
  },
  {
   "cell_type": "code",
   "execution_count": 9,
   "metadata": {},
   "outputs": [
    {
     "data": {
      "text/plain": [
       "['A', 'B', 'G']"
      ]
     },
     "execution_count": 9,
     "metadata": {},
     "output_type": "execute_result"
    }
   ],
   "source": [
    "nx.shortest_path(Graph1, source=\"A\", target=\"G\", weight='weight')"
   ]
  },
  {
   "cell_type": "markdown",
   "metadata": {},
   "source": [
    "## Part 2 - BFS"
   ]
  },
  {
   "cell_type": "code",
   "execution_count": 4,
   "metadata": {},
   "outputs": [
    {
     "data": {
      "text/plain": [
       "{('A', 'B'): Text(-0.23076923076923073, -0.25, '8'),\n",
       " ('A', 'C'): Text(-0.6923076923076923, -0.019230769230769218, '4'),\n",
       " ('A', 'E'): Text(-0.07692307692307687, -0.3269230769230769, '2'),\n",
       " ('A', 'G'): Text(-0.5384615384615384, -0.17307692307692307, '20'),\n",
       " ('B', 'G'): Text(0.2307692307692308, -0.09615384615384615, '4'),\n",
       " ('C', 'D'): Text(-0.3076923076923077, 0.21153846153846156, '4'),\n",
       " ('D', 'G'): Text(-0.15384615384615385, 0.0576923076923077, '4'),\n",
       " ('E', 'F'): Text(0.5384615384615385, -0.019230769230769218, '10'),\n",
       " ('F', 'H'): Text(0.15384615384615385, 0.21153846153846156, '2'),\n",
       " ('H', 'G'): Text(0.0, 0.0576923076923077, '2')}"
      ]
     },
     "execution_count": 4,
     "metadata": {},
     "output_type": "execute_result"
    },
    {
     "data": {
      "image/png": "[encoded data removed]",
      "text/plain": [
       "<Figure size 432x288 with 1 Axes>"
      ]
     },
     "metadata": {},
     "output_type": "display_data"
    }
   ],
   "source": [
    "bfs_tree = nx.bfs_tree(Graph1, source=\"A\")\n",
    "nx.draw(bfs_tree, with_labels = True, pos = pos)\n",
    "\n",
    "nx.draw_networkx_edge_labels(bfs_tree,pos,edge_labels=edge_labels)"
   ]
  },
  {
   "cell_type": "code",
   "execution_count": 5,
   "metadata": {},
   "outputs": [
    {
     "data": {
      "text/plain": [
       "['A', 'G']"
      ]
     },
     "execution_count": 5,
     "metadata": {},
     "output_type": "execute_result"
    }
   ],
   "source": [
    "nx.shortest_path(bfs_tree, source=\"A\", target=\"G\", weight='weight')"
   ]
  },
  {
   "cell_type": "markdown",
   "metadata": {},
   "source": [
    "# Question #4 - Gaussian Mixture Models (GMM)\n",
    "\n",
    "$ p(6|k=1) = 7.36\\% $\n",
    "\n",
    "$ p(6|k=2) = 3.88\\% $\n",
    "\n",
    "$ p(6|k=3) = 1.08\\% $"
   ]
  },
  {
   "cell_type": "markdown",
   "metadata": {},
   "source": [
    "# Question #5 - Naive Bayes"
   ]
  },
  {
   "cell_type": "markdown",
   "metadata": {},
   "source": [
    "### Question 5.1\n",
    "$p(X[1] = 0|Y = 1) = \\frac{4}{5} = 0.800$\n",
    "(5 points where Y = 1, 4 of which have X[1] = 0)"
   ]
  },
  {
   "cell_type": "markdown",
   "metadata": {},
   "source": [
    "### Question 5.2\n",
    "$p(X[2] = 1|Y = 2) = \\frac{1}{3} = 0.333$\n",
    "(3 points where Y = 2, 1 of which have X[2] = 1)"
   ]
  },
  {
   "cell_type": "code",
   "execution_count": 89,
   "metadata": {},
   "outputs": [
    {
     "name": "stdout",
     "output_type": "stream",
     "text": [
      "1\n",
      "2\n",
      "3\n"
     ]
    }
   ],
   "source": [
    "# Data Prep - [x_1, x_2, y_i]\n",
    "dataset = [\n",
    "    [0, 0, 1], # 1\n",
    "    [0, 1, 1], # 2\n",
    "    [0, 1, 1], # 3\n",
    "    [0, 1, 1], # 4\n",
    "    [1, 0, 1], # 5\n",
    "    [1, 0, 2], # 6\n",
    "    [1, 1, 2], # 7\n",
    "    [0, 0, 2], # 8\n",
    "    [1, 0, 3], # 9\n",
    "    [0, 1, 3], # 10\n",
    "]\n",
    "\n",
    "for i in range(dataset.__len__()):\n",
    "    point = dataset[i]\n",
    "    if(point[0] == 1 and point[1] == 0):\n",
    "        print(point[2])"
   ]
  },
  {
   "cell_type": "markdown",
   "metadata": {},
   "source": [
    "# Question #6 - Probabilistic Graphical Models (PGMS)"
   ]
  },
  {
   "cell_type": "code",
   "execution_count": 3,
   "metadata": {},
   "outputs": [
    {
     "ename": "AttributeError",
     "evalue": "'BayesianNetwork' object has no attribute 'render'",
     "output_type": "error",
     "traceback": [
      "\u001b[1;31m---------------------------------------------------------------------------\u001b[0m",
      "\u001b[1;31mAttributeError\u001b[0m                            Traceback (most recent call last)",
      "Input \u001b[1;32mIn [3]\u001b[0m, in \u001b[0;36m<cell line: 12>\u001b[1;34m()\u001b[0m\n\u001b[0;32m      5\u001b[0m \u001b[38;5;28;01mfrom\u001b[39;00m \u001b[38;5;21;01mpgmpy\u001b[39;00m\u001b[38;5;21;01m.\u001b[39;00m\u001b[38;5;21;01mfactors\u001b[39;00m\u001b[38;5;21;01m.\u001b[39;00m\u001b[38;5;21;01mdiscrete\u001b[39;00m \u001b[38;5;28;01mimport\u001b[39;00m TabularCPD\n\u001b[0;32m      7\u001b[0m model \u001b[38;5;241m=\u001b[39m BayesianNetwork([\n\u001b[0;32m      8\u001b[0m     (\u001b[38;5;124m'\u001b[39m\u001b[38;5;124mA\u001b[39m\u001b[38;5;124m'\u001b[39m, \u001b[38;5;124m'\u001b[39m\u001b[38;5;124mB\u001b[39m\u001b[38;5;124m'\u001b[39m),\n\u001b[0;32m      9\u001b[0m     (\u001b[38;5;124m'\u001b[39m\u001b[38;5;124mB\u001b[39m\u001b[38;5;124m'\u001b[39m, \u001b[38;5;124m'\u001b[39m\u001b[38;5;124mC\u001b[39m\u001b[38;5;124m'\u001b[39m),\n\u001b[0;32m     10\u001b[0m     (\u001b[38;5;124m'\u001b[39m\u001b[38;5;124mB\u001b[39m\u001b[38;5;124m'\u001b[39m, \u001b[38;5;124m'\u001b[39m\u001b[38;5;124mD\u001b[39m\u001b[38;5;124m'\u001b[39m),\n\u001b[0;32m     11\u001b[0m ])\n\u001b[1;32m---> 12\u001b[0m \u001b[43mmodel\u001b[49m\u001b[38;5;241;43m.\u001b[39;49m\u001b[43mrender\u001b[49m\n",
      "\u001b[1;31mAttributeError\u001b[0m: 'BayesianNetwork' object has no attribute 'render'"
     ]
    }
   ],
   "source": [
    "# Methodology borrowed heavily from : https://analyticsindiamag.com/guide-to-pgmpy-probabilistic-graphical-models-with-python-code/\n",
    "\n",
    "# Setup the PGM model.\n",
    "from pgmpy.models import BayesianNetwork\n",
    "from pgmpy.factors.discrete import TabularCPD\n",
    "\n",
    "model = BayesianNetwork([\n",
    "    ('A', 'B'),\n",
    "    ('B', 'C'),\n",
    "    ('B', 'D'),\n",
    "])\n",
    "model.render"
   ]
  },
  {
   "cell_type": "code",
   "execution_count": null,
   "metadata": {},
   "outputs": [],
   "source": [
    "# Define the conditional probability tables.\n",
    "table_A = TabularCPD(variable='A')"
   ]
  },
  {
   "cell_type": "markdown",
   "metadata": {},
   "source": [
    "# Question #7 - K-Nearest Neighbors"
   ]
  },
  {
   "cell_type": "code",
   "execution_count": 30,
   "metadata": {},
   "outputs": [],
   "source": [
    "import numpy as np\n",
    "from collections import Counter\n",
    "blue = np.array([[3,4], [4,5], [5,3], [5,4], [6,3], [6,4]])\n",
    "green = np.array([[1,1], [1,3], [2,1], [2,3]])\n",
    "test_data = np.array((6,1))\n",
    "\n",
    "data_points = [[3,4], [4,5], [5,3], [5,4], [6,3], [6,4], [1,4], [2,2], [3,3], [5,1], [4,6], [1,1], [1,3], [2,1], [2,3]]"
   ]
  },
  {
   "cell_type": "code",
   "execution_count": 53,
   "metadata": {},
   "outputs": [],
   "source": [
    "# This function returns the classification color for the test data point.\n",
    "def euclidean_knn(k):\n",
    "    result_list = []\n",
    "    for i in range(data_points.__len__()):\n",
    "        if(i < 6):\n",
    "            point_color = 'blue'\n",
    "        elif(i >= 6 and i < 11):\n",
    "            point_color = 'red'\n",
    "        elif(i >= 11):\n",
    "            point_color = 'green'\n",
    "            \n",
    "        dist = np.linalg.norm(test_data - data_points[i])\n",
    "        \n",
    "        results = {\n",
    "            'point': data_points[i],\n",
    "            'color': point_color,\n",
    "            'dist': dist\n",
    "        }\n",
    "        result_list.append(results.copy())\n",
    "\n",
    "    def sort_dist(e):\n",
    "        return e['dist']\n",
    "\n",
    "    result_list.sort(key=sort_dist)\n",
    "    k_list = result_list[0:k]\n",
    "    for i in range(k_list.__len__()):\n",
    "        print(k_list[i])\n",
    "    color_counts = Counter(e['color'] for e in k_list)\n",
    "    return color_counts.most_common(1)[0][0]\n",
    "        "
   ]
  },
  {
   "cell_type": "code",
   "execution_count": 56,
   "metadata": {},
   "outputs": [
    {
     "name": "stdout",
     "output_type": "stream",
     "text": [
      "{'point': [5, 1], 'color': 'red', 'dist': 1.0}\n",
      "\n",
      "Color Classification for Test Data (k=1): red\n"
     ]
    }
   ],
   "source": [
    "# This is just here to show this code isn't pure BS.\n",
    "k = 1\n",
    "color = euclidean_knn(k)\n",
    "print('\\nColor Classification for Test Data (k=%d): %s' % (k, color))"
   ]
  },
  {
   "cell_type": "code",
   "execution_count": 57,
   "metadata": {},
   "outputs": [
    {
     "name": "stdout",
     "output_type": "stream",
     "text": [
      "{'point': [5, 1], 'color': 'red', 'dist': 1.0}\n",
      "{'point': [6, 3], 'color': 'blue', 'dist': 2.0}\n",
      "{'point': [5, 3], 'color': 'blue', 'dist': 2.23606797749979}\n",
      "\n",
      "Color Classification for Test Data (k=3): blue\n"
     ]
    }
   ],
   "source": [
    "k = 3\n",
    "color = euclidean_knn(k)\n",
    "print('\\nColor Classification for Test Data (k=%d): %s' % (k, color))"
   ]
  },
  {
   "cell_type": "code",
   "execution_count": 58,
   "metadata": {},
   "outputs": [
    {
     "name": "stdout",
     "output_type": "stream",
     "text": [
      "{'point': [5, 1], 'color': 'red', 'dist': 1.0}\n",
      "{'point': [6, 3], 'color': 'blue', 'dist': 2.0}\n",
      "{'point': [5, 3], 'color': 'blue', 'dist': 2.23606797749979}\n",
      "{'point': [6, 4], 'color': 'blue', 'dist': 3.0}\n",
      "{'point': [5, 4], 'color': 'blue', 'dist': 3.1622776601683795}\n",
      "{'point': [3, 3], 'color': 'red', 'dist': 3.605551275463989}\n",
      "{'point': [2, 1], 'color': 'green', 'dist': 4.0}\n",
      "{'point': [2, 2], 'color': 'red', 'dist': 4.123105625617661}\n",
      "{'point': [3, 4], 'color': 'blue', 'dist': 4.242640687119285}\n",
      "{'point': [4, 5], 'color': 'blue', 'dist': 4.47213595499958}\n",
      "{'point': [2, 3], 'color': 'green', 'dist': 4.47213595499958}\n",
      "{'point': [1, 1], 'color': 'green', 'dist': 5.0}\n",
      "{'point': [4, 6], 'color': 'red', 'dist': 5.385164807134504}\n",
      "{'point': [1, 3], 'color': 'green', 'dist': 5.385164807134504}\n",
      "{'point': [1, 4], 'color': 'red', 'dist': 5.830951894845301}\n",
      "\n",
      "Color Classification for Test Data (k=15): blue\n"
     ]
    }
   ],
   "source": [
    "k = 15\n",
    "color = euclidean_knn(k)\n",
    "print('\\nColor Classification for Test Data (k=%d): %s' % (k, color))"
   ]
  },
  {
   "cell_type": "markdown",
   "metadata": {},
   "source": [
    "# Question #8 - Decision Trees"
   ]
  },
  {
   "cell_type": "code",
   "execution_count": 64,
   "metadata": {},
   "outputs": [],
   "source": [
    "from sklearn import tree\n",
    "\n",
    "# Prepare Data & Variables.\n",
    "class_one = [ [3,4], [5,3], [5,4], [6,3], [4,5], [6,5] ] # Blue Points.\n",
    "class_two = [ [2,2], [3,3], [1,4], [5,1], [4,6] ] # Red Points.\n",
    "thresholds = [1.5, 2.5, 3.5, 4.5, 5.5]"
   ]
  },
  {
   "cell_type": "code",
   "execution_count": 65,
   "metadata": {},
   "outputs": [
    {
     "name": "stdout",
     "output_type": "stream",
     "text": [
      "[[3, 4], [5, 3], [5, 4], [6, 3], [4, 5], [6, 5], [2, 2], [3, 3], [1, 4], [5, 1], [4, 6]]\n"
     ]
    }
   ],
   "source": [
    "# Merge the two datapoint types into one list.\n",
    "dataset = class_one.copy()\n",
    "for i in range(class_two.__len__()):\n",
    "    dataset.append(class_two[i])\n",
    "print(dataset)    "
   ]
  },
  {
   "cell_type": "code",
   "execution_count": 68,
   "metadata": {},
   "outputs": [],
   "source": [
    "def calculate_tau_star(tau):\n",
    "    p_prime_total = 0\n",
    "    p_prime_hits = 0\n",
    "    p_double_prime_total = 0\n",
    "    p_double_prime_hits = 0\n",
    "    prime_sum = 0.0\n",
    "    double_prime_sum = 0.0\n",
    "    gini_impurity = 0.0\n",
    "    # Gets the class of the current point.\n",
    "    def get_point_class(point):\n",
    "        if(point in class_one):\n",
    "            return 'class_one'\n",
    "        elif(point in class_two):\n",
    "            return 'class_two'\n",
    "        else:\n",
    "            return 'N/A'\n",
    "\n",
    "    # Gets the class to match against the point's class.\n",
    "    def get_selected_class(c):\n",
    "        if(c == 1):\n",
    "            return 'class_one'\n",
    "        elif(c == 2):\n",
    "            return 'class_two'\n",
    "        else:\n",
    "            return 'N/A'\n",
    "    \n",
    "    for c in range(1, 3):\n",
    "        for i in range(dataset.__len__()):\n",
    "            # Get the specific data & variables we need.\n",
    "            color_class = get_point_class(dataset[i])\n",
    "            selected_class = get_selected_class(c)\n",
    "            y = dataset[i][1]\n",
    "            \n",
    "            # This if statement\n",
    "            if(y > tau):\n",
    "                p_prime_total += 1\n",
    "                if(color_class == selected_class):\n",
    "                    p_prime_hits += 1\n",
    "            elif(y <= tau):\n",
    "                p_double_prime_total += 1\n",
    "                if(color_class == selected_class):\n",
    "                    p_double_prime_hits += 1\n",
    "        p_prime = p_prime_hits/p_prime_total\n",
    "        p_double_prime = p_double_prime_hits/p_double_prime_total\n",
    "        \n",
    "        # Calculate the sums, add them up and print the final result.\n",
    "        prime_sum += p_prime * (1 - p_prime)\n",
    "        double_prime_sum += p_double_prime * (1 - p_double_prime)\n",
    "    gini_impurity = prime_sum + double_prime_sum\n",
    "        \n",
    "    print('Tau* = %0.1f' % tau)\n",
    "    print('Gini Impurity: %0.3f\\n' % gini_impurity)"
   ]
  },
  {
   "cell_type": "code",
   "execution_count": 69,
   "metadata": {},
   "outputs": [
    {
     "name": "stdout",
     "output_type": "stream",
     "text": [
      "Tau* = 1.5\n",
      "Gini Impurity: 0.740\n",
      "\n",
      "Tau* = 2.5\n",
      "Gini Impurity: 0.722\n",
      "\n",
      "Tau* = 3.5\n",
      "Gini Impurity: 0.962\n",
      "\n",
      "Tau* = 4.5\n",
      "Gini Impurity: 0.972\n",
      "\n",
      "Tau* = 5.5\n",
      "Gini Impurity: 0.740\n",
      "\n"
     ]
    }
   ],
   "source": [
    "for i in range(thresholds.__len__()):\n",
    "    calculate_tau_star(thresholds[i])"
   ]
  },
  {
   "cell_type": "markdown",
   "metadata": {},
   "source": [
    "# Question #9 - Perceptron"
   ]
  },
  {
   "cell_type": "markdown",
   "metadata": {},
   "source": [
    "# Bonus #1 - Maximum Likelihood Estimation"
   ]
  },
  {
   "cell_type": "markdown",
   "metadata": {},
   "source": [
    "# Bonus #2 - Neural Net Optimization"
   ]
  }
 ],
 "metadata": {
  "interpreter": {
   "hash": "b0c13ec3ae09ac9f93d430c5e4d30db8ae2d74ae538c6d3710b0e515df26a87c"
  },
  "kernelspec": {
   "display_name": "cse-3521",
   "language": "python",
   "name": "cse-3521"
  },
  "language_info": {
   "codemirror_mode": {
    "name": "ipython",
    "version": 3
   },
   "file_extension": ".py",
   "mimetype": "text/x-python",
   "name": "python",
   "nbconvert_exporter": "python",
   "pygments_lexer": "ipython3",
   "version": "3.9.10"
  }
 },
 "nbformat": 4,
 "nbformat_minor": 2
}
